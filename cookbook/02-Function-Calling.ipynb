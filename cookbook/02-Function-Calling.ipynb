{
 "cells": [
  {
   "cell_type": "markdown",
   "metadata": {},
   "source": [
    "# 函数调用(Function Calling)\n",
    "\n",
    "文心一言提供函数调用功能，模型根据用户需求以及对函数的描述确定何时以及如何调用函数。函数调用功能的典型使用流程如下：\n",
    "\n",
    "(1) 用户提供对一组函数的名称、功能、请求参数（输入参数）和响应参数（返回值）的描述； \n",
    "\n",
    "(2) 模型根据用户需求以及函数描述信息，智能确定是否应该调用函数、调用哪一个函数、以及在调用该函数时需要如何设置输入参数； \n",
    "\n",
    "(3) 用户根据模型的提示调用函数，并将函数的响应传递给模型； \n",
    "\n",
    "(4) 模型综合对话上下文信息，以自然语言形式给出满足用户需求的回答。\n",
    "\n",
    "借由函数调用，用户可以从大模型获取结构化数据，进而利用编程手段将大模型与已有的内外部API结合以构建应用。\n",
    "\n",
    "在ERNIE Bot SDK中，erniebot.ChatCompletion.create接口提供函数调用功能。关于该接口的更多详情请参考ChatCompletion API文档。"
   ]
  },
  {
   "cell_type": "markdown",
   "metadata": {},
   "source": [
    "| 字段名称    | 数据类型 | 字段描述                         |\n",
    "| ------------- | ---------- | ---------------------------------- |\n",
    "| name        | str      | API（函数）名称                  |\n",
    "| description | str      | API(函数）功能描述               |\n",
    "| parameters  | dict     | API(函数）输入参数（以dict输入） |\n",
    "| responses   | dict     | API(函数）输出结果（以dict返回） |\n",
    "\n",
    "parameter 和 responses 的相关字段情况如下\n",
    "\n",
    "| 字段名     | 数据类型  | 描述                                                |\n",
    "| ------------ | ----------- | ----------------------------------------------------- |\n",
    "| type       | str       | 此层级一般为object                                  |\n",
    "| properties | dict      | 变量的详细情况，键为变量名，值为变量的相关信息（dict），该字典详见下表                 |\n",
    "| required   | List[str] | 函数的输入参数中必须含有的变量，responses不含此字段 |\n",
    "\n",
    "对于properties中的变量的字典，相关的键值对如下\n",
    "\n",
    "| properties中的变量字典的元素 | 类型     | 描述                 |\n",
    "| :----------------------------- | ---------- | ---------------------- |\n",
    "| type                         | Required | 此层级一般为string，请注意函数内部转换     |\n",
    "| description                  | Option   | 该变量的描述         |\n",
    "| enum                         | Option   | 该变量的可选参数 |\n",
    "| default                         | Option   | 该变量的默认参数 |\n",
    "\n",
    "以下是一个简单的使用示例\n"
   ]
  },
  {
   "cell_type": "code",
   "execution_count": 66,
   "metadata": {},
   "outputs": [
    {
     "data": {
      "text/plain": [
       "[{'name': 'add_function',\n",
       "  'description': '计算两个数的和',\n",
       "  'parameters': {'type': 'object',\n",
       "   'properties': {'a': {'type': 'string', 'description': '第一个数'},\n",
       "    'b': {'type': 'string', 'description': '第二个数'}},\n",
       "   'required': ['a', 'b']},\n",
       "  'responses': {'type': 'object', 'properties': {}}},\n",
       " {'name': 'minus_function',\n",
       "  'description': '计算两个数的差',\n",
       "  'parameters': {'type': 'object',\n",
       "   'properties': {'a': {'type': 'string', 'description': '第一个数'},\n",
       "    'b': {'type': 'string', 'default': '1.0'}},\n",
       "   'required': ['a']},\n",
       "  'responses': {'type': 'object', 'properties': {}}}]"
      ]
     },
     "execution_count": 66,
     "metadata": {},
     "output_type": "execute_result"
    }
   ],
   "source": [
    "from typing import List\n",
    "class function_solver:\n",
    "    def __init__(self):\n",
    "        self.functions = []\n",
    "\n",
    "    def add(\n",
    "        self,\n",
    "        name: str,\n",
    "        description:str,\n",
    "        parameters:dict,\n",
    "        responses:dict\n",
    "    ):\n",
    "        \"\"\"\n",
    "        name[str]: API（函数）名称 \n",
    "        description[str]: API（函数）功能描述 \n",
    "        parameters[dict]: API（函数）输入参数，以字典的形式输入，参数名称为key，value必须含有type，properties\n",
    "        responses[dict]: API（函数）输出结果，以字典的形式输出，参数名称为key，value必须含有type，properties\n",
    "        \"\"\"\n",
    "        if 'type' not in parameters: \n",
    "            raise ValueError(f\"Response 'parameters' must include 'type' field.\")\n",
    "        if 'type' not in responses:\n",
    "            raise ValueError(f\"Response 'responses' must include 'type' field.\")\n",
    "\n",
    "        self.functions.append({\n",
    "            'name': name,\n",
    "            'description': description,\n",
    "            'parameters': parameters,\n",
    "            'responses': responses\n",
    "        })\n",
    "    \n",
    "    def fit(self) -> List[dict]:\n",
    "        return self.functions\n",
    "def add_function(a:str,b:str):\n",
    "    return float(a) + float(b)\n",
    "\n",
    "functions = function_solver()\n",
    "\n",
    "functions.add(\n",
    "    name = 'add_function',\n",
    "    description = \"计算两个数的和\",\n",
    "    parameters = {\n",
    "                'type': 'object',\n",
    "                'properties': {\n",
    "                    'a': {\n",
    "                        'type': 'string',\n",
    "                        'description': \"第一个数\",\n",
    "                    },\n",
    "                    'b': {\n",
    "                        'type': 'string',\n",
    "                        'description': \"第二个数\",\n",
    "                    },\n",
    "                },\n",
    "                'required': [\n",
    "                    'a',\n",
    "                    'b',\n",
    "                ],\n",
    "            },\n",
    "    responses = {\n",
    "                'type': 'object',\n",
    "                'properties': {},\n",
    "            }, \n",
    ")\n",
    "\n",
    "def minus_function(a:str,b:str = '1.0'):\n",
    "    return float(a) - float(b)\n",
    "\n",
    "functions.add(\n",
    "    name = 'minus_function',\n",
    "    description = \"计算两个数的差\",\n",
    "    parameters = {\n",
    "                'type': 'object',\n",
    "                'properties': {\n",
    "                    'a': {\n",
    "                        'type': 'string',\n",
    "                        'description':'第一个数'\n",
    "                    },\n",
    "                    'b': {\n",
    "                        'type': 'string',\n",
    "                        'default':'1.0'\n",
    "                    },\n",
    "                },\n",
    "                'required': [\n",
    "                    'a',\n",
    "                ],\n",
    "            },\n",
    "    responses = {\n",
    "                'type': 'object',\n",
    "                'properties': {},\n",
    "            }, \n",
    ")\n",
    "\n",
    "functions.fit()"
   ]
  },
  {
   "cell_type": "markdown",
   "metadata": {},
   "source": [
    "在有了添加完function之后，即可调用function calling功能让大模型进行思考以及决策"
   ]
  },
  {
   "cell_type": "code",
   "execution_count": 67,
   "metadata": {},
   "outputs": [
    {
     "name": "stdout",
     "output_type": "stream",
     "text": [
      "{'name': 'add_function', 'thoughts': '用户的问题是关于1加2的计算，我可以使用add_function工具来计算这两个数的和。', 'arguments': '{\"a\":\"1\",\"b\":\"2\"}'}\n"
     ]
    }
   ],
   "source": [
    "import erniebot,os\n",
    "os.environ['EB_ACCESS_TOKEN']='d86186382de8cceb4512efbd774b74ea72f3a9f5'\n",
    "erniebot.api_type = 'aistudio'\n",
    "erniebot.access_token = os.getenv(\"EB_ACCESS_TOKEN\")\n",
    "\n",
    "response = erniebot.ChatCompletion.create(\n",
    "    model='ernie-bot',\n",
    "    messages=[{\n",
    "        'role': 'user',\n",
    "        'content': \"1加2等于多少\",\n",
    "    }, ],\n",
    "    functions = functions.fit(),\n",
    ")\n",
    "print(response.get_result())"
   ]
  },
  {
   "cell_type": "markdown",
   "metadata": {},
   "source": [
    "最后可以通过以下函数进行执行，获取最终想要的结果"
   ]
  },
  {
   "cell_type": "code",
   "execution_count": 68,
   "metadata": {},
   "outputs": [
    {
     "data": {
      "text/plain": [
       "3.0"
      ]
     },
     "execution_count": 68,
     "metadata": {},
     "output_type": "execute_result"
    }
   ],
   "source": [
    "eval(response.get_result()['name'])(**eval(response.get_result()['arguments']))"
   ]
  },
  {
   "cell_type": "markdown",
   "metadata": {},
   "source": [
    "目前function call有点问题 \n",
    "如1+2不行 必须要1加2  \n",
    "北京今天天气怎么样不行，北京今天气温怎么样才可以"
   ]
  }
 ],
 "metadata": {
  "kernelspec": {
   "display_name": "ernie",
   "language": "python",
   "name": "python3"
  },
  "language_info": {
   "codemirror_mode": {
    "name": "ipython",
    "version": 3
   },
   "file_extension": ".py",
   "mimetype": "text/x-python",
   "name": "python",
   "nbconvert_exporter": "python",
   "pygments_lexer": "ipython3",
   "version": "3.10.13"
  }
 },
 "nbformat": 4,
 "nbformat_minor": 2
}
