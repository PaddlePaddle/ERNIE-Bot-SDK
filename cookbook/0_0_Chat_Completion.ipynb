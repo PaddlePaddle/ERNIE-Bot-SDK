{
 "cells": [
  {
   "cell_type": "markdown",
   "metadata": {},
   "source": [
    "# 对话补全(Chat Completion)\n",
    "Chat Completion模型包括以下三类，用户可自行选择哪一类模型\n",
    "\n",
    "* ernie-bot             文心一言旗舰模型（ernie-bot）\n",
    "\n",
    "* ernie-bot-turbo       文心一言轻量模型（ernie-bot-turbo）\n",
    "\n",
    "* ernie-bot-4           文心一言4.0模型（ernie-bot-4）\n"
   ]
  },
  {
   "cell_type": "code",
   "execution_count": 3,
   "metadata": {},
   "outputs": [
    {
     "name": "stdout",
     "output_type": "stream",
     "text": [
      "模型名称：文心一言旗舰版,   API_MODEL名称：ernie-bot\n",
      "模型名称：文心一言轻量版,   API_MODEL名称：ernie-bot-turbo\n",
      "模型名称：基于文心大模型4.0版本的文心一言,   API_MODEL名称：ernie-bot-4\n",
      "模型名称：文心百中语义模型,   API_MODEL名称：ernie-text-embedding\n",
      "模型名称：文心一格模型,   API_MODEL名称：ernie-vilg-v2\n"
     ]
    }
   ],
   "source": [
    "import erniebot,os\n",
    "models = erniebot.Model.list()\n",
    "for i in range(len(models)):\n",
    "    print(f\"模型名称：{models[i][1]},   API_MODEL名称：{models[i][0]}\")"
   ]
  },
  {
   "cell_type": "markdown",
   "metadata": {},
   "source": [
    "首先需要申请以及配置ACCESS_TOKEN，具体请参考[认证鉴权](../docs/authentication.md)，然后将其配置到系统环境变量，或者直接在函数调用中指定"
   ]
  },
  {
   "cell_type": "code",
   "execution_count": 1,
   "metadata": {},
   "outputs": [],
   "source": [
    "erniebot.api_type = 'aistudio'\n",
    "erniebot.access_token = os.getenv(\"EB_ACCESS_TOKEN\")"
   ]
  },
  {
   "cell_type": "markdown",
   "metadata": {},
   "source": [
    "ernie-bot: 文心一言旗舰模型"
   ]
  },
  {
   "cell_type": "code",
   "execution_count": 7,
   "metadata": {},
   "outputs": [
    {
     "name": "stdout",
     "output_type": "stream",
     "text": [
      "百度高楼立，信息丰富多。\n",
      "搜索引擎鼎盛，知识库无限多。\n",
      "万千用户信赖，每时每刻在线。\n",
      "服务全球各地，为人类知识铺路。\n"
     ]
    }
   ],
   "source": [
    "chat_message = [\n",
    "    {'role': 'user', 'content': \"请给百度写一首诗\"}\n",
    "]\n",
    "response = erniebot.ChatCompletion.create(model='ernie-bot', \n",
    "                                          messages=chat_message)\n",
    "print(response.get_result())"
   ]
  },
  {
   "cell_type": "markdown",
   "metadata": {},
   "source": [
    "ernie-bot-turbo: 文心一言轻量版模型"
   ]
  },
  {
   "cell_type": "code",
   "execution_count": 8,
   "metadata": {},
   "outputs": [
    {
     "name": "stdout",
     "output_type": "stream",
     "text": [
      "百度如海纳百川，\n",
      "科技之舟航向前。\n",
      "搜索答案如探囊，\n",
      "知识之库任我观。\n",
      "\n",
      "人工智能领风骚，\n",
      "智能问答解疑难。\n",
      "信息时代先锋者，\n",
      "创新引领未来篇。\n"
     ]
    }
   ],
   "source": [
    "chat_message = [\n",
    "    {'role': 'user', 'content': \"请给百度写一首诗\"}\n",
    "]\n",
    "response = erniebot.ChatCompletion.create(model='ernie-bot-turbo', \n",
    "                                          messages=chat_message)\n",
    "print(response.get_result())"
   ]
  },
  {
   "cell_type": "markdown",
   "metadata": {},
   "source": [
    "ernie-bot-4: 基于文心大模型4.0版本的文心一言"
   ]
  },
  {
   "cell_type": "code",
   "execution_count": 12,
   "metadata": {},
   "outputs": [
    {
     "name": "stdout",
     "output_type": "stream",
     "text": [
      "百度\n",
      "百度搜索引擎强，信息丰富多样长。\n",
      "万千用户信赖它，快速准确找答案。\n"
     ]
    }
   ],
   "source": [
    "chat_message = [\n",
    "    {'role': 'user', 'content': \"请给百度写一首诗\"}\n",
    "]\n",
    "response = erniebot.ChatCompletion.create(model='ernie-bot-4', \n",
    "                                          messages=chat_message)\n",
    "print(response.get_result())"
   ]
  },
  {
   "cell_type": "markdown",
   "metadata": {},
   "source": [
    "## 多轮对话\n",
    "基于普通API的调用仅支持单轮问答，如果需要进一步使用多轮对话，请使用以下推荐代码"
   ]
  },
  {
   "cell_type": "code",
   "execution_count": null,
   "metadata": {},
   "outputs": [],
   "source": [
    "import os\n",
    "os.environ['AK'] = 'xyyIHrS3mO7CfMP0421tNLH0'\n",
    "os.environ['SK'] = \"a3cI8CZcXbyRTOz5QbFi2oooU92cNL4n\""
   ]
  },
  {
   "cell_type": "code",
   "execution_count": 11,
   "metadata": {},
   "outputs": [
    {
     "name": "stdout",
     "output_type": "stream",
     "text": [
      "百度\n",
      "百度搜索万象新，信息丰富无边际。 一搜即得千万答，知识渊博难相匹。 网络世界任我行，寻找答案如觅秘。 方便快捷人称赞，服务周到心满意。\n"
     ]
    }
   ],
   "source": [
    "class ERNIE:\n",
    "    def __init__(self,\n",
    "                 model: str,\n",
    "                 access_token: str = None\n",
    "            ) -> None:\n",
    "        self.chat_history = []\n",
    "        self.model = model\n",
    "        erniebot.api_type = 'aistudio'\n",
    "        erniebot.access_token = os.getenv(\"EB_ACCESS_TOKEN\")\n",
    "        # erniebot.access_token = access_token 也可以选择直接指定\n",
    "\n",
    "    def chat(self,query:str) -> str:\n",
    "        \"Use this function to chat with ERNIE BOT\"\n",
    "        self.chat_history.append({'role': 'user', 'content': query})\n",
    "        response = erniebot.ChatCompletion.create(\n",
    "                model=self.model, \n",
    "                messages=self.chat_history)\n",
    "        self.chat_history.append({'role': 'assistant', 'content': response.get_result()})\n",
    "        return response.get_result()\n",
    "    \n",
    "    def clear(self):\n",
    "        self.chat_history = []\n",
    "\n",
    "ERNIE_BOT = ERNIE(model='ernie-bot-4')\n",
    "print(ERNIE_BOT.chat('请给百度写一首诗'))\n",
    "        "
   ]
  },
  {
   "cell_type": "code",
   "execution_count": 13,
   "metadata": {},
   "outputs": [
    {
     "data": {
      "text/plain": [
       "'前两句“百度搜索万象新，信息丰富无边际。”的意思是，百度搜索引擎中的搜索结果非常丰富和新颖，信息的数量庞大，范围广阔，几乎没有边界。这表达了百度搜索引擎的强大功能和信息的丰富多样。'"
      ]
     },
     "execution_count": 13,
     "metadata": {},
     "output_type": "execute_result"
    }
   ],
   "source": [
    "ERNIE_BOT.chat('帮我解释一下前两句')"
   ]
  },
  {
   "cell_type": "code",
   "execution_count": 15,
   "metadata": {},
   "outputs": [
    {
     "data": {
      "text/plain": [
       "'百度文心一言妙，智能问答知识滔。搜索结果万象新，一言解释疑云消。信息丰富无边际，网络世界任意飘。方便快捷人赞誉，服务周到乐逍遥。'"
      ]
     },
     "execution_count": 15,
     "metadata": {},
     "output_type": "execute_result"
    }
   ],
   "source": [
    "ERNIE_BOT.chat('请帮我加入文心一言的元素后，重新写一首诗')"
   ]
  }
 ],
 "metadata": {
  "kernelspec": {
   "display_name": "ernie",
   "language": "python",
   "name": "python3"
  },
  "language_info": {
   "codemirror_mode": {
    "name": "ipython",
    "version": 3
   },
   "file_extension": ".py",
   "mimetype": "text/x-python",
   "name": "python",
   "nbconvert_exporter": "python",
   "pygments_lexer": "ipython3",
   "version": "3.10.13"
  }
 },
 "nbformat": 4,
 "nbformat_minor": 2
}
