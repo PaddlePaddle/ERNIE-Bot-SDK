{
 "cells": [
  {
   "cell_type": "markdown",
   "metadata": {},
   "source": [
    "# 图片生成(Image Generation)\n",
    "ERNIE Bot SDK提供具备文生图能力的**ernie-vilg-v2**大模型。\n",
    "\n",
    "我们推荐两个撰写文生图提示词的文档，大家可以组合使用，创作出更加精美的图片。\n",
    "\n",
    "* [AI作画-基础版使用指南](https://ai.baidu.com/ai-doc/NLP/qlakgh129)\n",
    "* [AI作画-高级版使用指南](https://ai.baidu.com/ai-doc/NLP/4libyluzs)\n",
    "\n",
    "大家也可登陆[文心一格](https://yige.baidu.com/)平台，体验更多AI艺术与创意辅助的能力。"
   ]
  },
  {
   "cell_type": "markdown",
   "metadata": {},
   "source": [
    "\n",
    "该模型具备丰富的风格与强大的中文理解能力，支持生成多种尺寸的图片。\n",
    "\n",
    "先需在智能创作页面中[开通AI绘画服务](https://console.bce.baidu.com/ai/#/ai/intelligentwriting/overview/index),激活AI绘画-高级功能后，将AK，以及SK设置好之后即可调用"
   ]
  },
  {
   "cell_type": "code",
   "execution_count": 9,
   "metadata": {},
   "outputs": [
    {
     "data": {
      "text/html": [
       "<img src=\"http://aigc-t2p.bj.bcebos.com/artist-long/118236984_0_final.png?authorization=bce-auth-v1%2F174bf5e9a7a84f55a8e85b1cc5d62b1d%2F2023-11-06T12%3A01%3A57Z%2F3600%2Fhost%2F97edbc6eea3be6edd5e09b3ea7f7b3925709e3c5ce6ea94782aff4222fb4ed2e\"/>"
      ],
      "text/plain": [
       "<IPython.core.display.Image object>"
      ]
     },
     "execution_count": 9,
     "metadata": {},
     "output_type": "execute_result"
    }
   ],
   "source": [
    "import erniebot,os\n",
    "from IPython.display import Image\n",
    "# 需更改api_type\n",
    "erniebot.api_type = 'yinian'\n",
    "erniebot.access_token = None\n",
    "erniebot.ak = os.getenv('AK')\n",
    "erniebot.sk = os.getenv('SK')\n",
    "\n",
    "response = erniebot.Image.create(\n",
    "    model='ernie-vilg-v2',\n",
    "    prompt=\"一座梦幻的海滨城市\",\n",
    "    width=512,\n",
    "    height=512\n",
    ")\n",
    "\n",
    "Image(url=response.get_result()[0])"
   ]
  },
  {
   "cell_type": "markdown",
   "metadata": {},
   "source": [
    "也可以先使用文心大模型帮助您生成一个prompt之后，再放入一帆大模型以获得更高质量的图片"
   ]
  },
  {
   "cell_type": "code",
   "execution_count": 8,
   "metadata": {},
   "outputs": [
    {
     "name": "stdout",
     "output_type": "stream",
     "text": [
      "绘画指令：画一座梦幻风格的海滨城市，画面主体是高楼大厦和海浪，细节包括云彩、海鸥和沙滩上的贝壳，色彩柔和且带有神秘感。\n"
     ]
    },
    {
     "data": {
      "text/html": [
       "<img src=\"http://aigc-t2p.bj.bcebos.com/artist-long/118236926_0_final.png?authorization=bce-auth-v1%2F174bf5e9a7a84f55a8e85b1cc5d62b1d%2F2023-11-06T12%3A01%3A41Z%2F3600%2Fhost%2F3c95db9ce62e0a1cbc183964f8df5e6aeab75f0af39a07c447bd75647c71c12a\"/>"
      ],
      "text/plain": [
       "<IPython.core.display.Image object>"
      ]
     },
     "execution_count": 8,
     "metadata": {},
     "output_type": "execute_result"
    }
   ],
   "source": [
    "erniebot.api_type = 'aistudio'\n",
    "erniebot.access_token = os.getenv(\"EB_ACCESS_TOKEN\")\n",
    "PROMPT = \"请你帮我把以下输入改为一条绘画指令，要求包含画面主体，细节词，风格词，如果输入中没有提及，则自己想象，输出只需要绘画指令。\\nInput:{INPUT}\\nOutput:\"\n",
    "prompt = erniebot.ChatCompletion.create(model='ernie-bot-4', messages= [{'role': 'user', 'content': PROMPT.format(INPUT = \"一座梦幻风格的海滨城市\")}]).get_result()\n",
    "print(prompt)\n",
    "erniebot.access_token = None\n",
    "erniebot.api_type = 'yinian'\n",
    "response = erniebot.Image.create(\n",
    "    model='ernie-vilg-v2',\n",
    "    prompt=prompt,\n",
    "    width=512,\n",
    "    height=512\n",
    ")\n",
    "\n",
    "Image(url=response.get_result()[0])"
   ]
  }
 ],
 "metadata": {
  "kernelspec": {
   "display_name": "ernie",
   "language": "python",
   "name": "python3"
  },
  "language_info": {
   "codemirror_mode": {
    "name": "ipython",
    "version": 3
   },
   "file_extension": ".py",
   "mimetype": "text/x-python",
   "name": "python",
   "nbconvert_exporter": "python",
   "pygments_lexer": "ipython3",
   "version": "3.10.13"
  }
 },
 "nbformat": 4,
 "nbformat_minor": 2
}
