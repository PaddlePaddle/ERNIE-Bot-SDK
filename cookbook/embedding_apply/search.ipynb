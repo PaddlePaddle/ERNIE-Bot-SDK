{
 "cells": [
  {
   "cell_type": "markdown",
   "metadata": {},
   "source": [
    "# 使用Embedding进行文章搜索\n",
    "这个Notebook主要用于使用Embedding进行文章搜索，并应用文心大模型进行回答[Question Answering](../Question_Answering_using_embedding.ipynb)\n",
    "\n",
    "主要步骤有:\n",
    "1. 获取要使用的后端的鉴权参数，请参考[认证鉴权文档](../../docs/authentication.md)。\n",
    "2. 使用维基百科API获取相关文章\n",
    "3. 对文章从小标题的层级进行切片\n",
    "4. 调用文心百中语义模型获得Embedding并存储"
   ]
  },
  {
   "cell_type": "code",
   "execution_count": 36,
   "metadata": {},
   "outputs": [],
   "source": [
    "import time,math,erniebot,os\n",
    "from tqdm import tqdm\n",
    "import pandas as pd\n",
    "from typing import List\n",
    "from tqdm import tqdm\n",
    "\n",
    "erniebot.api_type = 'aistudio'\n",
    "erniebot.access_token = os.getenv(\"EB_ACCESS_TOKEN\")\n",
    "\n",
    "def get_embedding(word: List[str]) -> List[float]:\n",
    "    if len(word) <= 16:\n",
    "        embedding = erniebot.Embedding.create(\n",
    "                                            model = 'ernie-text-embedding',\n",
    "                                            input = word\n",
    "                                            ).get_result()\n",
    "    else:\n",
    "        size = len(word)\n",
    "        embedding = []\n",
    "        for i in tqdm(range(math.ceil(size / 16))):\n",
    "            embedding.extend(erniebot.Embedding.create(model = 'ernie-text-embedding', input = word[i*16:(i+1)*16]).get_result())\n",
    "            time.sleep(1)\n",
    "    return embedding"
   ]
  },
  {
   "cell_type": "code",
   "execution_count": 32,
   "metadata": {},
   "outputs": [
    {
     "data": {
      "text/plain": [
       "(3910, 3)"
      ]
     },
     "execution_count": 32,
     "metadata": {},
     "output_type": "execute_result"
    }
   ],
   "source": [
    "# 文章来源为维基百科的2020奥林匹克相关词条，已经按照小标题将文章进行的切分(chunk)，共计3910个片段\n",
    "df = pd.read_csv('../data/olympics_data.csv')\n",
    "df.shape"
   ]
  },
  {
   "cell_type": "code",
   "execution_count": 39,
   "metadata": {},
   "outputs": [
    {
     "data": {
      "text/plain": [
       "'The 2020 Summer Olympics (Japanese: 2020年夏季オリンピック, Hepburn: Nisen Nijū-nen Kaki Orinpikku), officially the Games of the XXXII Olympiad (第三十二回オリンピック競技大会, Dai Sanjūni-kai Orinpikku Kyōgi Taikai) and also known as Tokyo 2020 (東京2020, Tōkyō Nii Zero Nii Zero), was an international multi-sport event held from 23 July to 8 August 2021 in Tokyo, Japan, with some preliminary events that began on 21 July 2021. Tokyo was selected as the host city during the 125th IOC Session in Buenos Aires, Argentina, on 7 September 2013.The Games were originally scheduled to take place from 24 July to 9 August 2020, but due to the global COVID-19 pandemic, on 24 March 2020 the event was postponed to 2021, the first such instance in the history of the Olympic Games (previous games had been cancelled but not rescheduled). However, the event retained the Tokyo 2020 branding for marketing purposes. It was largely held behind closed doors with no public spectators permitted due to the declaration of a state of emergency in the Greater Tokyo Area in response to the pandemic, the first and only Olympic Games to be held without official spectators. The Games were the most expensive ever, with total spending of over $20 billion.The Games were the fourth Olympic Games to be held in Japan, following the 1964 Summer Olympics (Tokyo), 1972 Winter Olympics (Sapporo), and 1998 Winter Olympics (Nagano). Tokyo became the first city in Asia to hold the Summer Olympic Games twice. The 2020 Games were the second of three consecutive Olympics to be held in East Asia, following the 2018 Winter Olympics in Pyeongchang, South Korea and preceding the 2022 Winter Olympics in Beijing, China. Due to the one-year postponement, Tokyo 2020 was the first and only Olympic Games to have been held in an odd-numbered year and the first Summer Olympics since 1900 to be held in a non-leap year.\\nNew events were introduced in existing sports, including 3x3 basketball, freestyle BMX and mixed gender team events in a number of existing sports, as well as the return of madison cycling for men and an introduction of the same event for women. New IOC policies also allowed the host organizing committee to add new sports to the Olympic program for just one Games. The disciplines added by the Japanese Olympic Committee were baseball and softball, karate, sport climbing, surfing and skateboarding, the last four of which made their Olympic debuts, and the last three of which will remain on the Olympic program.The United States topped the medal count by both total golds (39) and total medals (113), with China finishing second by both respects (38 and 89). Host nation Japan finished third, setting a record for the most gold medals and total medals ever won by their delegation at an Olympic Games with 27 and 58. Great Britain finished fourth, with a total of 22 gold and 64 medals. The Russian delegation competing as the ROC finished fifth with 20 gold medals and third in the overall medal count, with 71 medals. Bermuda, the Philippines and Qatar won their first-ever Olympic gold medals. Burkina Faso, San Marino and Turkmenistan also won their first-ever Olympic medals.'"
      ]
     },
     "execution_count": 39,
     "metadata": {},
     "output_type": "execute_result"
    }
   ],
   "source": [
    "df.content.to_list()[0]"
   ]
  },
  {
   "cell_type": "code",
   "execution_count": 37,
   "metadata": {},
   "outputs": [
    {
     "name": "stderr",
     "output_type": "stream",
     "text": [
      "  0%|          | 0/245 [00:00<?, ?it/s]"
     ]
    },
    {
     "name": "stderr",
     "output_type": "stream",
     "text": [
      "  0%|          | 0/245 [00:00<?, ?it/s]\n"
     ]
    },
    {
     "ename": "InvalidParameterError",
     "evalue": "embeddings max tokens per batch size is 384",
     "output_type": "error",
     "traceback": [
      "\u001b[0;31m---------------------------------------------------------------------------\u001b[0m",
      "\u001b[0;31mInvalidParameterError\u001b[0m                     Traceback (most recent call last)",
      "\u001b[1;32m/Users/tanzhehao/Documents/ERINE/ERNIE-Bot-SDK/cookbook/embedding_apply/search.ipynb 单元格 5\u001b[0m line \u001b[0;36m1\n\u001b[0;32m----> <a href='vscode-notebook-cell:/Users/tanzhehao/Documents/ERINE/ERNIE-Bot-SDK/cookbook/embedding_apply/search.ipynb#X13sZmlsZQ%3D%3D?line=0'>1</a>\u001b[0m olympics_doc \u001b[39m=\u001b[39m get_embedding(df\u001b[39m.\u001b[39;49mcontent\u001b[39m.\u001b[39;49mto_list())\n",
      "\u001b[1;32m/Users/tanzhehao/Documents/ERINE/ERNIE-Bot-SDK/cookbook/embedding_apply/search.ipynb 单元格 5\u001b[0m line \u001b[0;36m2\n\u001b[1;32m     <a href='vscode-notebook-cell:/Users/tanzhehao/Documents/ERINE/ERNIE-Bot-SDK/cookbook/embedding_apply/search.ipynb#X13sZmlsZQ%3D%3D?line=17'>18</a>\u001b[0m     embedding \u001b[39m=\u001b[39m []\n\u001b[1;32m     <a href='vscode-notebook-cell:/Users/tanzhehao/Documents/ERINE/ERNIE-Bot-SDK/cookbook/embedding_apply/search.ipynb#X13sZmlsZQ%3D%3D?line=18'>19</a>\u001b[0m     \u001b[39mfor\u001b[39;00m i \u001b[39min\u001b[39;00m tqdm(\u001b[39mrange\u001b[39m(math\u001b[39m.\u001b[39mceil(size \u001b[39m/\u001b[39m \u001b[39m16\u001b[39m))):\n\u001b[0;32m---> <a href='vscode-notebook-cell:/Users/tanzhehao/Documents/ERINE/ERNIE-Bot-SDK/cookbook/embedding_apply/search.ipynb#X13sZmlsZQ%3D%3D?line=19'>20</a>\u001b[0m         embedding\u001b[39m.\u001b[39mextend(erniebot\u001b[39m.\u001b[39;49mEmbedding\u001b[39m.\u001b[39;49mcreate(model \u001b[39m=\u001b[39;49m \u001b[39m'\u001b[39;49m\u001b[39mernie-text-embedding\u001b[39;49m\u001b[39m'\u001b[39;49m, \u001b[39minput\u001b[39;49m \u001b[39m=\u001b[39;49m word[i\u001b[39m*\u001b[39;49m\u001b[39m16\u001b[39;49m:(i\u001b[39m+\u001b[39;49m\u001b[39m1\u001b[39;49m)\u001b[39m*\u001b[39;49m\u001b[39m16\u001b[39;49m])\u001b[39m.\u001b[39mget_result())\n\u001b[1;32m     <a href='vscode-notebook-cell:/Users/tanzhehao/Documents/ERINE/ERNIE-Bot-SDK/cookbook/embedding_apply/search.ipynb#X13sZmlsZQ%3D%3D?line=20'>21</a>\u001b[0m         time\u001b[39m.\u001b[39msleep(\u001b[39m1\u001b[39m)\n\u001b[1;32m     <a href='vscode-notebook-cell:/Users/tanzhehao/Documents/ERINE/ERNIE-Bot-SDK/cookbook/embedding_apply/search.ipynb#X13sZmlsZQ%3D%3D?line=21'>22</a>\u001b[0m \u001b[39mreturn\u001b[39;00m embedding\n",
      "File \u001b[0;32m/opt/anaconda3/envs/ernie/lib/python3.10/site-packages/erniebot/resources/abc/creatable.py:32\u001b[0m, in \u001b[0;36mCreatable.create\u001b[0;34m(cls, **kwargs)\u001b[0m\n\u001b[1;32m     30\u001b[0m resource \u001b[39m=\u001b[39m \u001b[39mcls\u001b[39m\u001b[39m.\u001b[39mnew_object(\u001b[39m*\u001b[39m\u001b[39m*\u001b[39mconfig)\n\u001b[1;32m     31\u001b[0m create_kwargs \u001b[39m=\u001b[39m kwargs\n\u001b[0;32m---> 32\u001b[0m \u001b[39mreturn\u001b[39;00m resource\u001b[39m.\u001b[39;49mcreate_resource(\u001b[39m*\u001b[39;49m\u001b[39m*\u001b[39;49mcreate_kwargs)\n",
      "File \u001b[0;32m/opt/anaconda3/envs/ernie/lib/python3.10/site-packages/erniebot/resources/abc/creatable.py:49\u001b[0m, in \u001b[0;36mCreatable.create_resource\u001b[0;34m(self, **create_kwargs)\u001b[0m\n\u001b[1;32m     44\u001b[0m \u001b[39mdef\u001b[39;00m \u001b[39mcreate_resource\u001b[39m(\n\u001b[1;32m     45\u001b[0m         \u001b[39mself\u001b[39m,\n\u001b[1;32m     46\u001b[0m         \u001b[39m*\u001b[39m\u001b[39m*\u001b[39mcreate_kwargs: Any) \u001b[39m-\u001b[39m\u001b[39m>\u001b[39m Union[EBResponse, Iterator[EBResponse]]:\n\u001b[1;32m     47\u001b[0m     url, params, headers, files, stream, request_timeout \u001b[39m=\u001b[39m \u001b[39mself\u001b[39m\u001b[39m.\u001b[39m_prepare_create(\n\u001b[1;32m     48\u001b[0m         create_kwargs)\n\u001b[0;32m---> 49\u001b[0m     resp \u001b[39m=\u001b[39m \u001b[39mself\u001b[39;49m\u001b[39m.\u001b[39;49mrequest(\n\u001b[1;32m     50\u001b[0m         method\u001b[39m=\u001b[39;49m\u001b[39m'\u001b[39;49m\u001b[39mPOST\u001b[39;49m\u001b[39m'\u001b[39;49m,\n\u001b[1;32m     51\u001b[0m         url\u001b[39m=\u001b[39;49murl,\n\u001b[1;32m     52\u001b[0m         stream\u001b[39m=\u001b[39;49mstream,\n\u001b[1;32m     53\u001b[0m         params\u001b[39m=\u001b[39;49mparams,\n\u001b[1;32m     54\u001b[0m         headers\u001b[39m=\u001b[39;49mheaders,\n\u001b[1;32m     55\u001b[0m         files\u001b[39m=\u001b[39;49mfiles,\n\u001b[1;32m     56\u001b[0m         request_timeout\u001b[39m=\u001b[39;49mrequest_timeout)\n\u001b[1;32m     57\u001b[0m     \u001b[39m# See https://github.com/python/mypy/issues/1533\u001b[39;00m\n\u001b[1;32m     58\u001b[0m     resp \u001b[39m=\u001b[39m \u001b[39mself\u001b[39m\u001b[39m.\u001b[39m_postprocess_create(resp)  \u001b[39m# type: ignore\u001b[39;00m\n",
      "File \u001b[0;32m/opt/anaconda3/envs/ernie/lib/python3.10/site-packages/erniebot/resources/resource.py:134\u001b[0m, in \u001b[0;36mEBResource.request\u001b[0;34m(self, method, url, stream, params, headers, files, request_timeout)\u001b[0m\n\u001b[1;32m    119\u001b[0m \u001b[39m@final\u001b[39m\n\u001b[1;32m    120\u001b[0m \u001b[39mdef\u001b[39;00m \u001b[39mrequest\u001b[39m(\n\u001b[1;32m    121\u001b[0m         \u001b[39mself\u001b[39m,\n\u001b[0;32m   (...)\u001b[0m\n\u001b[1;32m    131\u001b[0m            Iterator[EBResponse],\n\u001b[1;32m    132\u001b[0m            ]:\n\u001b[1;32m    133\u001b[0m     \u001b[39mif\u001b[39;00m \u001b[39mself\u001b[39m\u001b[39m.\u001b[39mtimeout \u001b[39mis\u001b[39;00m \u001b[39mNone\u001b[39;00m:\n\u001b[0;32m--> 134\u001b[0m         \u001b[39mreturn\u001b[39;00m \u001b[39mself\u001b[39;49m\u001b[39m.\u001b[39;49m_request(\n\u001b[1;32m    135\u001b[0m             method\u001b[39m=\u001b[39;49mmethod,\n\u001b[1;32m    136\u001b[0m             url\u001b[39m=\u001b[39;49murl,\n\u001b[1;32m    137\u001b[0m             stream\u001b[39m=\u001b[39;49mstream,\n\u001b[1;32m    138\u001b[0m             params\u001b[39m=\u001b[39;49mparams,\n\u001b[1;32m    139\u001b[0m             headers\u001b[39m=\u001b[39;49mheaders,\n\u001b[1;32m    140\u001b[0m             files\u001b[39m=\u001b[39;49mfiles,\n\u001b[1;32m    141\u001b[0m             request_timeout\u001b[39m=\u001b[39;49mrequest_timeout,\n\u001b[1;32m    142\u001b[0m         )\n\u001b[1;32m    143\u001b[0m     \u001b[39melse\u001b[39;00m:\n\u001b[1;32m    144\u001b[0m         st_time \u001b[39m=\u001b[39m time\u001b[39m.\u001b[39mtime()\n",
      "File \u001b[0;32m/opt/anaconda3/envs/ernie/lib/python3.10/site-packages/erniebot/resources/resource.py:363\u001b[0m, in \u001b[0;36mEBResource._request\u001b[0;34m(self, method, url, stream, params, headers, files, request_timeout)\u001b[0m\n\u001b[1;32m    350\u001b[0m \u001b[39m@final\u001b[39m\n\u001b[1;32m    351\u001b[0m \u001b[39mdef\u001b[39;00m \u001b[39m_request\u001b[39m(\n\u001b[1;32m    352\u001b[0m         \u001b[39mself\u001b[39m,\n\u001b[0;32m   (...)\u001b[0m\n\u001b[1;32m    361\u001b[0m            Iterator[EBResponse],\n\u001b[1;32m    362\u001b[0m            ]:\n\u001b[0;32m--> 363\u001b[0m     resp \u001b[39m=\u001b[39m \u001b[39mself\u001b[39;49m\u001b[39m.\u001b[39;49m_backend\u001b[39m.\u001b[39;49mrequest(\n\u001b[1;32m    364\u001b[0m         method,\n\u001b[1;32m    365\u001b[0m         url,\n\u001b[1;32m    366\u001b[0m         stream,\n\u001b[1;32m    367\u001b[0m         params\u001b[39m=\u001b[39;49mparams,\n\u001b[1;32m    368\u001b[0m         headers\u001b[39m=\u001b[39;49mheaders,\n\u001b[1;32m    369\u001b[0m         files\u001b[39m=\u001b[39;49mfiles,\n\u001b[1;32m    370\u001b[0m         request_timeout\u001b[39m=\u001b[39;49mrequest_timeout,\n\u001b[1;32m    371\u001b[0m     )\n\u001b[1;32m    372\u001b[0m     \u001b[39mif\u001b[39;00m stream:\n\u001b[1;32m    373\u001b[0m         \u001b[39mif\u001b[39;00m \u001b[39mnot\u001b[39;00m \u001b[39misinstance\u001b[39m(resp, Iterator):\n",
      "File \u001b[0;32m/opt/anaconda3/envs/ernie/lib/python3.10/site-packages/erniebot/backends/aistudio.py:84\u001b[0m, in \u001b[0;36mAIStudioBackend.request\u001b[0;34m(self, method, url, stream, params, headers, files, request_timeout)\u001b[0m\n\u001b[1;32m     76\u001b[0m url, headers, data \u001b[39m=\u001b[39m \u001b[39mself\u001b[39m\u001b[39m.\u001b[39m_client\u001b[39m.\u001b[39mprepare_request(\n\u001b[1;32m     77\u001b[0m     method,\n\u001b[1;32m     78\u001b[0m     url,\n\u001b[0;32m   (...)\u001b[0m\n\u001b[1;32m     81\u001b[0m     files\u001b[39m=\u001b[39mfiles,\n\u001b[1;32m     82\u001b[0m )\n\u001b[1;32m     83\u001b[0m headers \u001b[39m=\u001b[39m \u001b[39mself\u001b[39m\u001b[39m.\u001b[39m_add_aistudio_fields_to_headers(headers)\n\u001b[0;32m---> 84\u001b[0m \u001b[39mreturn\u001b[39;00m \u001b[39mself\u001b[39;49m\u001b[39m.\u001b[39;49m_client\u001b[39m.\u001b[39;49msend_request(\n\u001b[1;32m     85\u001b[0m     method,\n\u001b[1;32m     86\u001b[0m     url,\n\u001b[1;32m     87\u001b[0m     stream,\n\u001b[1;32m     88\u001b[0m     data\u001b[39m=\u001b[39;49mdata,\n\u001b[1;32m     89\u001b[0m     headers\u001b[39m=\u001b[39;49mheaders,\n\u001b[1;32m     90\u001b[0m     files\u001b[39m=\u001b[39;49mfiles,\n\u001b[1;32m     91\u001b[0m     request_timeout\u001b[39m=\u001b[39;49mrequest_timeout,\n\u001b[1;32m     92\u001b[0m     base_url\u001b[39m=\u001b[39;49m\u001b[39mself\u001b[39;49m\u001b[39m.\u001b[39;49mbase_url,\n\u001b[1;32m     93\u001b[0m )\n",
      "File \u001b[0;32m/opt/anaconda3/envs/ernie/lib/python3.10/site-packages/erniebot/http_client.py:141\u001b[0m, in \u001b[0;36mEBClient.send_request\u001b[0;34m(self, method, url, stream, data, headers, files, request_timeout, base_url)\u001b[0m\n\u001b[1;32m    118\u001b[0m \u001b[39mdef\u001b[39;00m \u001b[39msend_request\u001b[39m(\n\u001b[1;32m    119\u001b[0m         \u001b[39mself\u001b[39m,\n\u001b[1;32m    120\u001b[0m         method: \u001b[39mstr\u001b[39m,\n\u001b[0;32m   (...)\u001b[0m\n\u001b[1;32m    129\u001b[0m            Iterator[EBResponse],\n\u001b[1;32m    130\u001b[0m            ]:\n\u001b[1;32m    131\u001b[0m     result \u001b[39m=\u001b[39m \u001b[39mself\u001b[39m\u001b[39m.\u001b[39msend_request_raw(\n\u001b[1;32m    132\u001b[0m         method\u001b[39m.\u001b[39mlower(),\n\u001b[1;32m    133\u001b[0m         url,\n\u001b[0;32m   (...)\u001b[0m\n\u001b[1;32m    139\u001b[0m         request_timeout\u001b[39m=\u001b[39mrequest_timeout,\n\u001b[1;32m    140\u001b[0m     )\n\u001b[0;32m--> 141\u001b[0m     resp, got_stream \u001b[39m=\u001b[39m \u001b[39mself\u001b[39;49m\u001b[39m.\u001b[39;49m_interpret_response(result, stream)\n\u001b[1;32m    142\u001b[0m     \u001b[39mif\u001b[39;00m stream \u001b[39m!=\u001b[39m got_stream:\n\u001b[1;32m    143\u001b[0m         logger\u001b[39m.\u001b[39mwarning(\u001b[39m\"\u001b[39m\u001b[39mUnexpected response: \u001b[39m\u001b[39m%s\u001b[39;00m\u001b[39m\"\u001b[39m, resp)\n",
      "File \u001b[0;32m/opt/anaconda3/envs/ernie/lib/python3.10/site-packages/erniebot/http_client.py:348\u001b[0m, in \u001b[0;36mEBClient._interpret_response\u001b[0;34m(self, result, stream)\u001b[0m\n\u001b[1;32m    345\u001b[0m     \u001b[39mreturn\u001b[39;00m \u001b[39mself\u001b[39m\u001b[39m.\u001b[39m_interpret_stream_response(\n\u001b[1;32m    346\u001b[0m         result\u001b[39m.\u001b[39miter_lines(), result\u001b[39m.\u001b[39mstatus_code, result\u001b[39m.\u001b[39mheaders), \u001b[39mTrue\u001b[39;00m\n\u001b[1;32m    347\u001b[0m \u001b[39melse\u001b[39;00m:\n\u001b[0;32m--> 348\u001b[0m     \u001b[39mreturn\u001b[39;00m \u001b[39mself\u001b[39;49m\u001b[39m.\u001b[39;49m_interpret_response_line(\n\u001b[1;32m    349\u001b[0m         result\u001b[39m.\u001b[39;49mcontent\u001b[39m.\u001b[39;49mdecode(\u001b[39m'\u001b[39;49m\u001b[39mutf-8\u001b[39;49m\u001b[39m'\u001b[39;49m),\n\u001b[1;32m    350\u001b[0m         result\u001b[39m.\u001b[39;49mstatus_code,\n\u001b[1;32m    351\u001b[0m         result\u001b[39m.\u001b[39;49mheaders,\n\u001b[1;32m    352\u001b[0m         stream\u001b[39m=\u001b[39;49m\u001b[39mFalse\u001b[39;49;00m), \u001b[39mFalse\u001b[39;00m\n",
      "File \u001b[0;32m/opt/anaconda3/envs/ernie/lib/python3.10/site-packages/erniebot/http_client.py:446\u001b[0m, in \u001b[0;36mEBClient._interpret_response_line\u001b[0;34m(self, rbody, rcode, rheaders, stream)\u001b[0m\n\u001b[1;32m    439\u001b[0m     \u001b[39mraise\u001b[39;00m errors\u001b[39m.\u001b[39mHTTPRequestError(\n\u001b[1;32m    440\u001b[0m         \u001b[39mf\u001b[39m\u001b[39m\"\u001b[39m\u001b[39mStatus code is not \u001b[39m\u001b[39m{\u001b[39;00mhttp\u001b[39m.\u001b[39mHTTPStatus\u001b[39m.\u001b[39mOK\u001b[39m}\u001b[39;00m\u001b[39m.\u001b[39m\u001b[39m\"\u001b[39m,\n\u001b[1;32m    441\u001b[0m         rcode\u001b[39m=\u001b[39mresp\u001b[39m.\u001b[39mrcode,\n\u001b[1;32m    442\u001b[0m         rbody\u001b[39m=\u001b[39m\u001b[39mstr\u001b[39m(resp\u001b[39m.\u001b[39mrbody),\n\u001b[1;32m    443\u001b[0m         rheaders\u001b[39m=\u001b[39mresp\u001b[39m.\u001b[39mrheaders)\n\u001b[1;32m    445\u001b[0m \u001b[39mif\u001b[39;00m \u001b[39mself\u001b[39m\u001b[39m.\u001b[39m_resp_handler \u001b[39mis\u001b[39;00m \u001b[39mnot\u001b[39;00m \u001b[39mNone\u001b[39;00m:\n\u001b[0;32m--> 446\u001b[0m     resp \u001b[39m=\u001b[39m \u001b[39mself\u001b[39;49m\u001b[39m.\u001b[39;49m_resp_handler(resp)\n\u001b[1;32m    447\u001b[0m \u001b[39mreturn\u001b[39;00m resp\n",
      "File \u001b[0;32m/opt/anaconda3/envs/ernie/lib/python3.10/site-packages/erniebot/backends/aistudio.py:55\u001b[0m, in \u001b[0;36mAIStudioBackend.handle_response\u001b[0;34m(self, resp)\u001b[0m\n\u001b[1;32m     53\u001b[0m     \u001b[39mraise\u001b[39;00m errors\u001b[39m.\u001b[39mTokenExpiredError(emsg, ecode\u001b[39m=\u001b[39mecode)\n\u001b[1;32m     54\u001b[0m \u001b[39melif\u001b[39;00m ecode \u001b[39m==\u001b[39m \u001b[39m336003\u001b[39m:\n\u001b[0;32m---> 55\u001b[0m     \u001b[39mraise\u001b[39;00m errors\u001b[39m.\u001b[39mInvalidParameterError(emsg, ecode\u001b[39m=\u001b[39mecode)\n\u001b[1;32m     56\u001b[0m \u001b[39melif\u001b[39;00m ecode \u001b[39m==\u001b[39m \u001b[39m336100\u001b[39m:\n\u001b[1;32m     57\u001b[0m     \u001b[39mraise\u001b[39;00m errors\u001b[39m.\u001b[39mTryAgain(emsg, ecode\u001b[39m=\u001b[39mecode)\n",
      "\u001b[0;31mInvalidParameterError\u001b[0m: embeddings max tokens per batch size is 384"
     ]
    }
   ],
   "source": [
    "olympics_doc = get_embedding(df.content.to_list())"
   ]
  },
  {
   "cell_type": "code",
   "execution_count": 29,
   "metadata": {},
   "outputs": [],
   "source": [
    "df = df[['title','heading','content']]\n",
    "df.to_csv('olympics_data.csv',index = False)"
   ]
  },
  {
   "cell_type": "code",
   "execution_count": 5,
   "metadata": {},
   "outputs": [
    {
     "data": {
      "text/plain": [
       "['2022 Winter Olympics',\n",
       " '2022 Winter Olympics medal table',\n",
       " 'Winter Olympic Games',\n",
       " 'India at the 2022 Winter Olympics',\n",
       " \"Ice hockey at the 2022 Winter Olympics – Men's tournament\",\n",
       " 'All-time Olympic Games medal table',\n",
       " 'Figure skating at the 2022 Winter Olympics',\n",
       " 'Ice hockey at the 2022 Winter Olympics',\n",
       " 'United States at the 2022 Winter Olympics',\n",
       " \"Figure skating at the 2022 Winter Olympics – Women's singles\"]"
      ]
     },
     "execution_count": 5,
     "metadata": {},
     "output_type": "execute_result"
    }
   ],
   "source": [
    "import wikipedia\n",
    "wikipedia.search(\"2022 Winter Olympics\")"
   ]
  },
  {
   "cell_type": "code",
   "execution_count": 9,
   "metadata": {},
   "outputs": [
    {
     "ename": "PageError",
     "evalue": "Page id \"2021 winter olympics medal table\" does not match any pages. Try another id!",
     "output_type": "error",
     "traceback": [
      "\u001b[0;31m---------------------------------------------------------------------------\u001b[0m",
      "\u001b[0;31mPageError\u001b[0m                                 Traceback (most recent call last)",
      "\u001b[1;32m/Users/tanzhehao/Documents/ERINE/ERNIE-Bot-SDK/cookbook/embedding_apply/search.ipynb 单元格 5\u001b[0m line \u001b[0;36m1\n\u001b[0;32m----> <a href='vscode-notebook-cell:/Users/tanzhehao/Documents/ERINE/ERNIE-Bot-SDK/cookbook/embedding_apply/search.ipynb#W5sZmlsZQ%3D%3D?line=0'>1</a>\u001b[0m page \u001b[39m=\u001b[39m wikipedia\u001b[39m.\u001b[39;49mpage(wikipedia\u001b[39m.\u001b[39;49msearch(\u001b[39m\"\u001b[39;49m\u001b[39m2022 Winter Olympics\u001b[39;49m\u001b[39m\"\u001b[39;49m)[\u001b[39m1\u001b[39;49m])\n",
      "File \u001b[0;32m/opt/anaconda3/envs/ernie/lib/python3.10/site-packages/wikipedia/wikipedia.py:276\u001b[0m, in \u001b[0;36mpage\u001b[0;34m(title, pageid, auto_suggest, redirect, preload)\u001b[0m\n\u001b[1;32m    273\u001b[0m     \u001b[39mexcept\u001b[39;00m \u001b[39mIndexError\u001b[39;00m:\n\u001b[1;32m    274\u001b[0m       \u001b[39m# if there is no suggestion or search results, the page doesn't exist\u001b[39;00m\n\u001b[1;32m    275\u001b[0m       \u001b[39mraise\u001b[39;00m PageError(title)\n\u001b[0;32m--> 276\u001b[0m   \u001b[39mreturn\u001b[39;00m WikipediaPage(title, redirect\u001b[39m=\u001b[39;49mredirect, preload\u001b[39m=\u001b[39;49mpreload)\n\u001b[1;32m    277\u001b[0m \u001b[39melif\u001b[39;00m pageid \u001b[39mis\u001b[39;00m \u001b[39mnot\u001b[39;00m \u001b[39mNone\u001b[39;00m:\n\u001b[1;32m    278\u001b[0m   \u001b[39mreturn\u001b[39;00m WikipediaPage(pageid\u001b[39m=\u001b[39mpageid, preload\u001b[39m=\u001b[39mpreload)\n",
      "File \u001b[0;32m/opt/anaconda3/envs/ernie/lib/python3.10/site-packages/wikipedia/wikipedia.py:299\u001b[0m, in \u001b[0;36mWikipediaPage.__init__\u001b[0;34m(self, title, pageid, redirect, preload, original_title)\u001b[0m\n\u001b[1;32m    296\u001b[0m \u001b[39melse\u001b[39;00m:\n\u001b[1;32m    297\u001b[0m   \u001b[39mraise\u001b[39;00m \u001b[39mValueError\u001b[39;00m(\u001b[39m\"\u001b[39m\u001b[39mEither a title or a pageid must be specified\u001b[39m\u001b[39m\"\u001b[39m)\n\u001b[0;32m--> 299\u001b[0m \u001b[39mself\u001b[39;49m\u001b[39m.\u001b[39;49m__load(redirect\u001b[39m=\u001b[39;49mredirect, preload\u001b[39m=\u001b[39;49mpreload)\n\u001b[1;32m    301\u001b[0m \u001b[39mif\u001b[39;00m preload:\n\u001b[1;32m    302\u001b[0m   \u001b[39mfor\u001b[39;00m prop \u001b[39min\u001b[39;00m (\u001b[39m'\u001b[39m\u001b[39mcontent\u001b[39m\u001b[39m'\u001b[39m, \u001b[39m'\u001b[39m\u001b[39msummary\u001b[39m\u001b[39m'\u001b[39m, \u001b[39m'\u001b[39m\u001b[39mimages\u001b[39m\u001b[39m'\u001b[39m, \u001b[39m'\u001b[39m\u001b[39mreferences\u001b[39m\u001b[39m'\u001b[39m, \u001b[39m'\u001b[39m\u001b[39mlinks\u001b[39m\u001b[39m'\u001b[39m, \u001b[39m'\u001b[39m\u001b[39msections\u001b[39m\u001b[39m'\u001b[39m):\n",
      "File \u001b[0;32m/opt/anaconda3/envs/ernie/lib/python3.10/site-packages/wikipedia/wikipedia.py:345\u001b[0m, in \u001b[0;36mWikipediaPage.__load\u001b[0;34m(self, redirect, preload)\u001b[0m\n\u001b[1;32m    343\u001b[0m \u001b[39mif\u001b[39;00m \u001b[39m'\u001b[39m\u001b[39mmissing\u001b[39m\u001b[39m'\u001b[39m \u001b[39min\u001b[39;00m page:\n\u001b[1;32m    344\u001b[0m   \u001b[39mif\u001b[39;00m \u001b[39mhasattr\u001b[39m(\u001b[39mself\u001b[39m, \u001b[39m'\u001b[39m\u001b[39mtitle\u001b[39m\u001b[39m'\u001b[39m):\n\u001b[0;32m--> 345\u001b[0m     \u001b[39mraise\u001b[39;00m PageError(\u001b[39mself\u001b[39m\u001b[39m.\u001b[39mtitle)\n\u001b[1;32m    346\u001b[0m   \u001b[39melse\u001b[39;00m:\n\u001b[1;32m    347\u001b[0m     \u001b[39mraise\u001b[39;00m PageError(pageid\u001b[39m=\u001b[39m\u001b[39mself\u001b[39m\u001b[39m.\u001b[39mpageid)\n",
      "\u001b[0;31mPageError\u001b[0m: Page id \"2021 winter olympics medal table\" does not match any pages. Try another id!"
     ]
    }
   ],
   "source": [
    "page = wikipedia.page(wikipedia.search(\"2022 Winter Olympics\")[1])"
   ]
  },
  {
   "cell_type": "code",
   "execution_count": 15,
   "metadata": {},
   "outputs": [
    {
     "ename": "TypeError",
     "evalue": "Wikipedia.__init__() missing 1 required positional argument: 'user_agent'",
     "output_type": "error",
     "traceback": [
      "\u001b[0;31m---------------------------------------------------------------------------\u001b[0m",
      "\u001b[0;31mTypeError\u001b[0m                                 Traceback (most recent call last)",
      "\u001b[1;32m/Users/tanzhehao/Documents/ERINE/ERNIE-Bot-SDK/cookbook/embedding_apply/search.ipynb 单元格 6\u001b[0m line \u001b[0;36m4\n\u001b[1;32m      <a href='vscode-notebook-cell:/Users/tanzhehao/Documents/ERINE/ERNIE-Bot-SDK/cookbook/embedding_apply/search.ipynb#X11sZmlsZQ%3D%3D?line=0'>1</a>\u001b[0m \u001b[39mimport\u001b[39;00m \u001b[39mwikipediaapi\u001b[39;00m\n\u001b[1;32m      <a href='vscode-notebook-cell:/Users/tanzhehao/Documents/ERINE/ERNIE-Bot-SDK/cookbook/embedding_apply/search.ipynb#X11sZmlsZQ%3D%3D?line=2'>3</a>\u001b[0m title \u001b[39m=\u001b[39m \u001b[39m\"\u001b[39m\u001b[39mchina\u001b[39m\u001b[39m\"\u001b[39m\n\u001b[0;32m----> <a href='vscode-notebook-cell:/Users/tanzhehao/Documents/ERINE/ERNIE-Bot-SDK/cookbook/embedding_apply/search.ipynb#X11sZmlsZQ%3D%3D?line=3'>4</a>\u001b[0m wiki \u001b[39m=\u001b[39m wikipediaapi\u001b[39m.\u001b[39;49mWikipedia(\n\u001b[1;32m      <a href='vscode-notebook-cell:/Users/tanzhehao/Documents/ERINE/ERNIE-Bot-SDK/cookbook/embedding_apply/search.ipynb#X11sZmlsZQ%3D%3D?line=4'>5</a>\u001b[0m     language\u001b[39m=\u001b[39;49m\u001b[39m'\u001b[39;49m\u001b[39men\u001b[39;49m\u001b[39m'\u001b[39;49m,\n\u001b[1;32m      <a href='vscode-notebook-cell:/Users/tanzhehao/Documents/ERINE/ERNIE-Bot-SDK/cookbook/embedding_apply/search.ipynb#X11sZmlsZQ%3D%3D?line=5'>6</a>\u001b[0m     extract_format\u001b[39m=\u001b[39;49mwikipediaapi\u001b[39m.\u001b[39;49mExtractFormat\u001b[39m.\u001b[39;49mWIKI\n\u001b[1;32m      <a href='vscode-notebook-cell:/Users/tanzhehao/Documents/ERINE/ERNIE-Bot-SDK/cookbook/embedding_apply/search.ipynb#X11sZmlsZQ%3D%3D?line=6'>7</a>\u001b[0m )\n\u001b[1;32m      <a href='vscode-notebook-cell:/Users/tanzhehao/Documents/ERINE/ERNIE-Bot-SDK/cookbook/embedding_apply/search.ipynb#X11sZmlsZQ%3D%3D?line=7'>8</a>\u001b[0m page \u001b[39m=\u001b[39m wiki\u001b[39m.\u001b[39mpage(title)\n\u001b[1;32m      <a href='vscode-notebook-cell:/Users/tanzhehao/Documents/ERINE/ERNIE-Bot-SDK/cookbook/embedding_apply/search.ipynb#X11sZmlsZQ%3D%3D?line=8'>9</a>\u001b[0m language \u001b[39m=\u001b[39m \u001b[39m\"\u001b[39m\u001b[39mzh\u001b[39m\u001b[39m\"\u001b[39m\n",
      "\u001b[0;31mTypeError\u001b[0m: Wikipedia.__init__() missing 1 required positional argument: 'user_agent'"
     ]
    }
   ],
   "source": [
    "import wikipediaapi\n",
    "\n",
    "title = \"china\"\n",
    "wiki = wikipediaapi.Wikipedia(\n",
    "    language='en',\n",
    "    extract_format=wikipediaapi.ExtractFormat.WIKI\n",
    ")\n",
    "page = wiki.page(title)\n",
    "language = \"zh\"\n",
    "lpage = page.langlinks[language]  # fr es ...\n",
    "print(lpage.text)\n"
   ]
  },
  {
   "cell_type": "code",
   "execution_count": 17,
   "metadata": {},
   "outputs": [
    {
     "data": {
      "text/plain": [
       "['Olympic Games',\n",
       " '1988 Summer Olympics',\n",
       " '2020 Summer Olympics',\n",
       " 'Summer Olympic Games',\n",
       " '1936 Olympics',\n",
       " '1972 Olympics',\n",
       " '2000 Summer Olympics',\n",
       " 'International Olympic Committee',\n",
       " '1972 Summer Olympics',\n",
       " '1936 Summer Olympics',\n",
       " 'Winter Olympic Games',\n",
       " '2008 Summer Olympics',\n",
       " '1996 Summer Olympics',\n",
       " '2010 Winter Olympics',\n",
       " '1992 Summer Olympics',\n",
       " '1980 Summer Olympics',\n",
       " '2004 Summer Olympics',\n",
       " 'Tokyo Olympics',\n",
       " '2016 Summer Olympics',\n",
       " '1948 Olympics']"
      ]
     },
     "execution_count": 17,
     "metadata": {},
     "output_type": "execute_result"
    }
   ],
   "source": [
    "wikipedia.set_lang(\"fr\")\n",
    "wikipedia.search(\"Olympics\",results=20)"
   ]
  },
  {
   "cell_type": "code",
   "execution_count": 18,
   "metadata": {},
   "outputs": [
    {
     "name": "stdout",
     "output_type": "stream",
     "text": [
      "https://en.wikipedia.org/wiki/2020_Summer_Olympics\n"
     ]
    }
   ],
   "source": [
    "# Get the URL of the Article\n",
    "page = wikipedia.page(\"2020 Summer Olympics\")\n",
    "print(page.url)\n"
   ]
  }
 ],
 "metadata": {
  "kernelspec": {
   "display_name": "ernie",
   "language": "python",
   "name": "python3"
  },
  "language_info": {
   "codemirror_mode": {
    "name": "ipython",
    "version": 3
   },
   "file_extension": ".py",
   "mimetype": "text/x-python",
   "name": "python",
   "nbconvert_exporter": "python",
   "pygments_lexer": "ipython3",
   "version": "3.10.13"
  }
 },
 "nbformat": 4,
 "nbformat_minor": 2
}
