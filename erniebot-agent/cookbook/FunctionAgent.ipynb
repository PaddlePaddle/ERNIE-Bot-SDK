{
 "cells": [
  {
   "cell_type": "code",
   "execution_count": 1,
   "metadata": {},
   "outputs": [
    {
     "data": {
      "text/plain": [
       "'<your_access_token>'"
      ]
     },
     "execution_count": 1,
     "metadata": {},
     "output_type": "execute_result"
    }
   ],
   "source": [
    "!export EB_AGENT_LOGGING_LEVEL='info'\n",
    "!export EB_AGENT_ACCESS_TOKEN='<your_access_token>'"
   ]
  },
  {
   "cell_type": "markdown",
   "metadata": {},
   "source": [
    "# 智能体(Agent)介绍\n",
    "ERNIE Bot Agent 基于文心大模型的 Function Calling 能力实现了多工具编排和自动调度功能，并且允许工具、插件、知识库等不同组件的混合编排。\n",
    "\n",
    "除了自动调度，我们未来还将支持更多的编排模式，例如手动编排、半自动编排，为开发者提供更大的灵活性。\n",
    "\n",
    "在此教程中，主要介绍一个Function Agent的运行过程，Function Agent的编排能力由集成的LLM大语言模型（此处为文心）的函数调用能力驱动，通常由\n",
    "Agent请求LLM生成一个可以解析的Action，然后Agent根据Action，调用相应的工具或插件，然后完成此操作。\n",
    "\n",
    "一个智能体的运行大致分为以下三步：\n",
    "1. 创建需要调用的工具\n",
    "2. 创建智能体\n",
    "3. 调用智能体\n",
    "\n",
    "[Optional]建议将环境变量EB_AGENT_LOGGING_LEVEL设置为info打开相关日志，以方便观察智能体具体的运行过程。\n",
    "\n",
    "\n",
    "接下来将按照这三步，结合一个具体的实例进行介绍：\n",
    "\n",
    "实例的背景为创建一个英语学习智能体，帮助用户学习英语单词，包括单词的释义、近义词、反义词和例句并将相关信息添加到单词本。\n",
    "\n"
   ]
  },
  {
   "cell_type": "code",
   "execution_count": 1,
   "metadata": {},
   "outputs": [],
   "source": [
    "import os\n",
    "\n",
    "os.environ[\"EB_AGENT_LOGGING_LEVEL\"] = \"INFO\"\n",
    "\n",
    "from pydantic import Field\n",
    "from typing import Dict, Type, List, Any\n",
    "\n",
    "from erniebot_agent.chat_models import ERNIEBot\n",
    "from erniebot_agent.memory import HumanMessage, Message, AIMessage, FunctionMessage, SlidingWindowMemory\n",
    "from erniebot_agent.tools.base import Tool\n",
    "from erniebot_agent.tools.schema import ToolParameterView\n",
    "from erniebot_agent.agents import FunctionAgent"
   ]
  },
  {
   "cell_type": "markdown",
   "metadata": {},
   "source": [
    "## 创建工具\n",
    "此章节中，主要创建用于英语学习智能体相关的本地工具以便于用户直接体验，不会对tool的相关内容有太多详细的介绍，关于tool的详细内容，请见[local_tool.ipynb](./local_tool.ipynb)。\n",
    "\n",
    "其中，对于工具的examples的描写，用到了Message模块，详见[memory.ipynb](./memory.ipynb)。"
   ]
  },
  {
   "cell_type": "markdown",
   "metadata": {},
   "source": [
    "## 定义ChatWithEB工具\n",
    "在智能体(Agent)中，我们创建一个名为ChatWithEB的工具，该工具用于为用户的单词提供详细的释义，其中可以通过`prompt`或者`system`的方式来控制，达成用户的相关目标（本例中为按要求获取单词相关信息）。\n",
    "\n",
    "同时`ChatWithEB`工具也是一个推荐的本地工具，加载在智能体当中用于每一个Run中途的交互，从而更好地完成智能体的功能。\n",
    "\n",
    "例如在本例中，我们通过`ChatWithEB`工具来获取用户输入的单词的详细信息，进而能直接添加进入单词本当中。\n",
    "\n",
    "如果不使用这个工具，那么用户无法通过一句简单的\"帮我添加单词\"同时执行这两个操作：需要先通过prompt获得单词相关内容，然后再通过\"帮我添加单词\"添加相关单词。\n"
   ]
  },
  {
   "cell_type": "code",
   "execution_count": 2,
   "metadata": {},
   "outputs": [],
   "source": [
    "class ChatWithEBInputView(ToolParameterView):\n",
    "    word: str = Field(description=\"需要获取详细信息的单词\")\n",
    "\n",
    "\n",
    "class ChatWithEBOutputView(ToolParameterView):\n",
    "    response: str = Field(description=\"EB回复的对于单词的详细解释\")\n",
    "\n",
    "\n",
    "class ChatWithEB(Tool):\n",
    "    description: str = \"ChatWithEB是一款根据用户的提供的单词，获取一个具体的单词描述、翻译以及例句的工具\"\n",
    "    input_type: Type[ToolParameterView] = ChatWithEBInputView\n",
    "    ouptut_type: Type[ToolParameterView] = ChatWithEBOutputView\n",
    "\n",
    "    def __init__(self, llm: ERNIEBot):\n",
    "        self.llm = llm\n",
    "\n",
    "    async def __call__(self, word: str) -> Dict[str, str]:\n",
    "        prompt = f\"请告诉我{word}的详细信息，以下面的格式输出（其中单词翻译需要是中文，其他为英语）\" \"<单词翻译>:\\n<近义词>:\\n<反义词>:\\n<例句>:\\n\"\n",
    "        response = await self.llm.chat([HumanMessage(prompt)])\n",
    "        return {\"response\": response.content}\n",
    "\n",
    "    @property\n",
    "    def examples(self) -> List[Message]:\n",
    "        return [\n",
    "            HumanMessage(\"请帮我把这个单词meticulous存储到单词本中\"),\n",
    "            AIMessage(\n",
    "                \"\",\n",
    "                function_call={\n",
    "                    \"name\": self.tool_name,\n",
    "                    \"thoughts\": f\"用户想把meticulous加入到单词本，我需要先使用{self.tool_name}来获取\"\n",
    "                    \"单词'meticulous'的详细信息，然后调用AddWordTool来存储到单词本中\",\n",
    "                    \"arguments\": '{\"word\": \"meticulous\"}',\n",
    "                },\n",
    "            ),\n",
    "        ]\n",
    "\n",
    "\n",
    "SYSTEM_MESSAGE = \"你是一个英语老师，当用户给你一个单词的时候，请你专业而通俗的返回英语的<单词翻译><近义词><反义词><例句>\"\n",
    "llm = ERNIEBot(model=\"ernie-4.0\", system=SYSTEM_MESSAGE)\n",
    "word_helper_tool = ChatWithEB(llm)"
   ]
  },
  {
   "cell_type": "markdown",
   "metadata": {},
   "source": [
    "## 定义AddWordTool工具\n",
    "在此智能体(Agent)中，我们创建一个名为AddWordTool的工具，用于将用户的单词添加至单词本。此工具为`Tool`章节中的示例工具，此处不做过多介绍。详见[local_tool.ipynb](./local_tool.ipynb)。"
   ]
  },
  {
   "cell_type": "code",
   "execution_count": 3,
   "metadata": {},
   "outputs": [],
   "source": [
    "mimic_response = (\n",
    "    \"<单词翻译>: meticulous中文翻译为“一丝不苟的”、“细致的”、“小心翼翼的”。\\n\\n\"\n",
    "    \"<近义词>: thorough, detailed, precise, conscientious\\n\\n\"\n",
    "    \"<反义词>: careless, sloppy, negligent, cursory\\n\\n\"\n",
    "    \"<例句>: He is known for his meticulous attention to detail in his work.\"\n",
    ")\n",
    "\n",
    "\n",
    "class AddWordInput(ToolParameterView):\n",
    "    word: str = Field(description=\"待添加的单词\")\n",
    "    des: str = Field(description=\"待添加的单词的详细释义\")\n",
    "\n",
    "\n",
    "class AddWordOutput(ToolParameterView):\n",
    "    result: str = Field(description=\"表示是否成功将单词成功添加到词库当中\")\n",
    "\n",
    "\n",
    "class AddWordTool(Tool):\n",
    "    description: str = \"添加单词以及它的详细解释到词库当中\"\n",
    "    input_type: Type[ToolParameterView] = AddWordInput\n",
    "    ouptut_type: Type[ToolParameterView] = AddWordOutput\n",
    "\n",
    "    def __init__(self) -> None:\n",
    "        self.word_books = {}\n",
    "        super().__init__()\n",
    "\n",
    "    async def __call__(self, word: str, des: str) -> Dict[str, Any]:\n",
    "        if word in self.word_books:\n",
    "            return {\"result\": f\"<{word}>单词已经存在，无需添加\"}\n",
    "        self.word_books[word] = des\n",
    "        words = \"\\n\".join(list(self.word_books.keys()))\n",
    "        return {\"result\": f\"<{word}>单词已添加成功, 当前单词本中有如下单词：{words}，释义如下{des}\"}\n",
    "\n",
    "    @property\n",
    "    def examples(self) -> List[Message]:\n",
    "        return [\n",
    "            HumanMessage(\"请帮我把这个单词meticulous存储到单词本中\"),\n",
    "            AIMessage(\n",
    "                \"\",\n",
    "                function_call={\n",
    "                    \"name\": self.tool_name,\n",
    "                    \"thoughts\": f\"用户想把meticulous加入到单词本，我需要先使用ChatWithEB来获取单词'meticulous'的详细信息，\"\n",
    "                    \"然后调用AddWordTool来存储到单词本中\",\n",
    "                    \"arguments\": '{\"word\": \"meticulous\"}',\n",
    "                },\n",
    "            ),\n",
    "            FunctionMessage(content=mimic_response, name=\"ChatWithEB\"),\n",
    "            AIMessage(\n",
    "                \"\",\n",
    "                function_call={\n",
    "                    \"name\": self.tool_name,\n",
    "                    \"thoughts\": f\"用户想把meticulous加入到单词本，我已经使用ChatWithEB来获取单词'meticulous'的详细信息，然后需要调用{self.tool_name}来存储到单词本中\",\n",
    "                    \"arguments\": f'{{\"word\": \"meticulous\", \"des\":{mimic_response}}}',\n",
    "                },\n",
    "            ),\n",
    "        ]\n",
    "\n",
    "\n",
    "add_word_tool = AddWordTool()"
   ]
  },
  {
   "cell_type": "markdown",
   "metadata": {},
   "source": [
    "## 创建智能体\n",
    "在此步骤中将展示如何创建智能体。\n",
    "\n",
    "1. 指定调用的文心大模型，通过`enable_multi_step_tool_call`接口打开multi_tool_call功能，开启之后即可通过一个指令进行多次不同工具的调用，通过`max_steps`控制此Run中执行的最大的Step以免一直循环。\n",
    "\n",
    "2. 为智能体添加默认的`ChatWithEB`和`AddWordTool`工具。\n",
    "\n",
    "3. [Optional]为智能体指定特殊的`Memory`，默认为`WholeMemory`，详见[memory.ipynb](./memory.ipynb)。\n",
    "\n",
    "4. [Optional]为智能体指定`SystemMessage`，设置全局的指令。"
   ]
  },
  {
   "cell_type": "code",
   "execution_count": 4,
   "metadata": {},
   "outputs": [],
   "source": [
    "memory = SlidingWindowMemory(max_round=5)\n",
    "llm_final = ERNIEBot(model=\"ernie-3.5\", api_type=\"aistudio\", enable_multi_step_tool_call=True)\n",
    "agent_all = FunctionAgent(llm=llm_final, tools=[word_helper_tool, add_word_tool], memory=memory)"
   ]
  },
  {
   "cell_type": "markdown",
   "metadata": {},
   "source": [
    "## 调用智能体\n",
    "在完成了智能体创建之后，通过异步run函数执行指令，并获取返回结果（如果打开了multi_tool_call，那么仅需一句指令即可同时执行单词解释以及添加至单词本两个动作）。"
   ]
  },
  {
   "cell_type": "code",
   "execution_count": 5,
   "metadata": {},
   "outputs": [
    {
     "name": "stderr",
     "output_type": "stream",
     "text": [
      "\u001b[92mINFO - [Run][Start] FunctionAgent is about to start running with input:\n",
      "\u001b[94m请帮我把这个单词meticulous存储到单词本中\u001b[92m\u001b[0m\n",
      "\u001b[92mINFO - [LLM][Start] ERNIEBot is about to start running with input:\n",
      " role: \u001b[94muser\u001b[92m \n",
      " content: \u001b[94m请帮我把这个单词meticulous存储到单词本中\u001b[92m \u001b[0m\n",
      "\u001b[92mINFO - [LLM][End] ERNIEBot finished running with output:\n",
      " role: \u001b[93massistant\u001b[92m \n",
      " function_call: \u001b[93m\n",
      "{\n",
      "  \"name\": \"ChatWithEB\",\n",
      "  \"thoughts\": \"用户想把meticulous加入到单词本，我需要先使用ChatWithEB来获取单词'meticulous'的详细信息，然后调用AddWordTool来存储到单词本中\",\n",
      "  \"arguments\": \"{\\\"word\\\":\\\"meticulous\\\"}\"\n",
      "}\u001b[92m \u001b[0m\n",
      "\u001b[92mINFO - [Tool][Start] \u001b[95mChatWithEB\u001b[92m is about to start running with input:\n",
      "\u001b[95m{\n",
      "  \"word\": \"meticulous\"\n",
      "}\u001b[92m\u001b[0m\n",
      "\u001b[92mINFO - [Tool][End] \u001b[95mChatWithEB\u001b[92m finished running with output:\n",
      "\u001b[95m{\n",
      "  \"response\": \"<单词翻译>: meticulous 是一个英语单词，中文翻译为“一丝不苟的”、“细致的”、“小心翼翼的”。\\n\\n<近义词>: 一些与 meticulous 意思相近的词语包括 \\\"thorough\\\", \\\"careful\\\", \\\"precise\\\", \\\"detailed\\\", \\\"diligent\\\", 和 \\\"methodical\\\"。\\n\\n<反义词>: 与 meticulous 意思相反的词语包括 \\\"careless\\\", \\\"haphazard\\\", \\\"negligent\\\", \\\"sloppy\\\", 和 \\\"cursory\\\"。\\n\\n<例句>: \\n1. She is known for her meticulous attention to detail in her work.\\n2. The meticulous planner always made sure to double-check all the arrangements before the event.\\n3. He is a meticulous researcher, leaving no stone unturned in his pursuit of the truth.\\n4. The cleanliness of the house showed the meticulous nature of its owner.\\n5. She approached the project with a meticulous eye for detail, ensuring that everything was perfect before submitting it to her boss.\"\n",
      "}\u001b[92m\u001b[0m\n",
      "\u001b[92mINFO - [LLM][Start] ERNIEBot is about to start running with input:\n",
      " role: \u001b[95mfunction\u001b[92m \n",
      " name: \u001b[95mChatWithEB\u001b[92m \n",
      " content: \u001b[95m{\"response\": \"<单词翻译>: meticulous 是一个英语单词，中文翻译为“一丝不苟的”、“细致的”、“小心翼翼的”。\\n\\n<近义词>: 一些与 meticulous 意思相近的词...\u001b[92m \u001b[0m\n",
      "\u001b[92mINFO - [LLM][End] ERNIEBot finished running with output:\n",
      " role: \u001b[93massistant\u001b[92m \n",
      " function_call: \u001b[93m\n",
      "{\n",
      "  \"name\": \"AddWordTool\",\n",
      "  \"thoughts\": \"用户想把meticulous加入到单词本，我已经使用ChatWithEB来获取单词'meticulous'的详细信息，然后需要调用AddWordTool来存储到单词本中\",\n",
      "  \"arguments\": \"{\\\"word\\\":\\\"meticulous\\\",\\\"des\\\":\\\"<单词翻译>: meticulous 是一个英语单词，中文翻译为“一丝不苟的”、“细致的”、“小心翼翼的”。\\\\n\\\\n<近义词>: 一些与 meticulous 意思相近的词语包括 \\\\\\\"thorough\\\\\\\", \\\\\\\"careful\\\\\\\", \\\\\\\"precise\\\\\\\", \\\\\\\"detailed\\\\\\\", \\\\\\\"diligent\\\\\\\", 和 \\\\\\\"methodical\\\\\\\"。\\\\n\\\\n<反义词>: 与 meticulous 意思相反的词语包括 \\\\\\\"careless\\\\\\\", \\\\\\\"haphazard\\\\\\\", \\\\\\\"negligent\\\\\\\", \\\\\\\"sloppy\\\\\\\", 和 \\\\\\\"cursory\\\\\\\"。\\\\n\\\\n<例句>: \\\\n1. She is known for her meticulous attention to detail in her work.\\\\n2. The meticulous planner always made sure to double-check all the arrangements before the event.\\\\n3. He is a meticulous researcher, leaving no stone unturned in his pursuit of the truth.\\\\n4. The cleanliness of the house showed the meticulous nature of its owner.\\\\n5. She approached the project with a meticulous eye for detail, ensuring that everything was perfect before submitting it to her boss.\\\"}\"\n",
      "}\u001b[92m \u001b[0m\n",
      "\u001b[92mINFO - [Tool][Start] \u001b[95mAddWordTool\u001b[92m is about to start running with input:\n",
      "\u001b[95m{\n",
      "  \"word\": \"meticulous\",\n",
      "  \"des\": \"<单词翻译>: meticulous 是一个英语单词，中文翻译为“一丝不苟的”、“细致的”、“小心翼翼的”。\\n\\n<近义词>: 一些与 meticulous 意思相近的词语包括 \\\"thorough\\\", \\\"careful\\\", \\\"precise\\\", \\\"detailed\\\", \\\"diligent\\\", 和 \\\"methodical\\\"。\\n\\n<反义词>: 与 meticulous 意思相反的词语包括 \\\"careless\\\", \\\"haphazard\\\", \\\"negligent\\\", \\\"sloppy\\\", 和 \\\"cursory\\\"。\\n\\n<例句>: \\n1. She is known for her meticulous attention to detail in her work.\\n2. The meticulous planner always made sure to double-check all the arrangements before the event.\\n3. He is a meticulous researcher, leaving no stone unturned in his pursuit of the truth.\\n4. The cleanliness of the house showed the meticulous nature of its owner.\\n5. She approached the project with a meticulous eye for detail, ensuring that everything was perfect before submitting it to her boss.\"\n",
      "}\u001b[92m\u001b[0m\n",
      "\u001b[92mINFO - [Tool][End] \u001b[95mAddWordTool\u001b[92m finished running with output:\n",
      "\u001b[95m{\n",
      "  \"result\": \"<meticulous>单词已添加成功, 当前单词本中有如下单词：meticulous，释义如下<单词翻译>: meticulous 是一个英语单词，中文翻译为“一丝不苟的”、“细致的”、“小心翼翼的”。\\n\\n<近义词>: 一些与 meticulous 意思相近的词语包括 \\\"thorough\\\", \\\"careful\\\", \\\"precise\\\", \\\"detailed\\\", \\\"diligent\\\", 和 \\\"methodical\\\"。\\n\\n<反义词>: 与 meticulous 意思相反的词语包括 \\\"careless\\\", \\\"haphazard\\\", \\\"negligent\\\", \\\"sloppy\\\", 和 \\\"cursory\\\"。\\n\\n<例句>: \\n1. She is known for her meticulous attention to detail in her work.\\n2. The meticulous planner always made sure to double-check all the arrangements before the event.\\n3. He is a meticulous researcher, leaving no stone unturned in his pursuit of the truth.\\n4. The cleanliness of the house showed the meticulous nature of its owner.\\n5. She approached the project with a meticulous eye for detail, ensuring that everything was perfect before submitting it to her boss.\"\n",
      "}\u001b[92m\u001b[0m\n",
      "\u001b[92mINFO - [LLM][Start] ERNIEBot is about to start running with input:\n",
      " role: \u001b[95mfunction\u001b[92m \n",
      " name: \u001b[95mAddWordTool\u001b[92m \n",
      " content: \u001b[95m{\"result\": \"<meticulous>单词已添加成功, 当前单词本中有如下单词：meticulous，释义如下<单词翻译>: meticulous 是一个英语单词，中文翻译为“一丝不苟的”、...\u001b[92m \u001b[0m\n",
      "\u001b[92mINFO - [LLM][End] ERNIEBot finished running with output:\n",
      " role: \u001b[93massistant\u001b[92m \n",
      " content: \u001b[93m根据您的请求，我已经将单词“meticulous”添加到单词本中，并提供了详细的解释和例句。以下是“meticulous”的详细信息：\n",
      "\n",
      "* 单词翻译：meticulous 是一个英语单词，中文翻译为...\u001b[92m \u001b[0m\n",
      "\u001b[92mINFO - [Run][End] FunctionAgent finished running.\u001b[0m\n"
     ]
    }
   ],
   "source": [
    "response = await agent_all.run(\"请帮我把这个单词meticulous存储到单词本中\")"
   ]
  },
  {
   "cell_type": "code",
   "execution_count": 7,
   "metadata": {},
   "outputs": [
    {
     "name": "stdout",
     "output_type": "stream",
     "text": [
      "根据您的请求，我已经将单词“meticulous”添加到单词本中，并提供了详细的解释和例句。以下是“meticulous”的详细信息：\n",
      "\n",
      "* 单词翻译：meticulous 是一个英语单词，中文翻译为“一丝不苟的”、“细致的”、“小心翼翼的”。\n",
      "* 近义词：一些与 meticulous 意思相近的词语包括 “thorough”、“careful”、“precise”、“detailed”、“diligent”和“methodical”。\n",
      "* 反义词：与 meticulous 意思相反的词语包括 “careless”、“haphazard”、“negligent”、“sloppy”和“cursory”。\n",
      "* 例句：\n",
      "1. She is known for her meticulous attention to detail in her work.\n",
      "2. The meticulous planner always made sure to double-check all the arrangements before the event.\n",
      "3. He is a meticulous researcher, leaving no stone unturned in his pursuit of the truth.\n",
      "4. The cleanliness of the house showed the meticulous nature of its owner.\n",
      "5. She approached the project with a meticulous eye for detail, ensuring that everything was perfect before submitting it to her boss.\n",
      "\n",
      "如果您还有其他问题或需要进一步了解“meticulous”的用法，请随时告诉我。\n"
     ]
    }
   ],
   "source": [
    "print(response.text)"
   ]
  },
  {
   "cell_type": "code",
   "execution_count": 8,
   "metadata": {},
   "outputs": [
    {
     "name": "stderr",
     "output_type": "stream",
     "text": [
      "\u001b[92mINFO - [Run][Start] FunctionAgent is about to start running with input:\n",
      "\u001b[94m请帮我把gorgeous存储到单词本中\u001b[92m\u001b[0m\n",
      "\u001b[92mINFO - [LLM][Start] ERNIEBot is about to start running with input:\n",
      " role: \u001b[94muser\u001b[92m \n",
      " content: \u001b[94m请帮我把gorgeous存储到单词本中\u001b[92m \u001b[0m\n",
      "\u001b[92mINFO - [LLM][End] ERNIEBot finished running with output:\n",
      " role: \u001b[93massistant\u001b[92m \n",
      " function_call: \u001b[93m\n",
      "{\n",
      "  \"name\": \"ChatWithEB\",\n",
      "  \"thoughts\": \"用户想把gorgeous加入到单词本，我需要先使用ChatWithEB来获取单词'gorgeous'的详细信息，然后调用AddWordTool来存储到单词本中\",\n",
      "  \"arguments\": \"{\\\"word\\\":\\\"gorgeous\\\"}\"\n",
      "}\u001b[92m \u001b[0m\n",
      "\u001b[92mINFO - [Tool][Start] \u001b[95mChatWithEB\u001b[92m is about to start running with input:\n",
      "\u001b[95m{\n",
      "  \"word\": \"gorgeous\"\n",
      "}\u001b[92m\u001b[0m\n",
      "\u001b[92mINFO - [Tool][End] \u001b[95mChatWithEB\u001b[92m finished running with output:\n",
      "\u001b[95m{\n",
      "  \"response\": \"<单词翻译>: Gorgeous在中文中可翻译为“华丽的”、“绚丽的”或“壮丽的”。\\n\\n<近义词>:\\n\\n1. Magnificent\\n2. Splendid\\n3. Stunning\\n4. Lavish\\n5. Exquisite\\n\\n<反义词>:\\n\\n1. Plain\\n2. Simple\\n3. Ordinary\\n4. Unsightly\\n5. Ugly\\n\\n<例句>:\\n1. She wore a gorgeous red dress that turned heads wherever she went.\\n2. The sunset was absolutely gorgeous, with a range of vibrant colors spreading across the sky.\\n3. They had a gorgeous wedding ceremony at a luxurious hotel overlooking the ocean.\\n4. The city's skyline is gorgeous, especially at night when all the buildings are lit up.\\n5. He bought a gorgeous diamond necklace for his wife's birthday, making her feel like a queen for the day.\"\n",
      "}\u001b[92m\u001b[0m\n",
      "\u001b[92mINFO - [LLM][Start] ERNIEBot is about to start running with input:\n",
      " role: \u001b[95mfunction\u001b[92m \n",
      " name: \u001b[95mChatWithEB\u001b[92m \n",
      " content: \u001b[95m{\"response\": \"<单词翻译>: Gorgeous在中文中可翻译为“华丽的”、“绚丽的”或“壮丽的”。\\n\\n<近义词>:\\n\\n1. Magnificent\\n2. Splendid\\n3...\u001b[92m \u001b[0m\n",
      "\u001b[92mINFO - [LLM][End] ERNIEBot finished running with output:\n",
      " role: \u001b[93massistant\u001b[92m \n",
      " function_call: \u001b[93m\n",
      "{\n",
      "  \"name\": \"AddWordTool\",\n",
      "  \"thoughts\": \"用户想把gorgeous加入到单词本，我已经使用ChatWithEB来获取单词'gorgeous'的详细信息，然后需要调用AddWordTool来存储到单词本中\",\n",
      "  \"arguments\": \"{\\\"word\\\":\\\"gorgeous\\\",\\\"des\\\":\\\"<单词翻译>: Gorgeous在中文中可翻译为“华丽的”、“绚丽的”或“壮丽的”。\\\\n\\\\n<近义词>:\\\\n\\\\n1. Magnificent\\\\n2. Splendid\\\\n3. Stunning\\\\n4. Lavish\\\\n5. Exquisite\\\\n\\\\n<反义词>:\\\\n\\\\n1. Plain\\\\n2. Simple\\\\n3. Ordinary\\\\n4. Unsightly\\\\n5. Ugly\\\\n\\\\n<例句>:\\\\n1. She wore a gorgeous red dress that turned heads wherever she went.\\\\n2. The sunset was absolutely gorgeous, with a range of vibrant colors spreading across the sky.\\\\n3. They had a gorgeous wedding ceremony at a luxurious hotel overlooking the ocean.\\\\n4. The city's skyline is gorgeous, especially at night when all the buildings are lit up.\\\\n5. He bought a gorgeous diamond necklace for his wife's birthday, making her feel like a queen for the day.\\\"}\"\n",
      "}\u001b[92m \u001b[0m\n",
      "\u001b[92mINFO - [Tool][Start] \u001b[95mAddWordTool\u001b[92m is about to start running with input:\n",
      "\u001b[95m{\n",
      "  \"word\": \"gorgeous\",\n",
      "  \"des\": \"<单词翻译>: Gorgeous在中文中可翻译为“华丽的”、“绚丽的”或“壮丽的”。\\n\\n<近义词>:\\n\\n1. Magnificent\\n2. Splendid\\n3. Stunning\\n4. Lavish\\n5. Exquisite\\n\\n<反义词>:\\n\\n1. Plain\\n2. Simple\\n3. Ordinary\\n4. Unsightly\\n5. Ugly\\n\\n<例句>:\\n1. She wore a gorgeous red dress that turned heads wherever she went.\\n2. The sunset was absolutely gorgeous, with a range of vibrant colors spreading across the sky.\\n3. They had a gorgeous wedding ceremony at a luxurious hotel overlooking the ocean.\\n4. The city's skyline is gorgeous, especially at night when all the buildings are lit up.\\n5. He bought a gorgeous diamond necklace for his wife's birthday, making her feel like a queen for the day.\"\n",
      "}\u001b[92m\u001b[0m\n",
      "\u001b[92mINFO - [Tool][End] \u001b[95mAddWordTool\u001b[92m finished running with output:\n",
      "\u001b[95m{\n",
      "  \"result\": \"<gorgeous>单词已添加成功, 当前单词本中有如下单词：meticulous\\ngorgeous，释义如下<单词翻译>: Gorgeous在中文中可翻译为“华丽的”、“绚丽的”或“壮丽的”。\\n\\n<近义词>:\\n\\n1. Magnificent\\n2. Splendid\\n3. Stunning\\n4. Lavish\\n5. Exquisite\\n\\n<反义词>:\\n\\n1. Plain\\n2. Simple\\n3. Ordinary\\n4. Unsightly\\n5. Ugly\\n\\n<例句>:\\n1. She wore a gorgeous red dress that turned heads wherever she went.\\n2. The sunset was absolutely gorgeous, with a range of vibrant colors spreading across the sky.\\n3. They had a gorgeous wedding ceremony at a luxurious hotel overlooking the ocean.\\n4. The city's skyline is gorgeous, especially at night when all the buildings are lit up.\\n5. He bought a gorgeous diamond necklace for his wife's birthday, making her feel like a queen for the day.\"\n",
      "}\u001b[92m\u001b[0m\n",
      "\u001b[92mINFO - [LLM][Start] ERNIEBot is about to start running with input:\n",
      " role: \u001b[95mfunction\u001b[92m \n",
      " name: \u001b[95mAddWordTool\u001b[92m \n",
      " content: \u001b[95m{\"result\": \"<gorgeous>单词已添加成功, 当前单词本中有如下单词：meticulous\\ngorgeous，释义如下<单词翻译>: Gorgeous在中文中可翻译为“华丽的”、“绚...\u001b[92m \u001b[0m\n",
      "\u001b[92mINFO - [LLM][End] ERNIEBot finished running with output:\n",
      " role: \u001b[93massistant\u001b[92m \n",
      " content: \u001b[93m根据您的请求，我已经将单词“gorgeous”添加到单词本中，并提供了详细的解释和例句。以下是“gorgeous”的详细信息：\n",
      "\n",
      "* 单词翻译：gorgeous 在中文中可翻译为“华丽的”、“绚丽的”...\u001b[92m \u001b[0m\n",
      "\u001b[92mINFO - [Run][End] FunctionAgent finished running.\u001b[0m\n"
     ]
    }
   ],
   "source": [
    "response = await agent_all.run(\"请帮我把gorgeous存储到单词本中\")"
   ]
  },
  {
   "cell_type": "code",
   "execution_count": 9,
   "metadata": {},
   "outputs": [
    {
     "name": "stdout",
     "output_type": "stream",
     "text": [
      "根据您的请求，我已经将单词“gorgeous”添加到单词本中，并提供了详细的解释和例句。以下是“gorgeous”的详细信息：\n",
      "\n",
      "* 单词翻译：gorgeous 在中文中可翻译为“华丽的”、“绚丽的”或“壮丽的”。\n",
      "* 近义词：magnificent、splendid、stunning、lavish、exquisite。\n",
      "* 反义词：plain、simple、ordinary、unsightly、ugly。\n",
      "* 例句：\n",
      "1. She wore a gorgeous red dress that turned heads wherever she went.\n",
      "2. The sunset was absolutely gorgeous, with a range of vibrant colors spreading across the sky.\n",
      "3. They had a gorgeous wedding ceremony at a luxurious hotel overlooking the ocean.\n",
      "4. The city's skyline is gorgeous, especially at night when all the buildings are lit up.\n",
      "5. He bought a gorgeous diamond necklace for his wife's birthday, making her feel like a queen for the day.\n",
      "\n",
      "如果您还有其他问题或需要进一步了解“gorgeous”的用法，请随时告诉我。\n"
     ]
    }
   ],
   "source": [
    "print(response.text)"
   ]
  },
  {
   "cell_type": "code",
   "execution_count": 10,
   "metadata": {},
   "outputs": [
    {
     "data": {
      "text/plain": [
       "{'meticulous': '<单词翻译>: meticulous 是一个英语单词，中文翻译为“一丝不苟的”、“细致的”、“小心翼翼的”。\\n\\n<近义词>: 一些与 meticulous 意思相近的词语包括 \"thorough\", \"careful\", \"precise\", \"detailed\", \"diligent\", 和 \"methodical\"。\\n\\n<反义词>: 与 meticulous 意思相反的词语包括 \"careless\", \"haphazard\", \"negligent\", \"sloppy\", 和 \"cursory\"。\\n\\n<例句>: \\n1. She is known for her meticulous attention to detail in her work.\\n2. The meticulous planner always made sure to double-check all the arrangements before the event.\\n3. He is a meticulous researcher, leaving no stone unturned in his pursuit of the truth.\\n4. The cleanliness of the house showed the meticulous nature of its owner.\\n5. She approached the project with a meticulous eye for detail, ensuring that everything was perfect before submitting it to her boss.',\n",
       " 'gorgeous': \"<单词翻译>: Gorgeous在中文中可翻译为“华丽的”、“绚丽的”或“壮丽的”。\\n\\n<近义词>:\\n\\n1. Magnificent\\n2. Splendid\\n3. Stunning\\n4. Lavish\\n5. Exquisite\\n\\n<反义词>:\\n\\n1. Plain\\n2. Simple\\n3. Ordinary\\n4. Unsightly\\n5. Ugly\\n\\n<例句>:\\n1. She wore a gorgeous red dress that turned heads wherever she went.\\n2. The sunset was absolutely gorgeous, with a range of vibrant colors spreading across the sky.\\n3. They had a gorgeous wedding ceremony at a luxurious hotel overlooking the ocean.\\n4. The city's skyline is gorgeous, especially at night when all the buildings are lit up.\\n5. He bought a gorgeous diamond necklace for his wife's birthday, making her feel like a queen for the day.\"}"
      ]
     },
     "execution_count": 10,
     "metadata": {},
     "output_type": "execute_result"
    }
   ],
   "source": [
    "add_word_tool.word_books"
   ]
  },
  {
   "cell_type": "markdown",
   "metadata": {},
   "source": [
    "## Agent其他相关方法\n",
    "除了上述主要功能以外，接下来这个章节主要用于介绍一些其他可能会使用到的智能体功能。"
   ]
  },
  {
   "cell_type": "markdown",
   "metadata": {},
   "source": [
    "### AgentResponse\n",
    "\n",
    "AgentResponse作为智能体返回的结果，主要包含以下内容：\n",
    "1. `text`: Agent在本Run中返回的最终文本\n",
    "2. `steps`: 包括Action\n",
    "\n",
    "    Agent在步骤中涉及到的文件将存放在Step中，包括输入文件以及输出文件\n",
    "3. `chat_history`: Agent在本Run中的对话历史\n",
    "4. `status`: 包括`FINISHED`和`STOPPED`，其中`FINISHED`表示正常结束，`STOPPED`表示智能体因达到最大step数目强行终止"
   ]
  },
  {
   "cell_type": "code",
   "execution_count": 11,
   "metadata": {},
   "outputs": [
    {
     "data": {
      "text/plain": [
       "[<HumanMessage role: 'user', content: '请帮我把gorgeous存储到单词本中', token_count: 1459>,\n",
       " <AIMessage role: 'assistant', function_call: {'name': 'ChatWithEB', 'thoughts': \"用户想把gorgeous加入到单词本，我需要先使用ChatWithEB来获取单词'gorgeous'的详细信息，然后调用AddWordTool来存储到单词本中\", 'arguments': '{\"word\":\"gorgeous\"}'}, token_count: 49>,\n",
       " <FunctionMessage role: 'function', name: 'ChatWithEB', content: '{\"response\": \"<单词翻译>: Gorgeous在中文中可翻译为“华丽的”、“绚丽的”或“壮丽的”。\\\\n\\\\n<近义词>:\\\\n\\\\n1. Magnificent\\\\n2. Splendid\\\\n3. Stunning\\\\n4. Lavish\\\\n5. Exquisite\\\\n\\\\n<反义词>:\\\\n\\\\n1. Plain\\\\n2. Simple\\\\n3. Ordinary\\\\n4. Unsightly\\\\n5. Ugly\\\\n\\\\n<例句>:\\\\n1. She wore a gorgeous red dress that turned heads wherever she went.\\\\n2. The sunset was absolutely gorgeous, with a range of vibrant colors spreading across the sky.\\\\n3. They had a gorgeous wedding ceremony at a luxurious hotel overlooking the ocean.\\\\n4. The city\\'s skyline is gorgeous, especially at night when all the buildings are lit up.\\\\n5. He bought a gorgeous diamond necklace for his wife\\'s birthday, making her feel like a queen for the day.\"}'>,\n",
       " <AIMessage role: 'assistant', function_call: {'name': 'AddWordTool', 'thoughts': \"用户想把gorgeous加入到单词本，我已经使用ChatWithEB来获取单词'gorgeous'的详细信息，然后需要调用AddWordTool来存储到单词本中\", 'arguments': '{\"word\":\"gorgeous\",\"des\":\"<单词翻译>: Gorgeous在中文中可翻译为“华丽的”、“绚丽的”或“壮丽的”。\\\\n\\\\n<近义词>:\\\\n\\\\n1. Magnificent\\\\n2. Splendid\\\\n3. Stunning\\\\n4. Lavish\\\\n5. Exquisite\\\\n\\\\n<反义词>:\\\\n\\\\n1. Plain\\\\n2. Simple\\\\n3. Ordinary\\\\n4. Unsightly\\\\n5. Ugly\\\\n\\\\n<例句>:\\\\n1. She wore a gorgeous red dress that turned heads wherever she went.\\\\n2. The sunset was absolutely gorgeous, with a range of vibrant colors spreading across the sky.\\\\n3. They had a gorgeous wedding ceremony at a luxurious hotel overlooking the ocean.\\\\n4. The city\\'s skyline is gorgeous, especially at night when all the buildings are lit up.\\\\n5. He bought a gorgeous diamond necklace for his wife\\'s birthday, making her feel like a queen for the day.\"}'}, token_count: 272>,\n",
       " <FunctionMessage role: 'function', name: 'AddWordTool', content: '{\"result\": \"<gorgeous>单词已添加成功, 当前单词本中有如下单词：meticulous\\\\ngorgeous，释义如下<单词翻译>: Gorgeous在中文中可翻译为“华丽的”、“绚丽的”或“壮丽的”。\\\\n\\\\n<近义词>:\\\\n\\\\n1. Magnificent\\\\n2. Splendid\\\\n3. Stunning\\\\n4. Lavish\\\\n5. Exquisite\\\\n\\\\n<反义词>:\\\\n\\\\n1. Plain\\\\n2. Simple\\\\n3. Ordinary\\\\n4. Unsightly\\\\n5. Ugly\\\\n\\\\n<例句>:\\\\n1. She wore a gorgeous red dress that turned heads wherever she went.\\\\n2. The sunset was absolutely gorgeous, with a range of vibrant colors spreading across the sky.\\\\n3. They had a gorgeous wedding ceremony at a luxurious hotel overlooking the ocean.\\\\n4. The city\\'s skyline is gorgeous, especially at night when all the buildings are lit up.\\\\n5. He bought a gorgeous diamond necklace for his wife\\'s birthday, making her feel like a queen for the day.\"}'>,\n",
       " <AIMessage role: 'assistant', content: \"根据您的请求，我已经将单词“gorgeous”添加到单词本中，并提供了详细的解释和例句。以下是“gorgeous”的详细信息：\\n\\n* 单词翻译：gorgeous 在中文中可翻译为“华丽的”、“绚丽的”或“壮丽的”。\\n* 近义词：magnificent、splendid、stunning、lavish、exquisite。\\n* 反义词：plain、simple、ordinary、unsightly、ugly。\\n* 例句：\\n1. She wore a gorgeous red dress that turned heads wherever she went.\\n2. The sunset was absolutely gorgeous, with a range of vibrant colors spreading across the sky.\\n3. They had a gorgeous wedding ceremony at a luxurious hotel overlooking the ocean.\\n4. The city's skyline is gorgeous, especially at night when all the buildings are lit up.\\n5. He bought a gorgeous diamond necklace for his wife's birthday, making her feel like a queen for the day.\\n\\n如果您还有其他问题或需要进一步了解“gorgeous”的用法，请随时告诉我。\", token_count: 237>]"
      ]
     },
     "execution_count": 11,
     "metadata": {},
     "output_type": "execute_result"
    }
   ],
   "source": [
    "response.chat_history"
   ]
  },
  {
   "cell_type": "code",
   "execution_count": 12,
   "metadata": {},
   "outputs": [
    {
     "data": {
      "text/plain": [
       "'FINISHED'"
      ]
     },
     "execution_count": 12,
     "metadata": {},
     "output_type": "execute_result"
    }
   ],
   "source": [
    "response.status"
   ]
  },
  {
   "cell_type": "code",
   "execution_count": 13,
   "metadata": {},
   "outputs": [
    {
     "data": {
      "text/plain": [
       "[ToolStep(info={'tool_name': 'ChatWithEB', 'tool_args': '{\"word\":\"gorgeous\"}'}, result='{\"response\": \"<单词翻译>: Gorgeous在中文中可翻译为“华丽的”、“绚丽的”或“壮丽的”。\\\\n\\\\n<近义词>:\\\\n\\\\n1. Magnificent\\\\n2. Splendid\\\\n3. Stunning\\\\n4. Lavish\\\\n5. Exquisite\\\\n\\\\n<反义词>:\\\\n\\\\n1. Plain\\\\n2. Simple\\\\n3. Ordinary\\\\n4. Unsightly\\\\n5. Ugly\\\\n\\\\n<例句>:\\\\n1. She wore a gorgeous red dress that turned heads wherever she went.\\\\n2. The sunset was absolutely gorgeous, with a range of vibrant colors spreading across the sky.\\\\n3. They had a gorgeous wedding ceremony at a luxurious hotel overlooking the ocean.\\\\n4. The city\\'s skyline is gorgeous, especially at night when all the buildings are lit up.\\\\n5. He bought a gorgeous diamond necklace for his wife\\'s birthday, making her feel like a queen for the day.\"}', input_files=[], output_files=[]),\n",
       " ToolStep(info={'tool_name': 'AddWordTool', 'tool_args': '{\"word\":\"gorgeous\",\"des\":\"<单词翻译>: Gorgeous在中文中可翻译为“华丽的”、“绚丽的”或“壮丽的”。\\\\n\\\\n<近义词>:\\\\n\\\\n1. Magnificent\\\\n2. Splendid\\\\n3. Stunning\\\\n4. Lavish\\\\n5. Exquisite\\\\n\\\\n<反义词>:\\\\n\\\\n1. Plain\\\\n2. Simple\\\\n3. Ordinary\\\\n4. Unsightly\\\\n5. Ugly\\\\n\\\\n<例句>:\\\\n1. She wore a gorgeous red dress that turned heads wherever she went.\\\\n2. The sunset was absolutely gorgeous, with a range of vibrant colors spreading across the sky.\\\\n3. They had a gorgeous wedding ceremony at a luxurious hotel overlooking the ocean.\\\\n4. The city\\'s skyline is gorgeous, especially at night when all the buildings are lit up.\\\\n5. He bought a gorgeous diamond necklace for his wife\\'s birthday, making her feel like a queen for the day.\"}'}, result='{\"result\": \"<gorgeous>单词已添加成功, 当前单词本中有如下单词：meticulous\\\\ngorgeous，释义如下<单词翻译>: Gorgeous在中文中可翻译为“华丽的”、“绚丽的”或“壮丽的”。\\\\n\\\\n<近义词>:\\\\n\\\\n1. Magnificent\\\\n2. Splendid\\\\n3. Stunning\\\\n4. Lavish\\\\n5. Exquisite\\\\n\\\\n<反义词>:\\\\n\\\\n1. Plain\\\\n2. Simple\\\\n3. Ordinary\\\\n4. Unsightly\\\\n5. Ugly\\\\n\\\\n<例句>:\\\\n1. She wore a gorgeous red dress that turned heads wherever she went.\\\\n2. The sunset was absolutely gorgeous, with a range of vibrant colors spreading across the sky.\\\\n3. They had a gorgeous wedding ceremony at a luxurious hotel overlooking the ocean.\\\\n4. The city\\'s skyline is gorgeous, especially at night when all the buildings are lit up.\\\\n5. He bought a gorgeous diamond necklace for his wife\\'s birthday, making her feel like a queen for the day.\"}', input_files=[], output_files=[])]"
      ]
     },
     "execution_count": 13,
     "metadata": {},
     "output_type": "execute_result"
    }
   ],
   "source": [
    "# Step为该Run中Agent所执行的相关操作，含有tool_name（调用工具的名称），tool_args（工具的入参），input_files（输入的文件）， output_files（输出的文件）\n",
    "response.steps"
   ]
  },
  {
   "cell_type": "markdown",
   "metadata": {},
   "source": [
    "### Tool以及Memory相关用法"
   ]
  },
  {
   "cell_type": "code",
   "execution_count": 14,
   "metadata": {},
   "outputs": [
    {
     "data": {
      "text/plain": [
       "[<name: ChatWithEB, description: ChatWithEB是一款根据用户的提供的单词，获取一个具体的单词描述、翻译以及例句的工具>,\n",
       " <name: AddWordTool, description: 添加单词以及它的详细解释到词库当中>]"
      ]
     },
     "execution_count": 14,
     "metadata": {},
     "output_type": "execute_result"
    }
   ],
   "source": [
    "# 获取当前所有工具\n",
    "agent_all.get_tools()"
   ]
  },
  {
   "cell_type": "code",
   "execution_count": 15,
   "metadata": {},
   "outputs": [],
   "source": [
    "# 查找某个工具\n",
    "eb_tool = agent_all.get_tool(\"ChatWithEB\")\n",
    "# 取消某个工具\n",
    "agent_all.unload_tool(eb_tool)\n",
    "# 加载某个工具\n",
    "agent_all.load_tool(eb_tool)"
   ]
  },
  {
   "cell_type": "code",
   "execution_count": 16,
   "metadata": {},
   "outputs": [
    {
     "data": {
      "text/plain": [
       "[<HumanMessage role: 'user', content: '请帮我把这个单词meticulous存储到单词本中', token_count: 1194>,\n",
       " <AIMessage role: 'assistant', content: '根据您的请求，我已经将单词“meticulous”添加到单词本中，并提供了详细的解释和例句。以下是“meticulous”的详细信息：\\n\\n* 单词翻译：meticulous 是一个英语单词，中文翻译为“一丝不苟的”、“细致的”、“小心翼翼的”。\\n* 近义词：一些与 meticulous 意思相近的词语包括 “thorough”、“careful”、“precise”、“detailed”、“diligent”和“methodical”。\\n* 反义词：与 meticulous 意思相反的词语包括 “careless”、“haphazard”、“negligent”、“sloppy”和“cursory”。\\n* 例句：\\n1. She is known for her meticulous attention to detail in her work.\\n2. The meticulous planner always made sure to double-check all the arrangements before the event.\\n3. He is a meticulous researcher, leaving no stone unturned in his pursuit of the truth.\\n4. The cleanliness of the house showed the meticulous nature of its owner.\\n5. She approached the project with a meticulous eye for detail, ensuring that everything was perfect before submitting it to her boss.\\n\\n如果您还有其他问题或需要进一步了解“meticulous”的用法，请随时告诉我。', token_count: 271>,\n",
       " <HumanMessage role: 'user', content: '请帮我把gorgeous存储到单词本中', token_count: 1459>,\n",
       " <AIMessage role: 'assistant', content: \"根据您的请求，我已经将单词“gorgeous”添加到单词本中，并提供了详细的解释和例句。以下是“gorgeous”的详细信息：\\n\\n* 单词翻译：gorgeous 在中文中可翻译为“华丽的”、“绚丽的”或“壮丽的”。\\n* 近义词：magnificent、splendid、stunning、lavish、exquisite。\\n* 反义词：plain、simple、ordinary、unsightly、ugly。\\n* 例句：\\n1. She wore a gorgeous red dress that turned heads wherever she went.\\n2. The sunset was absolutely gorgeous, with a range of vibrant colors spreading across the sky.\\n3. They had a gorgeous wedding ceremony at a luxurious hotel overlooking the ocean.\\n4. The city's skyline is gorgeous, especially at night when all the buildings are lit up.\\n5. He bought a gorgeous diamond necklace for his wife's birthday, making her feel like a queen for the day.\\n\\n如果您还有其他问题或需要进一步了解“gorgeous”的用法，请随时告诉我。\", token_count: 237>]"
      ]
     },
     "execution_count": 16,
     "metadata": {},
     "output_type": "execute_result"
    }
   ],
   "source": [
    "# 获取Agent的对话历史\n",
    "agent_all.memory.get_messages()"
   ]
  },
  {
   "cell_type": "code",
   "execution_count": 17,
   "metadata": {},
   "outputs": [
    {
     "data": {
      "text/plain": [
       "[]"
      ]
     },
     "execution_count": 17,
     "metadata": {},
     "output_type": "execute_result"
    }
   ],
   "source": [
    "# 重置Agent的对话历史\n",
    "agent_all.reset_memory()\n",
    "agent_all.memory.get_messages()"
   ]
  },
  {
   "cell_type": "markdown",
   "metadata": {},
   "source": [
    "# "
   ]
  }
 ],
 "metadata": {
  "kernelspec": {
   "display_name": "ernie",
   "language": "python",
   "name": "python3"
  },
  "language_info": {
   "codemirror_mode": {
    "name": "ipython",
    "version": 3
   },
   "file_extension": ".py",
   "mimetype": "text/x-python",
   "name": "python",
   "nbconvert_exporter": "python",
   "pygments_lexer": "ipython3",
   "version": "3.10.13"
  }
 },
 "nbformat": 4,
 "nbformat_minor": 2
}
