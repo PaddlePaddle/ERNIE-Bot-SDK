{
 "cells": [
  {
   "cell_type": "markdown",
   "metadata": {},
   "source": [
    "# 智能体(Agent)\n",
    "ERNIE Bot Agent 基于文心大模型的 Function Calling 能力实现了多工具编排和自动调度功能，并且允许工具、插件、知识库等不同组件的混合编排。\n",
    "\n",
    "除了自动调度，我们未来还将支持更多的编排模式，例如手动编排、半自动编排，为开发者提供更大的灵活性。\n",
    "\n"
   ]
  },
  {
   "cell_type": "markdown",
   "metadata": {},
   "source": [
    "# Function Agent介绍\n",
    "在此教程中，主要介绍一个自动智能调度的Function Agent的运行过程，Function Agent的编排能力由集成的LLM大语言模型（此处为文心）的函数调用能力驱动。\n",
    "\n",
    "通常由Agent将用户的自然语言输入传递请求LLM生成一个可以解析的Action，\n",
    "\n",
    "然后Agent根据Action，调用相应的工具或插件，然后完成此操作并再次请求LLM决定是否要产生下一个Action或者终止。\n",
    "\n",
    "一个智能体的运行大致分为以下三步：\n",
    "1. 创建需要调用的工具\n",
    "2. 创建智能体\n",
    "3. 调用智能体\n",
    "\n",
    "[Optional]建议将环境变量`EB_AGENT_LOGGING_LEVEL`设置为info打开相关日志，以方便观察智能体具体的运行过程。\n",
    "\n",
    "\n",
    "接下来将按照这三步，结合一个具体的实例进行介绍：\n",
    "\n",
    "实例的背景为创建一个英语学习智能体，帮助用户学习英语单词，包括单词的释义、近义词、反义词和例句并将相关信息添加到单词本。"
   ]
  },
  {
   "cell_type": "code",
   "execution_count": 1,
   "metadata": {},
   "outputs": [],
   "source": [
    "import os\n",
    "\n",
    "os.environ[\"EB_AGENT_LOGGING_LEVEL\"] = \"INFO\"\n",
    "# os.environ[\"EB_AGENT_ACCESS_TOKEN\"] = \"<access_token>\"\n",
    "os.environ[\"EB_AGENT_ACCESS_TOKEN\"] = \"4ce50e3378f418d271c480c8ddfa818537071dbe\"\n",
    "\n",
    "from pydantic import Field\n",
    "from typing import Dict, Type, Any\n",
    "\n",
    "from erniebot_agent.chat_models import ERNIEBot\n",
    "from erniebot_agent.memory import HumanMessage, SlidingWindowMemory\n",
    "from erniebot_agent.tools.base import Tool\n",
    "from erniebot_agent.tools.schema import ToolParameterView\n",
    "from erniebot_agent.agents import FunctionAgent\n",
    "from erniebot_agent.tools import RemoteToolkit\n",
    "from erniebot_agent.file import GlobalFileManagerHandler"
   ]
  },
  {
   "cell_type": "markdown",
   "metadata": {},
   "source": [
    "## 创建工具\n",
    "此章节中，主要创建用于英语学习智能体相关的本地工具以便于用户直接体验，不会对tool的相关内容有太多详细的介绍，关于tool的详细内容，详见[local_tool.ipynb](./local_tool.ipynb)。\n",
    "\n",
    "其中，对于工具的examples的描写，用到了Message模块，详见[memory.ipynb](./memory.ipynb)。"
   ]
  },
  {
   "cell_type": "markdown",
   "metadata": {},
   "source": [
    "## 定义ChatWithEB工具\n",
    "在智能体(Agent)中，我们创建一个名为ChatWithEB的工具，该工具用于为用户的单词提供详细的释义，其中可以通过`prompt`或者`system`的方式来控制，达成用户的相关目标（本例中为按要求获取单词相关信息）。\n",
    "\n",
    "同时`ChatWithEB`工具也是一个推荐的本地工具，加载在智能体当中用于每一个Run中途的交互，从而更好地完成智能体的功能。\n",
    "\n",
    "例如在本例中，我们通过`ChatWithEB`工具来获取用户输入的单词的详细信息，进而能直接添加进入单词本当中。\n",
    "\n",
    "如果不使用这个工具，那么用户无法通过一句简单的\"帮我添加单词\"同时执行这三个操作：\n",
    "\n",
    "需要先通过OCR获得单词内容，然后开启下一轮对话通过prompt获得单词相关内容，然后再通过\"帮我添加单词\"添加相关单词。\n"
   ]
  },
  {
   "cell_type": "code",
   "execution_count": 2,
   "metadata": {},
   "outputs": [],
   "source": [
    "class ChatWithEBInputView(ToolParameterView):\n",
    "    word: str = Field(description=\"需要获取详细信息的单词\")\n",
    "\n",
    "\n",
    "class ChatWithEBOutputView(ToolParameterView):\n",
    "    response: str = Field(description=\"单词的详细释义\")\n",
    "\n",
    "\n",
    "class ChatWithEB(Tool):\n",
    "    description: str = \"ChatWithEB是一款根据用户的提供的单词，获取一个具体的单词描述、翻译以及例句的工具\"\n",
    "    input_type: Type[ToolParameterView] = ChatWithEBInputView\n",
    "    ouptut_type: Type[ToolParameterView] = ChatWithEBOutputView\n",
    "\n",
    "    def __init__(self, llm: ERNIEBot):\n",
    "        self.llm = llm\n",
    "\n",
    "    async def __call__(self, word: str) -> Dict[str, str]:\n",
    "        prompt = f\"请告诉我{word}的详细信息，以下面的格式输出（其中单词翻译需要是中文，其他为英语）\" \"<单词翻译>:\\n<近义词>:\\n<反义词>:\\n<例句>:\\n\"\n",
    "        response = await self.llm.chat([HumanMessage(prompt)])\n",
    "        return {\"response\": response.content}\n",
    "\n",
    "SYSTEM_MESSAGE = \"你是一个英语老师，当用户给你一个单词的时候，请你专业而通俗的返回英语的<单词翻译><近义词><反义词><例句>\"\n",
    "llm = ERNIEBot(model=\"ernie-4.0\", system=SYSTEM_MESSAGE)\n",
    "word_helper_tool = ChatWithEB(llm)"
   ]
  },
  {
   "cell_type": "markdown",
   "metadata": {},
   "source": [
    "## 定义AddWordTool工具\n",
    "在此智能体(Agent)中，我们创建一个名为AddWordTool的工具，用于将用户的单词添加至单词本。此工具为`Tool`章节中的示例工具，此处不做过多介绍。详见[local_tool.ipynb](./local_tool.ipynb)。"
   ]
  },
  {
   "cell_type": "code",
   "execution_count": 3,
   "metadata": {},
   "outputs": [],
   "source": [
    "class AddWordInput(ToolParameterView):\n",
    "    word: str = Field(description=\"待添加的单词\")\n",
    "    des: str = Field(description=\"待添加的单词的详细释义,含有<单词翻译><近义词><反义词><例句>\")\n",
    "\n",
    "\n",
    "class AddWordOutput(ToolParameterView):\n",
    "    result: str = Field(description=\"表示是否成功将单词成功添加到词库当中\")\n",
    "\n",
    "\n",
    "class AddWordTool(Tool):\n",
    "    description: str = \"添加单词以及它的详细解释到词库当中\"\n",
    "    input_type: Type[ToolParameterView] = AddWordInput\n",
    "    ouptut_type: Type[ToolParameterView] = AddWordOutput\n",
    "\n",
    "    def __init__(self) -> None:\n",
    "        self.word_books = {}\n",
    "        super().__init__()\n",
    "\n",
    "    async def __call__(self, word: str, des: str) -> Dict[str, Any]:\n",
    "        if word in self.word_books:\n",
    "            return {\"result\": f\"<{word}>单词已经存在，无需添加\"}\n",
    "        self.word_books[word] = des\n",
    "        words = \"\\n\".join(list(self.word_books.keys()))\n",
    "        return {\"result\": f\"<{word}>单词已添加成功, 当前单词本中有如下单词：{words}，释义如下{des}\"}\n",
    "\n",
    "add_word_tool = AddWordTool()"
   ]
  },
  {
   "cell_type": "markdown",
   "metadata": {},
   "source": [
    "## 从AIStudio导入RemoteTool\n",
    "此处不做过多介绍。详见[remote_tool.ipynb](./remote_tool.ipynb)。"
   ]
  },
  {
   "cell_type": "code",
   "execution_count": 4,
   "metadata": {},
   "outputs": [],
   "source": [
    "ocr_tool = RemoteToolkit.from_aistudio(\"highacc-ocr\").get_tools()[0]"
   ]
  },
  {
   "cell_type": "markdown",
   "metadata": {},
   "source": [
    "## 创建智能体\n",
    "在此步骤中将展示如何创建智能体。\n",
    "\n",
    "1. 指定调用的文心大模型，通过`enable_multi_step_tool_call`接口打开multi_tool_call功能，开启之后即可通过一个指令进行多次不同工具的调用，通过`max_steps`控制此Run中执行的最大的Step以免一直循环。\n",
    "\n",
    "2. 为智能体添加默认的`ChatWithEB`和`AddWordTool`工具。\n",
    "\n",
    "3. [Optional]为智能体指定特殊的`Memory`，默认为`WholeMemory`，详见[memory.ipynb](./memory.ipynb)。\n",
    "\n",
    "4. [Optional]为智能体指定`SystemMessage`，设置全局的指令。"
   ]
  },
  {
   "cell_type": "code",
   "execution_count": 5,
   "metadata": {},
   "outputs": [],
   "source": [
    "memory = SlidingWindowMemory(max_round=5)\n",
    "llm_final = ERNIEBot(model=\"ernie-3.5\", api_type=\"aistudio\", enable_multi_step_tool_call=True)\n",
    "agent_all = FunctionAgent(llm=llm_final, tools=[word_helper_tool, add_word_tool, ocr_tool], memory=memory)"
   ]
  },
  {
   "cell_type": "markdown",
   "metadata": {},
   "source": [
    "## 调用智能体\n",
    "在完成了智能体创建之后，通过异步run函数执行指令，并获取返回结果（如果打开了multi_tool_call，那么仅需一句指令即可同时执行图片OCR，单词解释以及添加至单词本三个动作）。\n",
    "\n",
    "如果需要运行过程中涉及到文件，可以先通过`file_manager`创建`File`对象，再通过run的`files`参数传入。"
   ]
  },
  {
   "cell_type": "code",
   "execution_count": 6,
   "metadata": {},
   "outputs": [
    {
     "name": "stdout",
     "output_type": "stream",
     "text": [
      "--2023-12-28 18:08:54--  https://paddlenlp.bj.bcebos.com/datasets/examples/road_sign.jpeg\n",
      "Resolving paddlenlp.bj.bcebos.com (paddlenlp.bj.bcebos.com)... 36.110.192.178\n",
      "Connecting to paddlenlp.bj.bcebos.com (paddlenlp.bj.bcebos.com)|36.110.192.178|:443... connected.\n",
      "HTTP request sent, awaiting response... 200 OK\n",
      "Length: 44056 (43K) [image/jpeg]\n",
      "Saving to: 'road_sign.jpeg.1'\n",
      "\n",
      "road_sign.jpeg.1    100%[===================>]  43.02K   274KB/s    in 0.2s    \n",
      "\n",
      "2023-12-28 18:08:54 (274 KB/s) - 'road_sign.jpeg.1' saved [44056/44056]\n",
      "\n"
     ]
    }
   ],
   "source": [
    "!wget https://paddlenlp.bj.bcebos.com/datasets/examples/road_sign.jpeg"
   ]
  },
  {
   "cell_type": "code",
   "execution_count": 7,
   "metadata": {},
   "outputs": [
    {
     "name": "stderr",
     "output_type": "stream",
     "text": [
      "\u001b[92mINFO - [Run][Start] FunctionAgent is about to start running with input:\n",
      "\u001b[94m帮我把图片中的第一个英语单词进行解释之后添加到单词本中\u001b[92m\u001b[0m\n",
      "\u001b[92mINFO - [LLM][Start] ERNIEBot is about to start running with input:\n",
      " role: \u001b[94muser\u001b[92m \n",
      " content: \u001b[94m帮我把图片中的第一个英语单词进行解释之后添加到单词本中\n",
      "<file>file-local-1bb4052c-a569-11ee-b37e-56c70f692df9</file>\u001b[92m \u001b[0m\n"
     ]
    },
    {
     "ename": "InvalidTokenError",
     "evalue": "暂无权限使用，请在 AI Studio 正确获取访问令牌(access token)使用",
     "output_type": "error",
     "traceback": [
      "\u001b[0;31m---------------------------------------------------------------------------\u001b[0m",
      "\u001b[0;31mInvalidTokenError\u001b[0m                         Traceback (most recent call last)",
      "\u001b[1;32m/Users/tanzhehao/Documents/ERINE/ERNIE-Bot-SDK/erniebot-agent/cookbook/FunctionAgent.ipynb 单元格 15\u001b[0m line \u001b[0;36m3\n\u001b[1;32m      <a href='vscode-notebook-cell:/Users/tanzhehao/Documents/ERINE/ERNIE-Bot-SDK/erniebot-agent/cookbook/FunctionAgent.ipynb#Y111sZmlsZQ%3D%3D?line=0'>1</a>\u001b[0m file_manager \u001b[39m=\u001b[39m \u001b[39mawait\u001b[39;00m GlobalFileManagerHandler()\u001b[39m.\u001b[39mget()\n\u001b[1;32m      <a href='vscode-notebook-cell:/Users/tanzhehao/Documents/ERINE/ERNIE-Bot-SDK/erniebot-agent/cookbook/FunctionAgent.ipynb#Y111sZmlsZQ%3D%3D?line=1'>2</a>\u001b[0m file \u001b[39m=\u001b[39m \u001b[39mawait\u001b[39;00m file_manager\u001b[39m.\u001b[39mcreate_file_from_path(\u001b[39mr\u001b[39m\u001b[39m\"\u001b[39m\u001b[39m./road_sign.jpeg\u001b[39m\u001b[39m\"\u001b[39m)\n\u001b[0;32m----> <a href='vscode-notebook-cell:/Users/tanzhehao/Documents/ERINE/ERNIE-Bot-SDK/erniebot-agent/cookbook/FunctionAgent.ipynb#Y111sZmlsZQ%3D%3D?line=2'>3</a>\u001b[0m response \u001b[39m=\u001b[39m \u001b[39mawait\u001b[39;00m agent_all\u001b[39m.\u001b[39mrun(\u001b[39m\"\u001b[39m\u001b[39m帮我把图片中的第一个英语单词进行解释之后添加到单词本中\u001b[39m\u001b[39m\"\u001b[39m, files\u001b[39m=\u001b[39m[file])\n",
      "File \u001b[0;32m~/Documents/ERINE/ERNIE-Bot-SDK/erniebot-agent/src/erniebot_agent/agents/agent.py:112\u001b[0m, in \u001b[0;36mAgent.run\u001b[0;34m(self, prompt, files)\u001b[0m\n\u001b[1;32m    110\u001b[0m     \u001b[39mawait\u001b[39;00m \u001b[39mself\u001b[39m\u001b[39m.\u001b[39m_ensure_managed_files(files)\n\u001b[1;32m    111\u001b[0m \u001b[39mawait\u001b[39;00m \u001b[39mself\u001b[39m\u001b[39m.\u001b[39m_callback_manager\u001b[39m.\u001b[39mon_run_start(agent\u001b[39m=\u001b[39m\u001b[39mself\u001b[39m, prompt\u001b[39m=\u001b[39mprompt)\n\u001b[0;32m--> 112\u001b[0m agent_resp \u001b[39m=\u001b[39m \u001b[39mawait\u001b[39;00m \u001b[39mself\u001b[39m\u001b[39m.\u001b[39m_run(prompt, files)\n\u001b[1;32m    113\u001b[0m \u001b[39mawait\u001b[39;00m \u001b[39mself\u001b[39m\u001b[39m.\u001b[39m_callback_manager\u001b[39m.\u001b[39mon_run_end(agent\u001b[39m=\u001b[39m\u001b[39mself\u001b[39m, response\u001b[39m=\u001b[39magent_resp)\n\u001b[1;32m    114\u001b[0m \u001b[39mreturn\u001b[39;00m agent_resp\n",
      "File \u001b[0;32m~/Documents/ERINE/ERNIE-Bot-SDK/erniebot-agent/src/erniebot_agent/agents/function_agent.py:125\u001b[0m, in \u001b[0;36mFunctionAgent._run\u001b[0;34m(self, prompt, files)\u001b[0m\n\u001b[1;32m    123\u001b[0m chat_history\u001b[39m.\u001b[39mappend(run_input)\n\u001b[1;32m    124\u001b[0m \u001b[39mwhile\u001b[39;00m num_steps_taken \u001b[39m<\u001b[39m \u001b[39mself\u001b[39m\u001b[39m.\u001b[39mmax_steps:\n\u001b[0;32m--> 125\u001b[0m     curr_step, new_messages \u001b[39m=\u001b[39m \u001b[39mawait\u001b[39;00m \u001b[39mself\u001b[39m\u001b[39m.\u001b[39m_step(chat_history)\n\u001b[1;32m    126\u001b[0m     chat_history\u001b[39m.\u001b[39mextend(new_messages)\n\u001b[1;32m    127\u001b[0m     \u001b[39mif\u001b[39;00m \u001b[39mnot\u001b[39;00m \u001b[39misinstance\u001b[39m(curr_step, NoActionStep):\n",
      "File \u001b[0;32m~/Documents/ERINE/ERNIE-Bot-SDK/erniebot-agent/src/erniebot_agent/agents/function_agent.py:141\u001b[0m, in \u001b[0;36mFunctionAgent._step\u001b[0;34m(self, chat_history)\u001b[0m\n\u001b[1;32m    139\u001b[0m new_messages: List[Message] \u001b[39m=\u001b[39m []\n\u001b[1;32m    140\u001b[0m input_messages \u001b[39m=\u001b[39m \u001b[39mself\u001b[39m\u001b[39m.\u001b[39mmemory\u001b[39m.\u001b[39mget_messages() \u001b[39m+\u001b[39m chat_history\n\u001b[0;32m--> 141\u001b[0m llm_resp \u001b[39m=\u001b[39m \u001b[39mawait\u001b[39;00m \u001b[39mself\u001b[39m\u001b[39m.\u001b[39mrun_llm(\n\u001b[1;32m    142\u001b[0m     messages\u001b[39m=\u001b[39minput_messages,\n\u001b[1;32m    143\u001b[0m     functions\u001b[39m=\u001b[39m\u001b[39mself\u001b[39m\u001b[39m.\u001b[39m_tool_manager\u001b[39m.\u001b[39mget_tool_schemas(),\n\u001b[1;32m    144\u001b[0m     system\u001b[39m=\u001b[39m\u001b[39mself\u001b[39m\u001b[39m.\u001b[39msystem_message\u001b[39m.\u001b[39mcontent \u001b[39mif\u001b[39;00m \u001b[39mself\u001b[39m\u001b[39m.\u001b[39msystem_message \u001b[39mis\u001b[39;00m \u001b[39mnot\u001b[39;00m \u001b[39mNone\u001b[39;00m \u001b[39melse\u001b[39;00m \u001b[39mNone\u001b[39;00m,\n\u001b[1;32m    145\u001b[0m     plugins\u001b[39m=\u001b[39m\u001b[39mself\u001b[39m\u001b[39m.\u001b[39m_plugins,\n\u001b[1;32m    146\u001b[0m )\n\u001b[1;32m    147\u001b[0m output_message \u001b[39m=\u001b[39m llm_resp\u001b[39m.\u001b[39mmessage  \u001b[39m# AIMessage\u001b[39;00m\n\u001b[1;32m    148\u001b[0m new_messages\u001b[39m.\u001b[39mappend(output_message)\n",
      "File \u001b[0;32m~/Documents/ERINE/ERNIE-Bot-SDK/erniebot-agent/src/erniebot_agent/agents/agent.py:150\u001b[0m, in \u001b[0;36mAgent.run_llm\u001b[0;34m(self, messages, **opts)\u001b[0m\n\u001b[1;32m    148\u001b[0m \u001b[39mawait\u001b[39;00m \u001b[39mself\u001b[39m\u001b[39m.\u001b[39m_callback_manager\u001b[39m.\u001b[39mon_llm_start(agent\u001b[39m=\u001b[39m\u001b[39mself\u001b[39m, llm\u001b[39m=\u001b[39m\u001b[39mself\u001b[39m\u001b[39m.\u001b[39mllm, messages\u001b[39m=\u001b[39mmessages)\n\u001b[1;32m    149\u001b[0m \u001b[39mtry\u001b[39;00m:\n\u001b[0;32m--> 150\u001b[0m     llm_resp \u001b[39m=\u001b[39m \u001b[39mawait\u001b[39;00m \u001b[39mself\u001b[39m\u001b[39m.\u001b[39m_run_llm(messages, \u001b[39m*\u001b[39m\u001b[39m*\u001b[39mopts)\n\u001b[1;32m    151\u001b[0m \u001b[39mexcept\u001b[39;00m (\u001b[39mException\u001b[39;00m, \u001b[39mKeyboardInterrupt\u001b[39;00m) \u001b[39mas\u001b[39;00m e:\n\u001b[1;32m    152\u001b[0m     \u001b[39mawait\u001b[39;00m \u001b[39mself\u001b[39m\u001b[39m.\u001b[39m_callback_manager\u001b[39m.\u001b[39mon_llm_error(agent\u001b[39m=\u001b[39m\u001b[39mself\u001b[39m, llm\u001b[39m=\u001b[39m\u001b[39mself\u001b[39m\u001b[39m.\u001b[39mllm, error\u001b[39m=\u001b[39me)\n",
      "File \u001b[0;32m~/Documents/ERINE/ERNIE-Bot-SDK/erniebot-agent/src/erniebot_agent/agents/agent.py:230\u001b[0m, in \u001b[0;36mAgent._run_llm\u001b[0;34m(self, messages, functions, **opts)\u001b[0m\n\u001b[1;32m    225\u001b[0m \u001b[39masync\u001b[39;00m \u001b[39mdef\u001b[39;00m \u001b[39m_run_llm\u001b[39m(\u001b[39mself\u001b[39m, messages: List[Message], functions\u001b[39m=\u001b[39m\u001b[39mNone\u001b[39;00m, \u001b[39m*\u001b[39m\u001b[39m*\u001b[39mopts: Any) \u001b[39m-\u001b[39m\u001b[39m>\u001b[39m LLMResponse:\n\u001b[1;32m    226\u001b[0m \u001b[39m    \u001b[39m\u001b[39m\"\"\"Run the LLM asynchronously without invoking callbacks.\u001b[39;00m\n\u001b[1;32m    227\u001b[0m \n\u001b[1;32m    228\u001b[0m \u001b[39m    This method is called in `run_llm`.\u001b[39;00m\n\u001b[1;32m    229\u001b[0m \u001b[39m    \"\"\"\u001b[39;00m\n\u001b[0;32m--> 230\u001b[0m     llm_ret \u001b[39m=\u001b[39m \u001b[39mawait\u001b[39;00m \u001b[39mself\u001b[39m\u001b[39m.\u001b[39mllm\u001b[39m.\u001b[39mchat(messages, functions\u001b[39m=\u001b[39mfunctions, stream\u001b[39m=\u001b[39m\u001b[39mFalse\u001b[39;00m, \u001b[39m*\u001b[39m\u001b[39m*\u001b[39mopts)\n\u001b[1;32m    231\u001b[0m     \u001b[39mreturn\u001b[39;00m LLMResponse(message\u001b[39m=\u001b[39mllm_ret)\n",
      "File \u001b[0;32m~/Documents/ERINE/ERNIE-Bot-SDK/erniebot-agent/src/erniebot_agent/chat_models/erniebot.py:210\u001b[0m, in \u001b[0;36mERNIEBot.chat\u001b[0;34m(self, messages, stream, functions, **kwargs)\u001b[0m\n\u001b[1;32m    207\u001b[0m \u001b[39mif\u001b[39;00m \u001b[39m\"\u001b[39m\u001b[39mplugins\u001b[39m\u001b[39m\"\u001b[39m \u001b[39min\u001b[39;00m cfg_dict \u001b[39mand\u001b[39;00m (cfg_dict[\u001b[39m\"\u001b[39m\u001b[39mplugins\u001b[39m\u001b[39m\"\u001b[39m] \u001b[39mis\u001b[39;00m \u001b[39mNone\u001b[39;00m \u001b[39mor\u001b[39;00m \u001b[39mlen\u001b[39m(cfg_dict[\u001b[39m\"\u001b[39m\u001b[39mplugins\u001b[39m\u001b[39m\"\u001b[39m]) \u001b[39m==\u001b[39m \u001b[39m0\u001b[39m):\n\u001b[1;32m    208\u001b[0m     cfg_dict\u001b[39m.\u001b[39mpop(\u001b[39m\"\u001b[39m\u001b[39mplugins\u001b[39m\u001b[39m\"\u001b[39m)\n\u001b[0;32m--> 210\u001b[0m response \u001b[39m=\u001b[39m \u001b[39mawait\u001b[39;00m \u001b[39mself\u001b[39m\u001b[39m.\u001b[39m_generate_response(cfg_dict, stream, functions)\n\u001b[1;32m    212\u001b[0m \u001b[39mif\u001b[39;00m \u001b[39mnot\u001b[39;00m stream:\n\u001b[1;32m    213\u001b[0m     \u001b[39massert\u001b[39;00m \u001b[39misinstance\u001b[39m(response, ChatCompletionResponse)\n",
      "File \u001b[0;32m~/Documents/ERINE/ERNIE-Bot-SDK/erniebot-agent/src/erniebot_agent/chat_models/erniebot.py:262\u001b[0m, in \u001b[0;36mERNIEBot._generate_response\u001b[0;34m(self, cfg_dict, stream, functions)\u001b[0m\n\u001b[1;32m    251\u001b[0m     response \u001b[39m=\u001b[39m \u001b[39mawait\u001b[39;00m erniebot\u001b[39m.\u001b[39mChatCompletionWithPlugins\u001b[39m.\u001b[39macreate(\n\u001b[1;32m    252\u001b[0m         messages\u001b[39m=\u001b[39mcfg_dict[\u001b[39m\"\u001b[39m\u001b[39mmessages\u001b[39m\u001b[39m\"\u001b[39m],\n\u001b[1;32m    253\u001b[0m         plugins\u001b[39m=\u001b[39mcfg_dict[\u001b[39m\"\u001b[39m\u001b[39mplugins\u001b[39m\u001b[39m\"\u001b[39m],  \u001b[39m# type: ignore\u001b[39;00m\n\u001b[0;32m   (...)\u001b[0m\n\u001b[1;32m    259\u001b[0m         },\n\u001b[1;32m    260\u001b[0m     )\n\u001b[1;32m    261\u001b[0m \u001b[39melse\u001b[39;00m:\n\u001b[0;32m--> 262\u001b[0m     response \u001b[39m=\u001b[39m \u001b[39mawait\u001b[39;00m erniebot\u001b[39m.\u001b[39mChatCompletion\u001b[39m.\u001b[39macreate(\n\u001b[1;32m    263\u001b[0m         stream\u001b[39m=\u001b[39mstream,\n\u001b[1;32m    264\u001b[0m         extra_params\u001b[39m=\u001b[39m{\n\u001b[1;32m    265\u001b[0m             \u001b[39m\"\u001b[39m\u001b[39mextra_data\u001b[39m\u001b[39m\"\u001b[39m: \u001b[39mself\u001b[39m\u001b[39m.\u001b[39menable_multi_step_json,\n\u001b[1;32m    266\u001b[0m         },\n\u001b[1;32m    267\u001b[0m         \u001b[39m*\u001b[39m\u001b[39m*\u001b[39mcfg_dict,\n\u001b[1;32m    268\u001b[0m     )\n\u001b[1;32m    270\u001b[0m \u001b[39mreturn\u001b[39;00m response\n",
      "File \u001b[0;32m~/Documents/ERINE/ERNIE-Bot-SDK/erniebot/src/erniebot/resources/chat_completion.py:405\u001b[0m, in \u001b[0;36mChatCompletion.acreate\u001b[0;34m(cls, model, messages, functions, temperature, top_p, penalty_score, system, stop, disable_search, enable_citation, user_id, tool_choice, stream, validate_functions, extra_params, headers, request_timeout, _config_)\u001b[0m\n\u001b[1;32m    403\u001b[0m \u001b[39mif\u001b[39;00m request_timeout \u001b[39mis\u001b[39;00m \u001b[39mnot\u001b[39;00m \u001b[39mNone\u001b[39;00m:\n\u001b[1;32m    404\u001b[0m     kwargs[\u001b[39m\"\u001b[39m\u001b[39mrequest_timeout\u001b[39m\u001b[39m\"\u001b[39m] \u001b[39m=\u001b[39m request_timeout\n\u001b[0;32m--> 405\u001b[0m resp \u001b[39m=\u001b[39m \u001b[39mawait\u001b[39;00m resource\u001b[39m.\u001b[39macreate_resource(\u001b[39m*\u001b[39m\u001b[39m*\u001b[39mkwargs)\n\u001b[1;32m    406\u001b[0m \u001b[39mreturn\u001b[39;00m transform(ChatCompletionResponse\u001b[39m.\u001b[39mfrom_mapping, resp)\n",
      "File \u001b[0;32m~/Documents/ERINE/ERNIE-Bot-SDK/erniebot/src/erniebot/resources/abc/creatable.py:87\u001b[0m, in \u001b[0;36mCreatableWithStreaming.acreate_resource\u001b[0;34m(self, **create_kwargs)\u001b[0m\n\u001b[1;32m     85\u001b[0m \u001b[39m\u001b[39m\u001b[39m\"\"\"Asynchronous version of `create_resource`.\"\"\"\u001b[39;00m\n\u001b[1;32m     86\u001b[0m req \u001b[39m=\u001b[39m \u001b[39mself\u001b[39m\u001b[39m.\u001b[39m_prepare_create(create_kwargs)\n\u001b[0;32m---> 87\u001b[0m resp \u001b[39m=\u001b[39m \u001b[39mawait\u001b[39;00m \u001b[39mself\u001b[39m\u001b[39m.\u001b[39marequest(\n\u001b[1;32m     88\u001b[0m     method\u001b[39m=\u001b[39m\u001b[39m\"\u001b[39m\u001b[39mPOST\u001b[39m\u001b[39m\"\u001b[39m,\n\u001b[1;32m     89\u001b[0m     path\u001b[39m=\u001b[39mreq\u001b[39m.\u001b[39mpath,\n\u001b[1;32m     90\u001b[0m     stream\u001b[39m=\u001b[39mreq\u001b[39m.\u001b[39mstream,\n\u001b[1;32m     91\u001b[0m     params\u001b[39m=\u001b[39mreq\u001b[39m.\u001b[39mparams,\n\u001b[1;32m     92\u001b[0m     headers\u001b[39m=\u001b[39mreq\u001b[39m.\u001b[39mheaders,\n\u001b[1;32m     93\u001b[0m     files\u001b[39m=\u001b[39mreq\u001b[39m.\u001b[39mfiles,\n\u001b[1;32m     94\u001b[0m     request_timeout\u001b[39m=\u001b[39mreq\u001b[39m.\u001b[39mtimeout,\n\u001b[1;32m     95\u001b[0m )\n\u001b[1;32m     96\u001b[0m \u001b[39mif\u001b[39;00m \u001b[39misinstance\u001b[39m(resp, EBResponse):\n\u001b[1;32m     97\u001b[0m     resp \u001b[39m=\u001b[39m \u001b[39mself\u001b[39m\u001b[39m.\u001b[39m_postprocess_create(resp)\n",
      "File \u001b[0;32m~/Documents/ERINE/ERNIE-Bot-SDK/erniebot/src/erniebot/resources/resource.py:239\u001b[0m, in \u001b[0;36mEBResource.arequest\u001b[0;34m(self, method, path, stream, params, headers, files, request_timeout)\u001b[0m\n\u001b[1;32m    211\u001b[0m \u001b[39m@final\u001b[39m\n\u001b[1;32m    212\u001b[0m \u001b[39masync\u001b[39;00m \u001b[39mdef\u001b[39;00m \u001b[39marequest\u001b[39m(\n\u001b[1;32m    213\u001b[0m     \u001b[39mself\u001b[39m,\n\u001b[0;32m   (...)\u001b[0m\n\u001b[1;32m    221\u001b[0m     request_timeout: Optional[\u001b[39mfloat\u001b[39m] \u001b[39m=\u001b[39m \u001b[39mNone\u001b[39;00m,\n\u001b[1;32m    222\u001b[0m ) \u001b[39m-\u001b[39m\u001b[39m>\u001b[39m Union[EBResponse, AsyncIterator[EBResponse]]:\n\u001b[1;32m    223\u001b[0m     async_retrying \u001b[39m=\u001b[39m tenacity\u001b[39m.\u001b[39mAsyncRetrying(\n\u001b[1;32m    224\u001b[0m         stop\u001b[39m=\u001b[39mtenacity\u001b[39m.\u001b[39mstop_after_attempt(\u001b[39mself\u001b[39m\u001b[39m.\u001b[39mmax_retries \u001b[39m+\u001b[39m \u001b[39m1\u001b[39m),\n\u001b[1;32m    225\u001b[0m         wait\u001b[39m=\u001b[39mtenacity\u001b[39m.\u001b[39mwait_exponential(multiplier\u001b[39m=\u001b[39m\u001b[39m1\u001b[39m, \u001b[39mmax\u001b[39m\u001b[39m=\u001b[39m\u001b[39mself\u001b[39m\u001b[39m.\u001b[39mretry_after[\u001b[39m1\u001b[39m], \u001b[39mmin\u001b[39m\u001b[39m=\u001b[39m\u001b[39mself\u001b[39m\u001b[39m.\u001b[39mretry_after[\u001b[39m0\u001b[39m])\n\u001b[0;32m   (...)\u001b[0m\n\u001b[1;32m    237\u001b[0m         reraise\u001b[39m=\u001b[39m\u001b[39mTrue\u001b[39;00m,\n\u001b[1;32m    238\u001b[0m     )\n\u001b[0;32m--> 239\u001b[0m     \u001b[39masync\u001b[39;00m \u001b[39mfor\u001b[39;00m attempt \u001b[39min\u001b[39;00m async_retrying:\n\u001b[1;32m    240\u001b[0m         \u001b[39mwith\u001b[39;00m attempt:\n\u001b[1;32m    241\u001b[0m             \u001b[39mreturn\u001b[39;00m \u001b[39mawait\u001b[39;00m \u001b[39mself\u001b[39m\u001b[39m.\u001b[39m_arequest(\n\u001b[1;32m    242\u001b[0m                 method\u001b[39m=\u001b[39mmethod,\n\u001b[1;32m    243\u001b[0m                 path\u001b[39m=\u001b[39mpath,\n\u001b[0;32m   (...)\u001b[0m\n\u001b[1;32m    248\u001b[0m                 request_timeout\u001b[39m=\u001b[39mrequest_timeout,\n\u001b[1;32m    249\u001b[0m             )\n",
      "File \u001b[0;32m/opt/anaconda3/envs/ernie/lib/python3.10/site-packages/tenacity/_asyncio.py:71\u001b[0m, in \u001b[0;36mAsyncRetrying.__anext__\u001b[0;34m(self)\u001b[0m\n\u001b[1;32m     69\u001b[0m \u001b[39masync\u001b[39;00m \u001b[39mdef\u001b[39;00m \u001b[39m__anext__\u001b[39m(\u001b[39mself\u001b[39m) \u001b[39m-\u001b[39m\u001b[39m>\u001b[39m AttemptManager:\n\u001b[1;32m     70\u001b[0m     \u001b[39mwhile\u001b[39;00m \u001b[39mTrue\u001b[39;00m:\n\u001b[0;32m---> 71\u001b[0m         do \u001b[39m=\u001b[39m \u001b[39mself\u001b[39;49m\u001b[39m.\u001b[39;49miter(retry_state\u001b[39m=\u001b[39;49m\u001b[39mself\u001b[39;49m\u001b[39m.\u001b[39;49m_retry_state)\n\u001b[1;32m     72\u001b[0m         \u001b[39mif\u001b[39;00m do \u001b[39mis\u001b[39;00m \u001b[39mNone\u001b[39;00m:\n\u001b[1;32m     73\u001b[0m             \u001b[39mraise\u001b[39;00m \u001b[39mStopAsyncIteration\u001b[39;00m\n",
      "File \u001b[0;32m/opt/anaconda3/envs/ernie/lib/python3.10/site-packages/tenacity/__init__.py:314\u001b[0m, in \u001b[0;36mBaseRetrying.iter\u001b[0;34m(self, retry_state)\u001b[0m\n\u001b[1;32m    312\u001b[0m is_explicit_retry \u001b[39m=\u001b[39m fut\u001b[39m.\u001b[39mfailed \u001b[39mand\u001b[39;00m \u001b[39misinstance\u001b[39m(fut\u001b[39m.\u001b[39mexception(), TryAgain)\n\u001b[1;32m    313\u001b[0m \u001b[39mif\u001b[39;00m \u001b[39mnot\u001b[39;00m (is_explicit_retry \u001b[39mor\u001b[39;00m \u001b[39mself\u001b[39m\u001b[39m.\u001b[39mretry(retry_state)):\n\u001b[0;32m--> 314\u001b[0m     \u001b[39mreturn\u001b[39;00m fut\u001b[39m.\u001b[39;49mresult()\n\u001b[1;32m    316\u001b[0m \u001b[39mif\u001b[39;00m \u001b[39mself\u001b[39m\u001b[39m.\u001b[39mafter \u001b[39mis\u001b[39;00m \u001b[39mnot\u001b[39;00m \u001b[39mNone\u001b[39;00m:\n\u001b[1;32m    317\u001b[0m     \u001b[39mself\u001b[39m\u001b[39m.\u001b[39mafter(retry_state)\n",
      "File \u001b[0;32m/opt/anaconda3/envs/ernie/lib/python3.10/concurrent/futures/_base.py:451\u001b[0m, in \u001b[0;36mFuture.result\u001b[0;34m(self, timeout)\u001b[0m\n\u001b[1;32m    449\u001b[0m     \u001b[39mraise\u001b[39;00m CancelledError()\n\u001b[1;32m    450\u001b[0m \u001b[39melif\u001b[39;00m \u001b[39mself\u001b[39m\u001b[39m.\u001b[39m_state \u001b[39m==\u001b[39m FINISHED:\n\u001b[0;32m--> 451\u001b[0m     \u001b[39mreturn\u001b[39;00m \u001b[39mself\u001b[39;49m\u001b[39m.\u001b[39;49m__get_result()\n\u001b[1;32m    453\u001b[0m \u001b[39mself\u001b[39m\u001b[39m.\u001b[39m_condition\u001b[39m.\u001b[39mwait(timeout)\n\u001b[1;32m    455\u001b[0m \u001b[39mif\u001b[39;00m \u001b[39mself\u001b[39m\u001b[39m.\u001b[39m_state \u001b[39min\u001b[39;00m [CANCELLED, CANCELLED_AND_NOTIFIED]:\n",
      "File \u001b[0;32m/opt/anaconda3/envs/ernie/lib/python3.10/concurrent/futures/_base.py:403\u001b[0m, in \u001b[0;36mFuture.__get_result\u001b[0;34m(self)\u001b[0m\n\u001b[1;32m    401\u001b[0m \u001b[39mif\u001b[39;00m \u001b[39mself\u001b[39m\u001b[39m.\u001b[39m_exception:\n\u001b[1;32m    402\u001b[0m     \u001b[39mtry\u001b[39;00m:\n\u001b[0;32m--> 403\u001b[0m         \u001b[39mraise\u001b[39;00m \u001b[39mself\u001b[39m\u001b[39m.\u001b[39m_exception\n\u001b[1;32m    404\u001b[0m     \u001b[39mfinally\u001b[39;00m:\n\u001b[1;32m    405\u001b[0m         \u001b[39m# Break a reference cycle with the exception in self._exception\u001b[39;00m\n\u001b[1;32m    406\u001b[0m         \u001b[39mself\u001b[39m \u001b[39m=\u001b[39m \u001b[39mNone\u001b[39;00m\n",
      "File \u001b[0;32m~/Documents/ERINE/ERNIE-Bot-SDK/erniebot/src/erniebot/resources/resource.py:241\u001b[0m, in \u001b[0;36mEBResource.arequest\u001b[0;34m(self, method, path, stream, params, headers, files, request_timeout)\u001b[0m\n\u001b[1;32m    239\u001b[0m \u001b[39masync\u001b[39;00m \u001b[39mfor\u001b[39;00m attempt \u001b[39min\u001b[39;00m async_retrying:\n\u001b[1;32m    240\u001b[0m     \u001b[39mwith\u001b[39;00m attempt:\n\u001b[0;32m--> 241\u001b[0m         \u001b[39mreturn\u001b[39;00m \u001b[39mawait\u001b[39;00m \u001b[39mself\u001b[39m\u001b[39m.\u001b[39m_arequest(\n\u001b[1;32m    242\u001b[0m             method\u001b[39m=\u001b[39mmethod,\n\u001b[1;32m    243\u001b[0m             path\u001b[39m=\u001b[39mpath,\n\u001b[1;32m    244\u001b[0m             stream\u001b[39m=\u001b[39mstream,\n\u001b[1;32m    245\u001b[0m             params\u001b[39m=\u001b[39mparams,\n\u001b[1;32m    246\u001b[0m             headers\u001b[39m=\u001b[39mheaders,\n\u001b[1;32m    247\u001b[0m             files\u001b[39m=\u001b[39mfiles,\n\u001b[1;32m    248\u001b[0m             request_timeout\u001b[39m=\u001b[39mrequest_timeout,\n\u001b[1;32m    249\u001b[0m         )\n\u001b[1;32m    250\u001b[0m \u001b[39mraise\u001b[39;00m \u001b[39mAssertionError\u001b[39;00m\n",
      "File \u001b[0;32m~/Documents/ERINE/ERNIE-Bot-SDK/erniebot/src/erniebot/resources/resource.py:427\u001b[0m, in \u001b[0;36mEBResource._arequest\u001b[0;34m(self, method, path, stream, params, headers, files, request_timeout)\u001b[0m\n\u001b[1;32m    416\u001b[0m \u001b[39m@final\u001b[39m\n\u001b[1;32m    417\u001b[0m \u001b[39masync\u001b[39;00m \u001b[39mdef\u001b[39;00m \u001b[39m_arequest\u001b[39m(\n\u001b[1;32m    418\u001b[0m     \u001b[39mself\u001b[39m,\n\u001b[0;32m   (...)\u001b[0m\n\u001b[1;32m    425\u001b[0m     request_timeout: Optional[\u001b[39mfloat\u001b[39m],\n\u001b[1;32m    426\u001b[0m ) \u001b[39m-\u001b[39m\u001b[39m>\u001b[39m Union[EBResponse, AsyncIterator[EBResponse]]:\n\u001b[0;32m--> 427\u001b[0m     resp \u001b[39m=\u001b[39m \u001b[39mawait\u001b[39;00m \u001b[39mself\u001b[39m\u001b[39m.\u001b[39m_backend\u001b[39m.\u001b[39marequest(\n\u001b[1;32m    428\u001b[0m         method,\n\u001b[1;32m    429\u001b[0m         path,\n\u001b[1;32m    430\u001b[0m         stream,\n\u001b[1;32m    431\u001b[0m         params\u001b[39m=\u001b[39mparams,\n\u001b[1;32m    432\u001b[0m         headers\u001b[39m=\u001b[39mheaders,\n\u001b[1;32m    433\u001b[0m         files\u001b[39m=\u001b[39mfiles,\n\u001b[1;32m    434\u001b[0m         request_timeout\u001b[39m=\u001b[39mrequest_timeout,\n\u001b[1;32m    435\u001b[0m     )\n\u001b[1;32m    436\u001b[0m     \u001b[39mif\u001b[39;00m stream:\n\u001b[1;32m    437\u001b[0m         \u001b[39mif\u001b[39;00m \u001b[39mnot\u001b[39;00m \u001b[39misinstance\u001b[39m(resp, AsyncIterator):\n",
      "File \u001b[0;32m~/Documents/ERINE/ERNIE-Bot-SDK/erniebot/src/erniebot/backends/aistudio.py:109\u001b[0m, in \u001b[0;36mAIStudioBackend.arequest\u001b[0;34m(self, method, path, stream, params, headers, files, request_timeout)\u001b[0m\n\u001b[1;32m    101\u001b[0m url, headers, data \u001b[39m=\u001b[39m \u001b[39mself\u001b[39m\u001b[39m.\u001b[39m_client\u001b[39m.\u001b[39mprepare_request(\n\u001b[1;32m    102\u001b[0m     method,\n\u001b[1;32m    103\u001b[0m     path,\n\u001b[0;32m   (...)\u001b[0m\n\u001b[1;32m    106\u001b[0m     files\u001b[39m=\u001b[39mfiles,\n\u001b[1;32m    107\u001b[0m )\n\u001b[1;32m    108\u001b[0m headers \u001b[39m=\u001b[39m \u001b[39mself\u001b[39m\u001b[39m.\u001b[39m_add_aistudio_fields_to_headers(headers)\n\u001b[0;32m--> 109\u001b[0m \u001b[39mreturn\u001b[39;00m \u001b[39mawait\u001b[39;00m \u001b[39mself\u001b[39m\u001b[39m.\u001b[39m_client\u001b[39m.\u001b[39masend_request(\n\u001b[1;32m    110\u001b[0m     method,\n\u001b[1;32m    111\u001b[0m     url,\n\u001b[1;32m    112\u001b[0m     stream,\n\u001b[1;32m    113\u001b[0m     data\u001b[39m=\u001b[39mdata,\n\u001b[1;32m    114\u001b[0m     headers\u001b[39m=\u001b[39mheaders,\n\u001b[1;32m    115\u001b[0m     files\u001b[39m=\u001b[39mfiles,\n\u001b[1;32m    116\u001b[0m     request_timeout\u001b[39m=\u001b[39mrequest_timeout,\n\u001b[1;32m    117\u001b[0m )\n",
      "File \u001b[0;32m~/Documents/ERINE/ERNIE-Bot-SDK/erniebot/src/erniebot/http_client.py:216\u001b[0m, in \u001b[0;36mEBClient.asend_request\u001b[0;34m(self, method, url, stream, data, headers, files, request_timeout)\u001b[0m\n\u001b[1;32m    214\u001b[0m should_clean_up_result \u001b[39m=\u001b[39m \u001b[39mTrue\u001b[39;00m\n\u001b[1;32m    215\u001b[0m \u001b[39mtry\u001b[39;00m:\n\u001b[0;32m--> 216\u001b[0m     resp, got_stream \u001b[39m=\u001b[39m \u001b[39mawait\u001b[39;00m \u001b[39mself\u001b[39m\u001b[39m.\u001b[39m_interpret_async_response(result)\n\u001b[1;32m    217\u001b[0m     \u001b[39mif\u001b[39;00m stream \u001b[39m!=\u001b[39m got_stream:\n\u001b[1;32m    218\u001b[0m         logging\u001b[39m.\u001b[39mwarning(\u001b[39m\"\u001b[39m\u001b[39mUnexpected response: \u001b[39m\u001b[39m%s\u001b[39;00m\u001b[39m\"\u001b[39m, resp)\n",
      "File \u001b[0;32m~/Documents/ERINE/ERNIE-Bot-SDK/erniebot/src/erniebot/http_client.py:396\u001b[0m, in \u001b[0;36mEBClient._interpret_async_response\u001b[0;34m(self, response)\u001b[0m\n\u001b[1;32m    393\u001b[0m     \u001b[39mraise\u001b[39;00m errors\u001b[39m.\u001b[39mTimeoutError(\u001b[39mf\u001b[39m\u001b[39m\"\u001b[39m\u001b[39mRequest timed out: \u001b[39m\u001b[39m{\u001b[39;00m\u001b[39mstr\u001b[39m(e)\u001b[39m}\u001b[39;00m\u001b[39m\"\u001b[39m) \u001b[39mfrom\u001b[39;00m \u001b[39me\u001b[39;00m\n\u001b[1;32m    394\u001b[0m \u001b[39melse\u001b[39;00m:\n\u001b[1;32m    395\u001b[0m     \u001b[39mreturn\u001b[39;00m (\n\u001b[0;32m--> 396\u001b[0m         \u001b[39mself\u001b[39;49m\u001b[39m.\u001b[39;49m_interpret_response_line(\n\u001b[1;32m    397\u001b[0m             rbody\u001b[39m.\u001b[39;49mdecode(\u001b[39m\"\u001b[39;49m\u001b[39mutf-8\u001b[39;49m\u001b[39m\"\u001b[39;49m),\n\u001b[1;32m    398\u001b[0m             response\u001b[39m.\u001b[39;49mstatus,\n\u001b[1;32m    399\u001b[0m             response\u001b[39m.\u001b[39;49mheaders,\n\u001b[1;32m    400\u001b[0m             stream\u001b[39m=\u001b[39;49m\u001b[39mFalse\u001b[39;49;00m,\n\u001b[1;32m    401\u001b[0m         ),\n\u001b[1;32m    402\u001b[0m         \u001b[39mFalse\u001b[39;00m,\n\u001b[1;32m    403\u001b[0m     )\n",
      "File \u001b[0;32m~/Documents/ERINE/ERNIE-Bot-SDK/erniebot/src/erniebot/http_client.py:463\u001b[0m, in \u001b[0;36mEBClient._interpret_response_line\u001b[0;34m(self, rbody, rcode, rheaders, stream)\u001b[0m\n\u001b[1;32m    455\u001b[0m     \u001b[39mraise\u001b[39;00m errors\u001b[39m.\u001b[39mHTTPRequestError(\n\u001b[1;32m    456\u001b[0m         \u001b[39mf\u001b[39m\u001b[39m\"\u001b[39m\u001b[39mThe status code is not \u001b[39m\u001b[39m{\u001b[39;00mhttp\u001b[39m.\u001b[39mHTTPStatus\u001b[39m.\u001b[39mOK\u001b[39m}\u001b[39;00m\u001b[39m.\u001b[39m\u001b[39m\"\u001b[39m,\n\u001b[1;32m    457\u001b[0m         rcode\u001b[39m=\u001b[39mresponse\u001b[39m.\u001b[39mrcode,\n\u001b[1;32m    458\u001b[0m         rbody\u001b[39m=\u001b[39m\u001b[39mstr\u001b[39m(response\u001b[39m.\u001b[39mrbody),\n\u001b[1;32m    459\u001b[0m         rheaders\u001b[39m=\u001b[39mresponse\u001b[39m.\u001b[39mrheaders,\n\u001b[1;32m    460\u001b[0m     )\n\u001b[1;32m    462\u001b[0m \u001b[39mif\u001b[39;00m \u001b[39mself\u001b[39m\u001b[39m.\u001b[39m_resp_handler \u001b[39mis\u001b[39;00m \u001b[39mnot\u001b[39;00m \u001b[39mNone\u001b[39;00m:\n\u001b[0;32m--> 463\u001b[0m     response \u001b[39m=\u001b[39m \u001b[39mself\u001b[39;49m\u001b[39m.\u001b[39;49m_resp_handler(response)\n\u001b[1;32m    464\u001b[0m \u001b[39mreturn\u001b[39;00m response\n",
      "File \u001b[0;32m~/Documents/ERINE/ERNIE-Bot-SDK/erniebot/src/erniebot/backends/aistudio.py:49\u001b[0m, in \u001b[0;36mAIStudioBackend.handle_response\u001b[0;34m(self, resp)\u001b[0m\n\u001b[1;32m     47\u001b[0m     \u001b[39mraise\u001b[39;00m errors\u001b[39m.\u001b[39mRateLimitError(emsg, ecode\u001b[39m=\u001b[39mecode)\n\u001b[1;32m     48\u001b[0m \u001b[39melif\u001b[39;00m ecode \u001b[39min\u001b[39;00m (\u001b[39m110\u001b[39m, \u001b[39m40401\u001b[39m):\n\u001b[0;32m---> 49\u001b[0m     \u001b[39mraise\u001b[39;00m errors\u001b[39m.\u001b[39mInvalidTokenError(emsg, ecode\u001b[39m=\u001b[39mecode)\n\u001b[1;32m     50\u001b[0m \u001b[39melif\u001b[39;00m ecode \u001b[39m==\u001b[39m \u001b[39m111\u001b[39m:\n\u001b[1;32m     51\u001b[0m     \u001b[39mraise\u001b[39;00m errors\u001b[39m.\u001b[39mTokenExpiredError(emsg, ecode\u001b[39m=\u001b[39mecode)\n",
      "\u001b[0;31mInvalidTokenError\u001b[0m: 暂无权限使用，请在 AI Studio 正确获取访问令牌(access token)使用"
     ]
    }
   ],
   "source": [
    "file_manager = await GlobalFileManagerHandler().get()\n",
    "file = await file_manager.create_file_from_path(r\"./road_sign.jpeg\")\n",
    "response = await agent_all.run(\"帮我把图片中的第一个英语单词进行解释之后添加到单词本中\", files=[file])"
   ]
  },
  {
   "cell_type": "code",
   "execution_count": null,
   "metadata": {},
   "outputs": [
    {
     "name": "stdout",
     "output_type": "stream",
     "text": [
      "根据您的要求，我已经将图片中的第一个英语单词“BEWARE”添加到了单词本中。您可以通过点击下方链接查看单词本中的内容：\n",
      "\n",
      "<BEWARE>\n",
      "\n",
      "释义如下：\n",
      "\n",
      "<单词翻译>: 当心、小心\n",
      "\n",
      "<近义词>: Careful, cautious, heedful, watchful\n",
      "\n",
      "<反义词>: Careless, reckless, heedless, negligent\n",
      "\n",
      "<例句>: You should always beware of scammers when shopping online. (在网上购物时，你应该时刻小心诈骗者。)\n"
     ]
    }
   ],
   "source": [
    "print(response.text)"
   ]
  },
  {
   "cell_type": "code",
   "execution_count": null,
   "metadata": {},
   "outputs": [
    {
     "data": {
      "text/plain": [
       "{'BEWARE': '<单词翻译>: 当心、小心\\n\\n<近义词>: Careful, cautious, heedful, watchful\\n\\n<反义词>: Careless, reckless, heedless, negligent\\n\\n<例句>: You should always beware of scammers when shopping online. (在网上购物时，你应该时刻小心诈骗者。)'}"
      ]
     },
     "execution_count": 8,
     "metadata": {},
     "output_type": "execute_result"
    }
   ],
   "source": [
    "add_word_tool.word_books"
   ]
  },
  {
   "cell_type": "markdown",
   "metadata": {},
   "source": [
    "## Agent其他相关方法\n",
    "除了上述主要功能以外，接下来这个章节主要用于介绍一些其他可能会使用到的智能体功能。"
   ]
  },
  {
   "cell_type": "markdown",
   "metadata": {},
   "source": [
    "### AgentResponse\n",
    "\n",
    "AgentResponse作为智能体返回的结果，主要包含以下内容：\n",
    "1. `text`: Agent在本Run中返回的最终文本\n",
    "2. `steps`: Agent在本Run中执行的Step。\n",
    "    含有tool_name（调用工具的名称），tool_args（工具的入参），input_files（输入的文件）， output_files（输出的文件）\n",
    "    \n",
    "    **Agent在步骤中涉及到的文件将存放在Step中，包括输入文件以及输出文件** \n",
    "3. `chat_history`: Agent在本Run中的对话历史\n",
    "4. `status`: 包括`FINISHED`和`STOPPED`，其中`FINISHED`表示正常结束，`STOPPED`表示智能体因达到最大step数目强行终止"
   ]
  },
  {
   "cell_type": "code",
   "execution_count": null,
   "metadata": {},
   "outputs": [
    {
     "data": {
      "text/plain": [
       "[<HumanMessage role: 'user', content: '帮我把图片中的第一个英语单词进行解释之后添加到单词本中\\n<file>file-local-cd260342-a568-11ee-a29d-56c70f692df9</file>', token_count: 880>,\n",
       " <AIMessage role: 'assistant', function_call: {'name': 'highacc-ocr/v1.8/OCR', 'thoughts': '用户需要我识别图片中的文字，并把第一个英语单词添加到单词本中。我需要先使用OCR工具提取图片中的文字，然后使用ChatWithEB工具获取单词的详细信息，最后使用AddWordTool工具将单词添加到词库中。任务拆解：[sub-task1: 使用OCR工具提取图片中的文字，sub-task2: 使用ChatWithEB工具获取单词的详细信息，sub-task3: 使用AddWordTool工具将单词添加到词库中]。接下来我需要调用[highacc-ocr/v1.8/OCR]来提取图片中的文字。', 'arguments': '{\"image\":\"file-local-cd260342-a568-11ee-a29d-56c70f692df9\",\"language_type\":\"ENG\"}'}, token_count: 190>,\n",
       " <FunctionMessage role: 'function', name: 'highacc-ocr/v1.8/OCR', content: '{\"words_result\": [\"BEWARE\", \"OF FALLING\", \"COCONUTS\"], \"words_result_num\": 3}'>,\n",
       " <AIMessage role: 'assistant', function_call: {'name': 'ChatWithEB', 'thoughts': '我已经从图片中提取出了文字，现在我需要使用ChatWithEB工具获取第一个英语单词的详细信息。', 'arguments': '{\"word\":\"BEWARE\"}'}, token_count: 32>,\n",
       " <FunctionMessage role: 'function', name: 'ChatWithEB', content: '{\"response\": \"<单词翻译>: 当心、小心\\\\n\\\\n<近义词>: Careful, cautious, heedful, watchful\\\\n\\\\n<反义词>: Careless, reckless, heedless, negligent\\\\n\\\\n<例句>: You should always beware of scammers when shopping online. (在网上购物时，你应该时刻小心诈骗者。)\"}'>,\n",
       " <AIMessage role: 'assistant', function_call: {'name': 'AddWordTool', 'thoughts': '我已经获取到了第一个英语单词的详细信息，现在我需要使用AddWordTool工具将这个单词添加到词库中。', 'arguments': '{\"word\":\"BEWARE\",\"des\":\"<单词翻译>: 当心、小心\\\\n\\\\n<近义词>: Careful, cautious, heedful, watchful\\\\n\\\\n<反义词>: Careless, reckless, heedless, negligent\\\\n\\\\n<例句>: You should always beware of scammers when shopping online. (在网上购物时，你应该时刻小心诈骗者。)\"}'}, token_count: 120>,\n",
       " <FunctionMessage role: 'function', name: 'AddWordTool', content: '{\"result\": \"<BEWARE>单词已添加成功, 当前单词本中有如下单词：BEWARE，释义如下<单词翻译>: 当心、小心\\\\n\\\\n<近义词>: Careful, cautious, heedful, watchful\\\\n\\\\n<反义词>: Careless, reckless, heedless, negligent\\\\n\\\\n<例句>: You should always beware of scammers when shopping online. (在网上购物时，你应该时刻小心诈骗者。)\"}'>,\n",
       " <AIMessage role: 'assistant', content: '根据您的要求，我已经将图片中的第一个英语单词“BEWARE”添加到了单词本中。您可以通过点击下方链接查看单词本中的内容：\\n\\n<BEWARE>\\n\\n释义如下：\\n\\n<单词翻译>: 当心、小心\\n\\n<近义词>: Careful, cautious, heedful, watchful\\n\\n<反义词>: Careless, reckless, heedless, negligent\\n\\n<例句>: You should always beware of scammers when shopping online. (在网上购物时，你应该时刻小心诈骗者。)', token_count: 121>]"
      ]
     },
     "execution_count": 9,
     "metadata": {},
     "output_type": "execute_result"
    }
   ],
   "source": [
    "response.chat_history"
   ]
  },
  {
   "cell_type": "code",
   "execution_count": null,
   "metadata": {},
   "outputs": [
    {
     "data": {
      "text/plain": [
       "'FINISHED'"
      ]
     },
     "execution_count": 10,
     "metadata": {},
     "output_type": "execute_result"
    }
   ],
   "source": [
    "response.status"
   ]
  },
  {
   "cell_type": "code",
   "execution_count": null,
   "metadata": {},
   "outputs": [
    {
     "data": {
      "text/plain": [
       "[ToolStep(info={'tool_name': 'highacc-ocr/v1.8/OCR', 'tool_args': '{\"image\":\"file-local-cd260342-a568-11ee-a29d-56c70f692df9\",\"language_type\":\"ENG\"}'}, result='{\"words_result\": [\"BEWARE\", \"OF FALLING\", \"COCONUTS\"], \"words_result_num\": 3}', input_files=[<LocalFile id: 'file-local-cd260342-a568-11ee-a29d-56c70f692df9', filename: 'road_sign.jpeg', byte_size: 44056, created_at: '2023-12-28 18:06:43', purpose: 'assistants', metadata: {}, path: PosixPath('road_sign.jpeg')>], output_files=[]),\n",
       " ToolStep(info={'tool_name': 'ChatWithEB', 'tool_args': '{\"word\":\"BEWARE\"}'}, result='{\"response\": \"<单词翻译>: 当心、小心\\\\n\\\\n<近义词>: Careful, cautious, heedful, watchful\\\\n\\\\n<反义词>: Careless, reckless, heedless, negligent\\\\n\\\\n<例句>: You should always beware of scammers when shopping online. (在网上购物时，你应该时刻小心诈骗者。)\"}', input_files=[], output_files=[]),\n",
       " ToolStep(info={'tool_name': 'AddWordTool', 'tool_args': '{\"word\":\"BEWARE\",\"des\":\"<单词翻译>: 当心、小心\\\\n\\\\n<近义词>: Careful, cautious, heedful, watchful\\\\n\\\\n<反义词>: Careless, reckless, heedless, negligent\\\\n\\\\n<例句>: You should always beware of scammers when shopping online. (在网上购物时，你应该时刻小心诈骗者。)\"}'}, result='{\"result\": \"<BEWARE>单词已添加成功, 当前单词本中有如下单词：BEWARE，释义如下<单词翻译>: 当心、小心\\\\n\\\\n<近义词>: Careful, cautious, heedful, watchful\\\\n\\\\n<反义词>: Careless, reckless, heedless, negligent\\\\n\\\\n<例句>: You should always beware of scammers when shopping online. (在网上购物时，你应该时刻小心诈骗者。)\"}', input_files=[], output_files=[])]"
      ]
     },
     "execution_count": 11,
     "metadata": {},
     "output_type": "execute_result"
    }
   ],
   "source": [
    "# Step为该Run中Agent所执行的相关操作，含有tool_name（调用工具的名称），tool_args（工具的入参），input_files（输入的文件）， output_files（输出的文件）\n",
    "response.steps"
   ]
  },
  {
   "cell_type": "markdown",
   "metadata": {},
   "source": [
    "### Tool以及Memory相关用法"
   ]
  },
  {
   "cell_type": "code",
   "execution_count": null,
   "metadata": {},
   "outputs": [
    {
     "data": {
      "text/plain": [
       "[<name: ChatWithEB, description: ChatWithEB是一款根据用户的提供的单词，获取一个具体的单词描述、翻译以及例句的工具>,\n",
       " <name: AddWordTool, description: 添加单词以及它的详细解释到词库当中>,\n",
       " <name: highacc-ocr/v1.8/OCR, server_url: https://tool-highacc-ocr.aistudio-hub.baidu.com/, description: 用于提取并识别图片上的文字及位置信息>]"
      ]
     },
     "execution_count": 12,
     "metadata": {},
     "output_type": "execute_result"
    }
   ],
   "source": [
    "# 获取当前所有工具\n",
    "agent_all.get_tools()"
   ]
  },
  {
   "cell_type": "code",
   "execution_count": null,
   "metadata": {},
   "outputs": [],
   "source": [
    "# 查找某个工具\n",
    "eb_tool = agent_all.get_tool(\"ChatWithEB\")\n",
    "# 取消某个工具\n",
    "agent_all.unload_tool(eb_tool)\n",
    "# 加载某个工具\n",
    "agent_all.load_tool(eb_tool)"
   ]
  },
  {
   "cell_type": "code",
   "execution_count": null,
   "metadata": {},
   "outputs": [
    {
     "data": {
      "text/plain": [
       "[<HumanMessage role: 'user', content: '帮我把图片中的第一个英语单词进行解释之后添加到单词本中\\n<file>file-local-cd260342-a568-11ee-a29d-56c70f692df9</file>', token_count: 880>,\n",
       " <AIMessage role: 'assistant', content: '根据您的要求，我已经将图片中的第一个英语单词“BEWARE”添加到了单词本中。您可以通过点击下方链接查看单词本中的内容：\\n\\n<BEWARE>\\n\\n释义如下：\\n\\n<单词翻译>: 当心、小心\\n\\n<近义词>: Careful, cautious, heedful, watchful\\n\\n<反义词>: Careless, reckless, heedless, negligent\\n\\n<例句>: You should always beware of scammers when shopping online. (在网上购物时，你应该时刻小心诈骗者。)', token_count: 121>]"
      ]
     },
     "execution_count": 14,
     "metadata": {},
     "output_type": "execute_result"
    }
   ],
   "source": [
    "# 获取Agent的对话历史\n",
    "agent_all.memory.get_messages()"
   ]
  },
  {
   "cell_type": "code",
   "execution_count": 15,
   "metadata": {},
   "outputs": [
    {
     "data": {
      "text/plain": [
       "[]"
      ]
     },
     "execution_count": 15,
     "metadata": {},
     "output_type": "execute_result"
    }
   ],
   "source": [
    "# 重置Agent的对话历史\n",
    "agent_all.reset_memory()\n",
    "agent_all.memory.get_messages()"
   ]
  },
  {
   "cell_type": "markdown",
   "metadata": {},
   "source": [
    "# "
   ]
  }
 ],
 "metadata": {
  "kernelspec": {
   "display_name": "ernie",
   "language": "python",
   "name": "python3"
  },
  "language_info": {
   "codemirror_mode": {
    "name": "ipython",
    "version": 3
   },
   "file_extension": ".py",
   "mimetype": "text/x-python",
   "name": "python",
   "nbconvert_exporter": "python",
   "pygments_lexer": "ipython3",
   "version": "3.10.13"
  }
 },
 "nbformat": 4,
 "nbformat_minor": 2
}
