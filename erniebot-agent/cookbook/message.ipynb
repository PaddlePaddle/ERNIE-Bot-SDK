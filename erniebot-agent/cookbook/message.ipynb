{
 "cells": [
  {
   "cell_type": "markdown",
   "metadata": {},
   "source": [
    "# Message模块\n",
    "\n",
    "## 简介\n",
    "\n",
    "`Message`是对大语言模型输入输出信息的封装，可以简化大家和大语言模型的交互。\n",
    "\n",
    "在`ERNIE Bot Agent`中，主要有如下4类`Message`：\n",
    "\n",
    "* `HumanMessage`：用户输入给模型的普通信息，比如聊天的问题。\n",
    "* `SystemMessage`：用户输入给模型的全局信息，比如角色扮演的指令、输出格式设置的指令。\n",
    "* `AIMessage`：模型返回的信息，比如聊天的回答、触发`Function call`的回答。\n",
    "* `FunctionMessage`：上一轮模型的输出是带有`Funciton call`的`AIMessage`，则用户需要首先调用`Function`，然后将`Function`的结果输入给大语言模型。\n",
    "\n",
    "`Message`模块的详细API接口，请参考[文档](https://ernie-bot-agent.readthedocs.io/zh-cn/latest/package/erniebot_agent/message/)。"
   ]
  },
  {
   "cell_type": "markdown",
   "metadata": {},
   "source": [
    "## 上手使用Message\n",
    "\n",
    "### 安装\n",
    "\n",
    "大家参考如下，灵活选用安装ERNIE Bot Agent的方式。\n",
    "\n",
    "1）源码安装\n",
    "\n",
    "执行如下命令，使用源码安装ERNIE Bot Agent（要求Python >= 3.8)。\n",
    "\n"
   ]
  },
  {
   "cell_type": "code",
   "execution_count": null,
   "metadata": {
    "scrolled": true,
    "tags": []
   },
   "outputs": [],
   "source": [
    "!git clone https://github.com/PaddlePaddle/ERNIE-Bot-SDK.git\n",
    "%cd ~/ERNIE-Bot-SDK\n",
    "\n",
    "# 切换到特定分支，默认是develop分支\n",
    "# !git checkout -b xxx origin/xxx\n",
    "\n",
    "# 首先安装Ernie Bot SDK\n",
    "!pip install ./erniebot/\n",
    "\n",
    "# 然后安装ERNIE Bot Agent\n",
    "!pip install ./erniebot-agent "
   ]
  },
  {
   "cell_type": "markdown",
   "metadata": {},
   "source": [
    "2）快速安装（暂不支持）\n",
    "\n",
    "执行如下命令，快速安装最新版本ERNIE Bot Agent（要求Python >= 3.8)。"
   ]
  },
  {
   "cell_type": "code",
   "execution_count": null,
   "metadata": {
    "scrolled": true
   },
   "outputs": [],
   "source": [
    "!pip install --upgrade erniebot-agent"
   ]
  },
  {
   "cell_type": "markdown",
   "metadata": {},
   "source": [
    "### 鉴权\n",
    "\n",
    "大家在使用ERNIE Bot Agent之前，需要完成鉴权步骤：\n",
    "\n",
    "* 在[AI Studio星河社区](https://aistudio.baidu.com/index)注册并登录账号\n",
    "* 在个人中心的[访问令牌页面](https://aistudio.baidu.com/index/accessToken)获取用户凭证`Access Token`\n",
    "* 通过环境变量或者`Python`代码设置`Access Token`"
   ]
  },
  {
   "cell_type": "code",
   "execution_count": null,
   "metadata": {
    "scrolled": true,
    "tags": []
   },
   "outputs": [],
   "source": [
    "%env EB_AGENT_ACCESS_TOKEN=xxxxxxx"
   ]
  },
  {
   "cell_type": "markdown",
   "metadata": {},
   "source": [
    "## 使用Message\n",
    "\n",
    "首先，导入必要的依赖库。"
   ]
  },
  {
   "cell_type": "code",
   "execution_count": 3,
   "metadata": {
    "execution": {
     "iopub.execute_input": "2023-12-28T09:12:52.133237Z",
     "iopub.status.busy": "2023-12-28T09:12:52.132658Z",
     "iopub.status.idle": "2023-12-28T09:12:52.383016Z",
     "shell.execute_reply": "2023-12-28T09:12:52.381956Z",
     "shell.execute_reply.started": "2023-12-28T09:12:52.133204Z"
    },
    "scrolled": true,
    "tags": []
   },
   "outputs": [],
   "source": [
    "import os\n",
    "import json\n",
    "import asyncio\n",
    "import erniebot\n",
    "from erniebot_agent.chat_models import ERNIEBot\n",
    "from erniebot_agent.memory import HumanMessage, AIMessage, SystemMessage, FunctionMessage"
   ]
  },
  {
   "cell_type": "markdown",
   "metadata": {},
   "source": [
    "大家在使用`ERNIE Bot SDK`调用文心一言进行多轮对话时，需要按照规范定义每轮对话的信息（如下），稍显复杂。"
   ]
  },
  {
   "cell_type": "code",
   "execution_count": null,
   "metadata": {
    "scrolled": true
   },
   "outputs": [],
   "source": [
    "erniebot.api_type = \"aistudio\"\n",
    "erniebot.access_token = \"<access-token-for-aistudio>\"\n",
    "messages = [{\n",
    "                \"role\": \"user\",\n",
    "                \"content\": \"我在深圳，周末可以去哪里玩\"\n",
    "            }, {\n",
    "                \"role\": \"assistant\",\n",
    "                \"content\":\"深圳有许多著名的景点，以下是三个推荐景点：1. 深圳世界之窗，2. 深圳欢乐谷，3. 深圳东部华侨城。\"\n",
    "            }, {\n",
    "                \"role\": \"user\",\n",
    "                \"content\": \"从你推荐的三个景点中，选出最值得去的景点是什么，直接给出景点名字即可\"\n",
    "            }]\n",
    "response = erniebot.ChatCompletion.create(\n",
    "    model=\"ernie-3.5\",\n",
    "    messages=messages\n",
    "    )\n",
    "\n",
    "print(response.get_result())"
   ]
  },
  {
   "cell_type": "markdown",
   "metadata": {},
   "source": [
    "如果基于`ERNIE Bot Agent`调用文心一言，大家使用`Message`模块，可以较好地简化代码。"
   ]
  },
  {
   "cell_type": "code",
   "execution_count": 4,
   "metadata": {
    "execution": {
     "iopub.execute_input": "2023-12-28T09:12:57.107366Z",
     "iopub.status.busy": "2023-12-28T09:12:57.106828Z",
     "iopub.status.idle": "2023-12-28T09:12:58.150843Z",
     "shell.execute_reply": "2023-12-28T09:12:58.150173Z",
     "shell.execute_reply.started": "2023-12-28T09:12:57.107329Z"
    },
    "scrolled": true
   },
   "outputs": [
    {
     "name": "stdout",
     "output_type": "stream",
     "text": [
      "最值得去的景点是深圳欢乐谷。\r\n"
     ]
    }
   ],
   "source": [
    "async def demo():\n",
    "    model = ERNIEBot(model=\"ernie-3.5\")\n",
    "    # 使用Message模块\n",
    "    messages = [HumanMessage(\"我在深圳，周末可以去哪里玩\"),\n",
    "                AIMessage(\"深圳有许多著名的景点，以下是三个推荐景点：1. 深圳世界之窗，2. 深圳欢乐谷，3. 深圳东部华侨城。\"),\n",
    "                HumanMessage(\"从你推荐的三个景点中，选出最值得去的景点是什么，直接给出景点名字即可\")]\n",
    "    ai_message = await model.chat(messages=messages)\n",
    "    print(ai_message.content)\n",
    "\n",
    "await demo()"
   ]
  },
  {
   "cell_type": "markdown",
   "metadata": {},
   "source": [
    "创建各种`Message`的示例代码如下："
   ]
  },
  {
   "cell_type": "code",
   "execution_count": 5,
   "metadata": {
    "execution": {
     "iopub.execute_input": "2023-12-28T09:13:01.040525Z",
     "iopub.status.busy": "2023-12-28T09:13:01.039379Z",
     "iopub.status.idle": "2023-12-28T09:13:01.046479Z",
     "shell.execute_reply": "2023-12-28T09:13:01.045662Z",
     "shell.execute_reply.started": "2023-12-28T09:13:01.040491Z"
    },
    "scrolled": true,
    "tags": []
   },
   "outputs": [
    {
     "name": "stdout",
     "output_type": "stream",
     "text": [
      "<role: 'user', content: '你好，你是谁？'>\r\n",
      "<role: 'system', content: '你是一名数学老师，使用浅显易懂的方法来回答问题', token_count: 23>\r\n",
      "<role: 'function', name: 'get_current_temperature', content: '{\"temperature\": 25, \"unit\": \"摄氏度\"}'>\r\n"
     ]
    }
   ],
   "source": [
    "human_message = HumanMessage(content='你好，你是谁？')\n",
    "\n",
    "system_message = SystemMessage(content='你是一名数学老师，使用浅显易懂的方法来回答问题')\n",
    "\n",
    "result = {\"temperature\": 25, \"unit\": \"摄氏度\"}\n",
    "function_message = FunctionMessage(name='get_current_temperature', content=json.dumps(result, ensure_ascii=False))\n",
    "\n",
    "print(human_message)\n",
    "print(system_message)\n",
    "print(function_message)"
   ]
  },
  {
   "cell_type": "markdown",
   "metadata": {},
   "source": [
    "使用`SystemMessage`的示例代码如下："
   ]
  },
  {
   "cell_type": "code",
   "execution_count": 6,
   "metadata": {
    "execution": {
     "iopub.execute_input": "2023-12-28T09:13:06.035727Z",
     "iopub.status.busy": "2023-12-28T09:13:06.035204Z",
     "iopub.status.idle": "2023-12-28T09:13:16.419068Z",
     "shell.execute_reply": "2023-12-28T09:13:16.418309Z",
     "shell.execute_reply.started": "2023-12-28T09:13:06.035692Z"
    },
    "scrolled": true,
    "tags": []
   },
   "outputs": [
    {
     "name": "stdout",
     "output_type": "stream",
     "text": [
      "勾股定理是一个基本的几何定理，它指出直角三角形的两条直角边的平方和等于斜边的平方。换句话说，如果我们知道直角三角形的两个直角边的长度，我们可以使用勾股定理来找到斜边的长度。这个定理在中国古代被称为勾股定理，也被称为商高定理。在西方，这个定理最早是由古希腊的毕达哥拉斯学派提出的，所以它也被称为毕达哥拉斯定理。\r\n",
      "\r\n",
      "勾股定理是数学中一个非常重要的定理，它可以用代数思想来解决几何问题，也是数形结合的一个重要纽带。这个定理有大约500种证明方法，是数学定理中证明方法最多的定理之一。在中国，周朝时期的商高提出了“勾三股四弦五”的勾股定理的特例。\r\n",
      "\r\n",
      "因此，勾股定理是一个非常强大和有用的工具，它在数学、科学、工程和技术中都有广泛的应用。希望这可以帮到你！\r\n"
     ]
    }
   ],
   "source": [
    "async def demo():\n",
    "    model = ERNIEBot(model=\"ernie-3.5\")\n",
    "    system_message = SystemMessage(content=\"你是一名数学老师，尽量使用浅显易懂的方法来解答问题\")\n",
    "    messages = [HumanMessage(\"勾股定理是什么\")]\n",
    "    ai_message = await model.chat(messages=messages, system=system_message.content)\n",
    "    print(ai_message.content)\n",
    "\n",
    "await demo()"
   ]
  }
 ],
 "metadata": {
  "kernelspec": {
   "display_name": "Python 3",
   "language": "python",
   "name": "py35-paddle1.2.0"
  },
  "language_info": {
   "codemirror_mode": {
    "name": "ipython",
    "version": 3
   },
   "file_extension": ".py",
   "mimetype": "text/x-python",
   "name": "python",
   "nbconvert_exporter": "python",
   "pygments_lexer": "ipython3",
   "version": "3.10.10"
  }
 },
 "nbformat": 4,
 "nbformat_minor": 4
}
