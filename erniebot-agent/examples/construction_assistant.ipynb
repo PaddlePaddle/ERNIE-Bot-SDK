{
 "cells": [
  {
   "cell_type": "markdown",
   "id": "fa98944b-1495-42ec-9295-b6401868036a",
   "metadata": {},
   "source": [
    "# 简介\n",
    "\n",
    "这是一款名为‘Construction Assistant城市建设法规标准小助手’的演示应用，它完美展示了如何利用LangChain的工具以及ERNIEBot的functional agent来汇聚专业知识。通过利用ERNIE Bot SDK的functional agent，我们可以根据对话的上下文以及用户提出的具体问题，让大型模型在回答问题时灵活选择是否采用检索增强方式，或是直接给出答案。这种设计思路不仅丰富了大模型的领域知识，同时也保留了大模型在领域知识之外的通用对话能力。\n",
    "\n",
    "构建流程如下："
   ]
  },
  {
   "cell_type": "markdown",
   "id": "53f40c7a-0de3-4b87-bb4d-293611722bef",
   "metadata": {},
   "source": [
    "# 1. 导入第三方库"
   ]
  },
  {
   "cell_type": "code",
   "execution_count": 21,
   "id": "3f2e9b73-88f3-4ac7-91ec-6624f6cb1b1c",
   "metadata": {},
   "outputs": [],
   "source": [
    "import os\n",
    "from typing import Optional, List, Type, Dict\n",
    "from pydantic import BaseModel, Field\n",
    "from langchain.text_splitter import SpacyTextSplitter\n",
    "from langchain.vectorstores import FAISS\n",
    "from langchain.document_loaders import PyPDFDirectoryLoader\n",
    "\n",
    "from erniebot_agent.extensions.langchain.embeddings import ErnieEmbeddings\n",
    "from erniebot_agent.tools.base import Tool, ToolParameterView\n",
    "from erniebot_agent.agents.functional_agent import FunctionalAgent\n",
    "from erniebot_agent.memory.whole_memory import WholeMemory\n",
    "from erniebot_agent.chat_models.erniebot import ERNIEBot\n",
    "from erniebot_agent.messages import AIMessage, HumanMessage, Message\n",
    "import erniebot"
   ]
  },
  {
   "cell_type": "markdown",
   "id": "b9353a59-acfc-4dbd-ae27-50b7cfab6440",
   "metadata": {},
   "source": [
    "# 2. 预处理\n",
    "\n",
    "## 2.1 下载数据集"
   ]
  },
  {
   "cell_type": "code",
   "execution_count": 22,
   "id": "c6f1d943-6d43-4f34-a92d-f76ab1c3ec53",
   "metadata": {},
   "outputs": [
    {
     "name": "stdout",
     "output_type": "stream",
     "text": [
      "--2023-11-15 12:41:08--  https://paddlenlp.bj.bcebos.com/datasets/examples/construction_regulations.tar\n",
      "Resolving paddlenlp.bj.bcebos.com (paddlenlp.bj.bcebos.com)... 36.110.192.178\n",
      "Connecting to paddlenlp.bj.bcebos.com (paddlenlp.bj.bcebos.com)|36.110.192.178|:443... connected.\n",
      "HTTP request sent, awaiting response... 200 OK\n",
      "Length: 1239040 (1.2M) [application/x-tar]\n",
      "Saving to: ‘construction_regulations.tar.1’\n",
      "\n",
      "construction_regula 100%[===================>]   1.18M  3.19MB/s    in 0.4s    \n",
      "\n",
      "2023-11-15 12:41:09 (3.19 MB/s) - ‘construction_regulations.tar.1’ saved [1239040/1239040]\n",
      "\n",
      "x construction_regulations/\n",
      "x construction_regulations/城市管理执法办法.pdf\n",
      "x construction_regulations/建筑工程设计招标投标管理办法.pdf\n",
      "x construction_regulations/建筑业企业资质管理规定.pdf\n",
      "x construction_regulations/城市照明管理规定.pdf\n",
      "x construction_regulations/城市设计管理办法.pdf\n",
      "x construction_regulations/建筑工程施工发包与承包计价管理办法.pdf\n",
      "x construction_regulations/市政公用设施抗灾设防管理规定.pdf\n"
     ]
    }
   ],
   "source": [
    "! wget https://paddlenlp.bj.bcebos.com/datasets/examples/construction_regulations.tar\n",
    "! tar xvf construction_regulations.tar"
   ]
  },
  {
   "attachments": {},
   "cell_type": "markdown",
   "id": "e2ef2558-52f6-47e8-a182-f9d8c30bb4c1",
   "metadata": {},
   "source": [
    "## 2.2 配置 ERNIE BOT API\n",
    "\n",
    "这里使用aistudio的Access_token, 申请地址请参考[accessToken](https://aistudio.baidu.com/index/accessToken)"
   ]
  },
  {
   "cell_type": "code",
   "execution_count": 23,
   "id": "02bd2731-f0d7-48ac-a02e-8cadd85b7531",
   "metadata": {},
   "outputs": [],
   "source": [
    "erniebot.api_type = \"aistudio\"\n",
    "aistudio_access_token = \"your access token\"\n",
    "erniebot.access_token = aistudio_access_token"
   ]
  },
  {
   "cell_type": "markdown",
   "id": "7ae57a90-b949-4ca4-a1b5-030910a7dcfc",
   "metadata": {},
   "source": [
    "# 3. Tool 构建\n",
    "\n",
    "##  3.1 构建Schema"
   ]
  },
  {
   "cell_type": "code",
   "execution_count": 25,
   "id": "b0adbd7c-f78a-470c-9ff1-60f3110e5bce",
   "metadata": {},
   "outputs": [],
   "source": [
    "class SearchToolInputView(ToolParameterView):\n",
    "    query: str = Field(description='规章查询语句')\n",
    "    retrieval_num: int = Field(description=\"检索结果数目\", default=5)\n",
    "\n",
    "\n",
    "class SearchResponseDocument(ToolParameterView):\n",
    "    document: str = Field(description=\"和query相关的规章片段\")\n",
    "    filename: str = Field(description=\"规章名称\")\n",
    "    page_num: int = Field(description=\"规章页数\")\n",
    "\n",
    "\n",
    "class SearchToolOutputView(ToolParameterView):\n",
    "    documents: List[SearchResponseDocument] = Field(description=\"检索结果，内容为住房和城乡建设部规章中和query相关的规章片段\")"
   ]
  },
  {
   "cell_type": "markdown",
   "id": "92b422be-bb58-4641-8cba-dea3a3dddf3a",
   "metadata": {},
   "source": [
    "## 3.2 构建Faiss检索工具"
   ]
  },
  {
   "cell_type": "code",
   "execution_count": 16,
   "id": "36080e36-62cf-492e-b96e-e90846f76d38",
   "metadata": {},
   "outputs": [],
   "source": [
    "class FaissSearchTool(Tool):\n",
    "    description: str = \"在住房和城乡建设部规章中寻找和query最相关的片段\"\n",
    "    input_type: Type[ToolParameterView] = SearchToolInputView\n",
    "    ouptut_type: Type[ToolParameterView] = SearchToolOutputView\n",
    "\n",
    "    def __init__(self, db):\n",
    "        self.db = db\n",
    "\n",
    "    async def __call__(self, query: str, retrieval_num: int = 5) -> Dict[str, float]:\n",
    "        docs = db.similarity_search(query)\n",
    "        retrieval_results = []\n",
    "        for doc in docs:\n",
    "            retrieval_results.append(\n",
    "                dict(SearchResponseDocument(\n",
    "                    document=doc.page_content,\n",
    "                    filename=doc.metadata[\"source\"],\n",
    "                    page_num=doc.metadata[\"page\"],\n",
    "                ))\n",
    "            )\n",
    "        return {\"documents\": retrieval_results}\n",
    "\n",
    "    @property\n",
    "    def examples(self) -> List[Message]:\n",
    "        return [\n",
    "                HumanMessage(\"城乡建设部规章中描述的城市管理执法的执法主体是谁？\"),\n",
    "                AIMessage(\n",
    "                    \"\",\n",
    "                    function_call={\n",
    "                        \"name\": self.tool_name,\n",
    "                        \"thoughts\": f\"这是一个住房和城乡建设部规章的问题，我们使用{self.tool_name}工具检索相关的信息，检索的query：'城市管理执法的执法主体'。\",\n",
    "                        \"arguments\": '{\"query\": \"城市管理执法的执法主体\", \"retrieval_num\": 3}',\n",
    "                    },\n",
    "                )\n",
    "            ]"
   ]
  },
  {
   "cell_type": "markdown",
   "id": "2b1f9a3c-5c0e-406a-9379-66a441ffcf57",
   "metadata": {},
   "source": [
    "# 4. Construction Assistant\n",
    "## 4.1 建索引库"
   ]
  },
  {
   "cell_type": "code",
   "execution_count": 17,
   "id": "9cf1714d-c0c7-4e7c-9085-9db3f5bd5d77",
   "metadata": {},
   "outputs": [],
   "source": [
    "faiss_name = \"faiss_index\"\n",
    "embeddings = ErnieEmbeddings(aistudio_access_token=aistudio_access_token, \n",
    "                             chunk_size=16,\n",
    "                             sleep_time=0.5)"
   ]
  },
  {
   "cell_type": "code",
   "execution_count": 18,
   "id": "ba96dcab-72a6-45f3-bbab-352d0c29afa4",
   "metadata": {},
   "outputs": [],
   "source": [
    "if os.path.exists(faiss_name):\n",
    "    db = FAISS.load_local(faiss_name, embeddings)\n",
    "else:\n",
    "    loader = PyPDFDirectoryLoader(\"construction_regulations\")\n",
    "    documents = loader.load()\n",
    "    # 换成CharacterTextSplitter会报错，因为会有超长文本切分\n",
    "    # text_splitter = CharacterTextSplitter(chunk_size=320, chunk_overlap=0)\n",
    "    text_splitter = SpacyTextSplitter(pipeline='zh_core_web_sm', chunk_size=320, chunk_overlap=0)\n",
    "    \n",
    "    docs = text_splitter.split_documents(documents)\n",
    "    db = FAISS.from_documents(docs, embeddings)\n",
    "    db.save_local(faiss_name)"
   ]
  },
  {
   "cell_type": "code",
   "execution_count": 33,
   "id": "416a4a88-fa81-4b05-a944-cc5321ae2c04",
   "metadata": {},
   "outputs": [
    {
     "name": "stdout",
     "output_type": "stream",
     "text": [
      "{'documents': [{'document': '第十条 城市管理执法主管部门依法相对集中行使行政处罚权的， '\n",
      "                            '可以实施法律法规规定的与行政处罚权相关的行政强制措施。',\n",
      "                'filename': 'construction_regulations/城市管理执法办法.pdf',\n",
      "                'page_num': 2},\n",
      "               {'document': '第六条 '\n",
      "                            '城市管理执法主管部门应当加强城市管理法律法规规章的宣传普及工作，增强全民守法意识，共同维护城市管理秩序。\\n'\n",
      "                            '\\n'\n",
      "                            '  \\n'\n",
      "                            '\\n'\n",
      "                            '第七条 城市管理执法主管部门应当积极为公众监督城市管理执法活动提供条件。',\n",
      "                'filename': 'construction_regulations/城市管理执法办法.pdf',\n",
      "                'page_num': 1},\n",
      "               {'document': '其他违反法律法规和本办法规定的。   第四十条 '\n",
      "                            '非城市管理执法人员着城市管理执法制式服装的，城市管理执法主管部门应当予以纠正，依法追究法律责任。',\n",
      "                'filename': 'construction_regulations/城市管理执法办法.pdf',\n",
      "                'page_num': 10},\n",
      "               {'document': '第三章 执法主体     第十三条 '\n",
      "                            '城市管理执法主管部门按照权责清晰、事权统一、精简效能的原则设置执法队伍。   第十四条 直辖市、 '\n",
      "                            '设区的市城市管理执法推行市级执法或者区级执法。   '\n",
      "                            '直辖市、设区的市的城市管理执法事项，市辖区人民政府城市管理执法主管部门能够承担的，可以实行区级执法。   '\n",
      "                            '直辖市、 设区的市人民政府城市管理执法主管部门可以承担跨区域和重大复杂违法案件的查处。',\n",
      "                'filename': 'construction_regulations/城市管理执法办法.pdf',\n",
      "                'page_num': 3}]}\n"
     ]
    }
   ],
   "source": [
    "tool = FaissSearchTool(db=db)\n",
    "res = await tool(query=\"城市管理执法主管部门的职责是什么？\")\n",
    "from pprint import pprint\n",
    "pprint(res)"
   ]
  },
  {
   "cell_type": "markdown",
   "id": "82569b9e-6549-4cdc-9e39-27318a9f4aec",
   "metadata": {},
   "source": [
    "## 4.2 构建Construction Assistant"
   ]
  },
  {
   "cell_type": "code",
   "execution_count": 29,
   "id": "db269276-a35a-4a4c-bfcd-41640a6de622",
   "metadata": {},
   "outputs": [
    {
     "name": "stdout",
     "output_type": "stream",
     "text": [
      "[Run][Start] Agent <erniebot_agent.agents.functional_agent.FunctionalAgent object at 0x125531a10> starts running with input: 城乡建设部规章中，城市管理执法第三章，第十三条是什么？\n",
      "[LLM][Start] LLM <erniebot_agent.chat_models.erniebot.ERNIEBot object at 0x125550610> starts running with input: [<erniebot_agent.messages.HumanMessage object at 0x1240cec10>]\n",
      "[LLM][End] LLM <erniebot_agent.chat_models.erniebot.ERNIEBot object at 0x125550610> finished running with output: role: assistant, function_call: {'name': 'FaissSearchTool', 'thoughts': '用户想要查询城乡建设部规章中关于城市管理执法第三章，第十三条的内容。我可以使用FaissSearchTool工具来查询相关内容。', 'arguments': '{\"query\":\"城市管理执法第三章，第十三条\",\"retrieval_num\":1}'}\n",
      "[Tool][Start] Tool <__main__.FaissSearchTool object at 0x12430d950> starts running with input: \n",
      "{\n",
      "  \"query\": \"城市管理执法第三章，第十三条\",\n",
      "  \"retrieval_num\": 1\n",
      "}\n",
      "[Tool][End] Tool <__main__.FaissSearchTool object at 0x12430d950> finished running with output: \n",
      "{\n",
      "  \"documents\": [\n",
      "    {\n",
      "      \"document\": \"第十条 城市管理执法主管部门依法相对集中行使行政处罚权的， 可以实施法律法规规定的与行政处罚权相关的行政强制措施。\",\n",
      "      \"filename\": \"construction_regulations/城市管理执法办法.pdf\",\n",
      "      \"page_num\": 2\n",
      "    },\n",
      "    {\n",
      "      \"document\": \"第六条 城市管理执法主管部门应当加强城市管理法律法规规章的宣传普及工作，增强全民守法意识，共同维护城市管理秩序。\\n\\n  \\n\\n第七条 城市管理执法主管部门应当积极为公众监督城市管理执法活动提供条件。\",\n",
      "      \"filename\": \"construction_regulations/城市管理执法办法.pdf\",\n",
      "      \"page_num\": 1\n",
      "    },\n",
      "    {\n",
      "      \"document\": \"第三章 执法主体     第十三条 城市管理执法主管部门按照权责清晰、事权统一、精简效能的原则设置执法队伍。   第十四条 直辖市、 设区的市城市管理执法推行市级执法或者区级执法。   直辖市、设区的市的城市管理执法事项，市辖区人民政府城市管理执法主管部门能够承担的，可以实行区级执法。   直辖市、 设区的市人民政府城市管理执法主管部门可以承担跨区域和重大复杂违法案件的查处。\",\n",
      "      \"filename\": \"construction_regulations/城市管理执法办法.pdf\",\n",
      "      \"page_num\": 3\n",
      "    },\n",
      "    {\n",
      "      \"document\": \"住房和城乡建设部规章 \\n   X住房和城乡建设部发布  \\n- 9 -   第三十条 城市管理执法主管部门不得对罚款、 没收违法所得设定任务和目标。   \\n\\n罚款、没收违法所得的款项，应当按照规定全额上缴。   第三十一条 城市管理执法主管部门应当确定法制审核机构，配备一定比例符合条件的法制审核人员，对重大执法决定在执法主体、管辖权限、执法程序、事实认定、法律适用等方面进行法制审核。   \\n\\n第三十二条 城市管理执法主管部门开展执法活动， 应当使用统一格式的行政执法文书。\\n\\n  \\n\\n第三十三条 行政执法文书的送达， 依照民事诉讼法等法律规定执行。\",\n",
      "      \"filename\": \"construction_regulations/城市管理执法办法.pdf\",\n",
      "      \"page_num\": 8\n",
      "    }\n",
      "  ]\n",
      "}\n",
      "[LLM][Start] LLM <erniebot_agent.chat_models.erniebot.ERNIEBot object at 0x125550610> starts running with input: [<erniebot_agent.messages.HumanMessage object at 0x1240cec10>, <erniebot_agent.messages.AIMessage object at 0x125545f10>, <erniebot_agent.messages.FunctionMessage object at 0x1242b5090>]\n",
      "[LLM][End] LLM <erniebot_agent.chat_models.erniebot.ERNIEBot object at 0x125550610> finished running with output: role: assistant, content: 根据您提供的查询语句，我找到了城市管理执法第三章，第十三条的相关内容。具体如下：\n",
      "\n",
      "住房和城乡建设部规章中，城市管理执法第三章，第十三条规定：“城市管理执法主管部门应当加强城市管理法律法规规章的宣传普及工作，增强全民守法意识，共同维护城市管理秩序。”\n",
      "\n",
      "以上信息仅供参考，具体内容请以官方发布的文件为准。如果您还有其他问题或需要进一步的帮助，请随时告诉我。\n",
      "[Run][End] Agent <erniebot_agent.agents.functional_agent.FunctionalAgent object at 0x125531a10> finished running with output: AgentResponse(content='根据您提供的查询语句，我找到了城市管理执法第三章，第十三条的相关内容。具体如下：\\n\\n住房和城乡建设部规章中，城市管理执法第三章，第十三条规定：“城市管理执法主管部门应当加强城市管理法律法规规章的宣传普及工作，增强全民守法意识，共同维护城市管理秩序。”\\n\\n以上信息仅供参考，具体内容请以官方发布的文件为准。如果您还有其他问题或需要进一步的帮助，请随时告诉我。', chat_history=[<erniebot_agent.messages.HumanMessage object at 0x1240cec10>, <erniebot_agent.messages.AIMessage object at 0x125545f10>, <erniebot_agent.messages.FunctionMessage object at 0x1242b5090>, <erniebot_agent.messages.AIMessage object at 0x12350e690>], actions=[AgentAction(tool_name='FaissSearchTool', tool_args='{\"query\":\"城市管理执法第三章，第十三条\",\"retrieval_num\":1}')], status='FINISHED')\n",
      "{'role': 'user', 'content': '城乡建设部规章中，城市管理执法第三章，第十三条是什么？'}\n",
      "{'role': 'assistant', 'content': '', 'function_call': {'name': 'FaissSearchTool', 'thoughts': '用户想要查询城乡建设部规章中关于城市管理执法第三章，第十三条的内容。我可以使用FaissSearchTool工具来查询相关内容。', 'arguments': '{\"query\":\"城市管理执法第三章，第十三条\",\"retrieval_num\":1}'}}\n",
      "{'role': 'function', 'name': 'FaissSearchTool', 'content': '{\"documents\": [{\"document\": \"第十条 城市管理执法主管部门依法相对集中行使行政处罚权的， 可以实施法律法规规定的与行政处罚权相关的行政强制措施。\", \"filename\": \"construction_regulations/城市管理执法办法.pdf\", \"page_num\": 2}, {\"document\": \"第六条 城市管理执法主管部门应当加强城市管理法律法规规章的宣传普及工作，增强全民守法意识，共同维护城市管理秩序。\\\\n\\\\n  \\\\n\\\\n第七条 城市管理执法主管部门应当积极为公众监督城市管理执法活动提供条件。\", \"filename\": \"construction_regulations/城市管理执法办法.pdf\", \"page_num\": 1}, {\"document\": \"第三章 执法主体     第十三条 城市管理执法主管部门按照权责清晰、事权统一、精简效能的原则设置执法队伍。   第十四条 直辖市、 设区的市城市管理执法推行市级执法或者区级执法。   直辖市、设区的市的城市管理执法事项，市辖区人民政府城市管理执法主管部门能够承担的，可以实行区级执法。   直辖市、 设区的市人民政府城市管理执法主管部门可以承担跨区域和重大复杂违法案件的查处。\", \"filename\": \"construction_regulations/城市管理执法办法.pdf\", \"page_num\": 3}, {\"document\": \"住房和城乡建设部规章 \\\\n   X住房和城乡建设部发布  \\\\n- 9 -   第三十条 城市管理执法主管部门不得对罚款、 没收违法所得设定任务和目标。   \\\\n\\\\n罚款、没收违法所得的款项，应当按照规定全额上缴。   第三十一条 城市管理执法主管部门应当确定法制审核机构，配备一定比例符合条件的法制审核人员，对重大执法决定在执法主体、管辖权限、执法程序、事实认定、法律适用等方面进行法制审核。   \\\\n\\\\n第三十二条 城市管理执法主管部门开展执法活动， 应当使用统一格式的行政执法文书。\\\\n\\\\n  \\\\n\\\\n第三十三条 行政执法文书的送达， 依照民事诉讼法等法律规定执行。\", \"filename\": \"construction_regulations/城市管理执法办法.pdf\", \"page_num\": 8}]}'}\n",
      "{'role': 'assistant', 'content': '根据您提供的查询语句，我找到了城市管理执法第三章，第十三条的相关内容。具体如下：\\n\\n住房和城乡建设部规章中，城市管理执法第三章，第十三条规定：“城市管理执法主管部门应当加强城市管理法律法规规章的宣传普及工作，增强全民守法意识，共同维护城市管理秩序。”\\n\\n以上信息仅供参考，具体内容请以官方发布的文件为准。如果您还有其他问题或需要进一步的帮助，请随时告诉我。', 'function_call': None}\n"
     ]
    }
   ],
   "source": [
    "llm = ERNIEBot(model=\"ernie-bot-8k\")\n",
    "memory = WholeMemory()\n",
    "agent = FunctionalAgent(llm=llm, tools=[tool], memory=memory)\n",
    "query = \"城乡建设部规章中，城市管理执法第三章，第十三条是什么？\"\n",
    "response = await agent.async_run(query)\n",
    "messages = response.chat_history\n",
    "for item in messages:\n",
    "    print(item.to_dict())"
   ]
  }
 ],
 "metadata": {
  "kernelspec": {
   "display_name": "Python 3 (ipykernel)",
   "language": "python",
   "name": "python3"
  },
  "language_info": {
   "codemirror_mode": {
    "name": "ipython",
    "version": 3
   },
   "file_extension": ".py",
   "mimetype": "text/x-python",
   "name": "python",
   "nbconvert_exporter": "python",
   "pygments_lexer": "ipython3",
   "version": "3.11.5"
  }
 },
 "nbformat": 4,
 "nbformat_minor": 5
}
