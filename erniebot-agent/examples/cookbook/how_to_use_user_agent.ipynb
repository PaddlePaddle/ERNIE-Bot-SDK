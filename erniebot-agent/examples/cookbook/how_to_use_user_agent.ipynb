{
 "cells": [
  {
   "cell_type": "markdown",
   "metadata": {
    "collapsed": true,
    "pycharm": {
     "name": "#%% md\n"
    }
   },
   "source": [
    "# 自动生成的代理聊天：通过任务执行、人工反馈来解决任务\n",
    "我们演示了如何使用 AssistantAgent 和 UserProxyAgent 通过人类反馈来解决问题。这里的 AssistantAgent 是一个基于 LLM 的代理，它可以利用LLM来解决问题。 UserProxyAgent 是一个代理，充当用户来判断AssistantAgent解决问题的方式是否正确。通过正确设置 human_input_mode，UserProxyAgent 还可以提示用户向 AssistantAgent 反馈。例如，当 human_input_mode 设置为“ALWAYS”时，UserProxyAgent 将始终提示用户反馈。当用户提供反馈时，UserProxyAgent 会将反馈直接传递给 AssistantAgent。当没有用户反馈时，UserProxyAgent将执行思考问题是否已经解决。"
   ]
  },
  {
   "cell_type": "markdown",
   "source": [
    "## 准备工作\n",
    "\n",
    "安装`erniebot-agent`\n",
    "```\n",
    "git clone https://github.com/PaddlePaddle/ERNIE-Bot-SDK.git\n",
    "cd erniebot-agent\n",
    "```"
   ],
   "metadata": {
    "collapsed": false
   }
  },
  {
   "cell_type": "markdown",
   "source": [
    "### 构建代理"
   ],
   "metadata": {
    "collapsed": false
   }
  },
  {
   "cell_type": "code",
   "execution_count": null,
   "outputs": [],
   "source": [
    "from  erniebot_agent.agents.user_proxy_agent import UserProxyAgent\n",
    "from erniebot_agent.agents.assistant_agent import AssistantAgent\n",
    "config_list ={'model': 'ernie-bot-4','api_type': 'aistudio',\n",
    "        'access_token':''}\n",
    "# create an AssistantAgent instance named \"assistant\"\n",
    "assistant = AssistantAgent(\n",
    "    name=\"assistant\",\n",
    "    llm_config=config_list\n",
    ")\n",
    "# create a UserProxyAgent instance named \"user_proxy\"\n",
    "user_proxy = UserProxyAgent(\n",
    "    name=\"user_proxy\",\n",
    "    human_input_mode=\"ALWAYS\",\n",
    "    is_termination_msg=lambda x: x.get(\"content\", \"\").rstrip().endswith(\"终止\"),\n",
    "    llm_config=config_list,\n",
    "    default_auto_reply=\"任务结束，仅仅输入'终止'\"\n",
    ")"
   ],
   "metadata": {
    "collapsed": false,
    "pycharm": {
     "name": "#%%\n"
    }
   }
  },
  {
   "cell_type": "markdown",
   "source": [
    "### 执行任务\n",
    "我们调用user_proxy代理的initiate_chat()方法来开始对话。当您运行下面的单元格时，系统会在收到assistant代理的消息后提示您提供反馈。如果您不提供任何反馈（直接按 Enter 键），user_proxy代理将尝试代表您判断任务是否完成，或者如果向assistant代理最后发送“TERMINATE”信号则终止的消息"
   ],
   "metadata": {
    "collapsed": false
   }
  },
  {
   "cell_type": "code",
   "execution_count": null,
   "outputs": [],
   "source": [
    "problem= \"\"\"\n",
    "如何写好一份关于机器学习的综述\n",
    "\"\"\"\n",
    "# the assistant receives a message from the user, which contains the task description\n",
    "user_proxy.initiate_chat(assistant, message=problem)\n"
   ],
   "metadata": {
    "collapsed": false,
    "pycharm": {
     "name": "#%%\n"
    }
   }
  }
 ],
 "metadata": {
  "kernelspec": {
   "display_name": "Python 3",
   "language": "python",
   "name": "python3"
  },
  "language_info": {
   "codemirror_mode": {
    "name": "ipython",
    "version": 2
   },
   "file_extension": ".py",
   "mimetype": "text/x-python",
   "name": "python",
   "nbconvert_exporter": "python",
   "pygments_lexer": "ipython2",
   "version": "2.7.6"
  }
 },
 "nbformat": 4,
 "nbformat_minor": 0
}